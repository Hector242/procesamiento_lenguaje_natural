{
 "cells": [
  {
   "cell_type": "code",
   "execution_count": 1,
   "metadata": {},
   "outputs": [],
   "source": [
    "import pandas as pd\n",
    "import matplotlib.pyplot as plt\n",
    "import seaborn as sns\n",
    "\n",
    "import multiprocessing\n",
    "from gensim.models import Word2Vec"
   ]
  },
  {
   "cell_type": "code",
   "execution_count": 2,
   "metadata": {},
   "outputs": [],
   "source": [
    "# Dataset de StephenKing\n",
    "# The Shining\n",
    "file_path = \"./StephenKing_books/Stephen_King_TheShining.txt\"\n",
    "\n",
    "with open(file_path, 'r', encoding='utf-8') as file:\n",
    "    book = file.read()"
   ]
  },
  {
   "cell_type": "code",
   "execution_count": 3,
   "metadata": {},
   "outputs": [],
   "source": [
    "# Preprocesamiento con spacy ya que le dataset\n",
    "# es texto denso sin signos y no esta divido en oraciones\n",
    "import spacy\n",
    "\n",
    "nlp = spacy.load('en_core_web_sm')\n",
    "doc = nlp(book)\n",
    "sentences = [sent.text for sent in doc.sents] # separamos por oraciones"
   ]
  },
  {
   "cell_type": "code",
   "execution_count": 4,
   "metadata": {},
   "outputs": [
    {
     "data": {
      "text/html": [
       "<div>\n",
       "<style scoped>\n",
       "    .dataframe tbody tr th:only-of-type {\n",
       "        vertical-align: middle;\n",
       "    }\n",
       "\n",
       "    .dataframe tbody tr th {\n",
       "        vertical-align: top;\n",
       "    }\n",
       "\n",
       "    .dataframe thead th {\n",
       "        text-align: right;\n",
       "    }\n",
       "</style>\n",
       "<table border=\"1\" class=\"dataframe\">\n",
       "  <thead>\n",
       "    <tr style=\"text-align: right;\">\n",
       "      <th></th>\n",
       "      <th>0</th>\n",
       "    </tr>\n",
       "  </thead>\n",
       "  <tbody>\n",
       "    <tr>\n",
       "      <th>0</th>\n",
       "      <td>This is for Joe Hill King who shines on My edi...</td>\n",
       "    </tr>\n",
       "    <tr>\n",
       "      <th>1</th>\n",
       "      <td>Some of the most beautiful resort hotels in th...</td>\n",
       "    </tr>\n",
       "    <tr>\n",
       "      <th>2</th>\n",
       "      <td>rang it was observed that the giddiest grew pa...</td>\n",
       "    </tr>\n",
       "    <tr>\n",
       "      <th>3</th>\n",
       "      <td>But when the echoes had fully ceased a light l...</td>\n",
       "    </tr>\n",
       "    <tr>\n",
       "      <th>4</th>\n",
       "      <td>E A POE The Masque of the Red Death</td>\n",
       "    </tr>\n",
       "    <tr>\n",
       "      <th>5</th>\n",
       "      <td>The sleep of reason breeds monsters GOYA</td>\n",
       "    </tr>\n",
       "    <tr>\n",
       "      <th>6</th>\n",
       "      <td>Itll shine when it shines FOLK SAYING Part One...</td>\n",
       "    </tr>\n",
       "    <tr>\n",
       "      <th>7</th>\n",
       "      <td>This had better be good you There was a red ca...</td>\n",
       "    </tr>\n",
       "    <tr>\n",
       "      <th>8</th>\n",
       "      <td>sorry I asked if your wife fully understood wh...</td>\n",
       "    </tr>\n",
       "    <tr>\n",
       "      <th>9</th>\n",
       "      <td>And theres your son of course He glanced down ...</td>\n",
       "    </tr>\n",
       "  </tbody>\n",
       "</table>\n",
       "</div>"
      ],
      "text/plain": [
       "                                                   0\n",
       "0  This is for Joe Hill King who shines on My edi...\n",
       "1  Some of the most beautiful resort hotels in th...\n",
       "2  rang it was observed that the giddiest grew pa...\n",
       "3  But when the echoes had fully ceased a light l...\n",
       "4                E A POE The Masque of the Red Death\n",
       "5           The sleep of reason breeds monsters GOYA\n",
       "6  Itll shine when it shines FOLK SAYING Part One...\n",
       "7  This had better be good you There was a red ca...\n",
       "8  sorry I asked if your wife fully understood wh...\n",
       "9  And theres your son of course He glanced down ..."
      ]
     },
     "execution_count": 4,
     "metadata": {},
     "output_type": "execute_result"
    }
   ],
   "source": [
    "# Visualizamos documentos en formato dataframe\n",
    "df = pd.DataFrame(sentences)\n",
    "df.head(10)"
   ]
  },
  {
   "cell_type": "code",
   "execution_count": 5,
   "metadata": {},
   "outputs": [
    {
     "name": "stdout",
     "output_type": "stream",
     "text": [
      "Cantidad de documentos: 3184\n"
     ]
    }
   ],
   "source": [
    "print(\"Cantidad de documentos:\", df.shape[0])"
   ]
  },
  {
   "cell_type": "code",
   "execution_count": 6,
   "metadata": {},
   "outputs": [],
   "source": [
    "# continuamos preprocesamiento con Keras para reducir pasos de limpiar texto\n",
    "# Recorrer todas las filas y transformar las oraciones en una secuencia de palabras\n",
    "from keras.preprocessing.text import text_to_word_sequence\n",
    "\n",
    "sentence_tokens = []\n",
    "for _, row in df[:None].iterrows():\n",
    "    sentence_tokens.append(text_to_word_sequence(row[0]))"
   ]
  },
  {
   "cell_type": "code",
   "execution_count": 64,
   "metadata": {},
   "outputs": [
    {
     "data": {
      "text/plain": [
       "['e', 'a', 'poe', 'the', 'masque', 'of', 'the', 'red', 'death']"
      ]
     },
     "execution_count": 64,
     "metadata": {},
     "output_type": "execute_result"
    }
   ],
   "source": [
    "sentence_tokens[4]"
   ]
  },
  {
   "cell_type": "markdown",
   "metadata": {},
   "source": [
    "### Creamos vectores (Word2Vec) "
   ]
  },
  {
   "cell_type": "code",
   "execution_count": 8,
   "metadata": {},
   "outputs": [],
   "source": [
    "from gensim.models.callbacks import CallbackAny2Vec\n",
    "# Durante el entrenamiento gensim por defecto no informa el \"loss\" en cada época\n",
    "# Sobrecargamos el callback para poder tener esta información\n",
    "class callback(CallbackAny2Vec):\n",
    "    \"\"\"\n",
    "    Callback to print loss after each epoch\n",
    "    \"\"\"\n",
    "    def __init__(self):\n",
    "        self.epoch = 0\n",
    "\n",
    "    def on_epoch_end(self, model):\n",
    "        loss = model.get_latest_training_loss()\n",
    "        if self.epoch == 0:\n",
    "            print('Loss after epoch {}: {}'.format(self.epoch, loss))\n",
    "        else:\n",
    "            print('Loss after epoch {}: {}'.format(self.epoch, loss- self.loss_previous_step))\n",
    "        self.epoch += 1\n",
    "        self.loss_previous_step = loss"
   ]
  },
  {
   "cell_type": "markdown",
   "metadata": {},
   "source": [
    "### Usamos CBOW"
   ]
  },
  {
   "cell_type": "code",
   "execution_count": 9,
   "metadata": {},
   "outputs": [],
   "source": [
    "# Crearmos el modelo generador de vectores\n",
    "# En este caso utilizaremos la estructura modelo Skipgram\n",
    "w2v_model_cbow = Word2Vec(min_count=10,    # frecuencia mínima de palabra para incluirla en el vocabulario\n",
    "                          window=2,       # cant de palabras antes y desp de la predicha\n",
    "                          vector_size=200,       # dimensionalidad de los vectores \n",
    "                          negative=30,    # cantidad de negative samples... 0 es no se usa\n",
    "                          workers=1,      # si tienen más cores pueden cambiar este valor\n",
    "                          sg=0)           # modelo 0:CBOW  1:skipgram"
   ]
  },
  {
   "cell_type": "code",
   "execution_count": 10,
   "metadata": {},
   "outputs": [],
   "source": [
    "# Obtener el vocabulario con los tokens\n",
    "w2v_model_cbow.build_vocab(sentence_tokens)"
   ]
  },
  {
   "cell_type": "code",
   "execution_count": 11,
   "metadata": {},
   "outputs": [
    {
     "name": "stdout",
     "output_type": "stream",
     "text": [
      "Cantidad de docs en el corpus: 3184\n",
      "Cantidad de palabras distintas en el corpus: 1609\n"
     ]
    }
   ],
   "source": [
    "# Cantidad de filas/docs encontradas en el corpus\n",
    "print(\"Cantidad de docs en el corpus:\", w2v_model_cbow.corpus_count)\n",
    "# Cantidad de words encontradas en el corpus\n",
    "print(\"Cantidad de palabras distintas en el corpus:\", len(w2v_model_cbow.wv.index_to_key))"
   ]
  },
  {
   "cell_type": "markdown",
   "metadata": {},
   "source": [
    "### Entrenar embeddings "
   ]
  },
  {
   "cell_type": "code",
   "execution_count": 12,
   "metadata": {},
   "outputs": [
    {
     "name": "stdout",
     "output_type": "stream",
     "text": [
      "Loss after epoch 0: 527371.6875\n",
      "Loss after epoch 1: 415514.9375\n",
      "Loss after epoch 2: 359852.125\n",
      "Loss after epoch 3: 338593.0\n",
      "Loss after epoch 4: 333357.5\n",
      "Loss after epoch 5: 313782.5\n",
      "Loss after epoch 6: 299610.25\n",
      "Loss after epoch 7: 296866.75\n",
      "Loss after epoch 8: 292653.5\n",
      "Loss after epoch 9: 288904.0\n",
      "Loss after epoch 10: 286467.25\n",
      "Loss after epoch 11: 282246.75\n",
      "Loss after epoch 12: 271484.25\n",
      "Loss after epoch 13: 259190.0\n",
      "Loss after epoch 14: 256163.5\n",
      "Loss after epoch 15: 253931.5\n",
      "Loss after epoch 16: 250922.5\n",
      "Loss after epoch 17: 249266.5\n",
      "Loss after epoch 18: 247022.5\n",
      "Loss after epoch 19: 244554.0\n",
      "Loss after epoch 20: 242661.0\n",
      "Loss after epoch 21: 241662.0\n",
      "Loss after epoch 22: 239163.5\n",
      "Loss after epoch 23: 237234.0\n",
      "Loss after epoch 24: 235124.5\n",
      "Loss after epoch 25: 232549.5\n",
      "Loss after epoch 26: 232647.0\n",
      "Loss after epoch 27: 231168.5\n",
      "Loss after epoch 28: 229596.5\n",
      "Loss after epoch 29: 226932.5\n",
      "Loss after epoch 30: 217072.0\n",
      "Loss after epoch 31: 216492.0\n",
      "Loss after epoch 32: 215334.0\n",
      "Loss after epoch 33: 213893.0\n",
      "Loss after epoch 34: 212937.0\n",
      "Loss after epoch 35: 212527.0\n",
      "Loss after epoch 36: 210806.0\n",
      "Loss after epoch 37: 209840.0\n",
      "Loss after epoch 38: 210024.0\n",
      "Loss after epoch 39: 209296.0\n",
      "Loss after epoch 40: 206479.0\n",
      "Loss after epoch 41: 206798.0\n",
      "Loss after epoch 42: 205434.0\n",
      "Loss after epoch 43: 204855.0\n",
      "Loss after epoch 44: 204321.0\n",
      "Loss after epoch 45: 204025.0\n",
      "Loss after epoch 46: 203158.0\n",
      "Loss after epoch 47: 202711.0\n",
      "Loss after epoch 48: 202659.0\n",
      "Loss after epoch 49: 201686.0\n",
      "Loss after epoch 50: 199900.0\n",
      "Loss after epoch 51: 200685.0\n",
      "Loss after epoch 52: 198974.0\n",
      "Loss after epoch 53: 199342.0\n",
      "Loss after epoch 54: 198889.0\n",
      "Loss after epoch 55: 197289.0\n",
      "Loss after epoch 56: 198095.0\n",
      "Loss after epoch 57: 196541.0\n",
      "Loss after epoch 58: 195368.0\n",
      "Loss after epoch 59: 195219.0\n",
      "Loss after epoch 60: 194000.0\n",
      "Loss after epoch 61: 193931.0\n",
      "Loss after epoch 62: 194488.0\n",
      "Loss after epoch 63: 193103.0\n",
      "Loss after epoch 64: 192771.0\n",
      "Loss after epoch 65: 192354.0\n",
      "Loss after epoch 66: 192319.0\n",
      "Loss after epoch 67: 190661.0\n",
      "Loss after epoch 68: 191429.0\n",
      "Loss after epoch 69: 190127.0\n",
      "Loss after epoch 70: 189057.0\n",
      "Loss after epoch 71: 178023.0\n",
      "Loss after epoch 72: 165118.0\n",
      "Loss after epoch 73: 163872.0\n",
      "Loss after epoch 74: 163936.0\n",
      "Loss after epoch 75: 163930.0\n",
      "Loss after epoch 76: 163154.0\n",
      "Loss after epoch 77: 162034.0\n",
      "Loss after epoch 78: 161324.0\n",
      "Loss after epoch 79: 161010.0\n",
      "Loss after epoch 80: 160268.0\n",
      "Loss after epoch 81: 159682.0\n",
      "Loss after epoch 82: 159422.0\n",
      "Loss after epoch 83: 159064.0\n",
      "Loss after epoch 84: 159238.0\n",
      "Loss after epoch 85: 158150.0\n",
      "Loss after epoch 86: 157786.0\n",
      "Loss after epoch 87: 157646.0\n",
      "Loss after epoch 88: 156580.0\n",
      "Loss after epoch 89: 156234.0\n",
      "Loss after epoch 90: 156144.0\n",
      "Loss after epoch 91: 154936.0\n",
      "Loss after epoch 92: 154768.0\n",
      "Loss after epoch 93: 154104.0\n",
      "Loss after epoch 94: 154134.0\n",
      "Loss after epoch 95: 153918.0\n",
      "Loss after epoch 96: 152276.0\n",
      "Loss after epoch 97: 152196.0\n",
      "Loss after epoch 98: 152578.0\n",
      "Loss after epoch 99: 151098.0\n"
     ]
    },
    {
     "data": {
      "text/plain": [
       "(9455568, 16309300)"
      ]
     },
     "execution_count": 12,
     "metadata": {},
     "output_type": "execute_result"
    }
   ],
   "source": [
    "# Entrenamos el modelo generador de vectores\n",
    "# Utilizamos nuestro callback\n",
    "w2v_model_cbow.train(sentence_tokens,\n",
    "                     total_examples=w2v_model_cbow.corpus_count,\n",
    "                     epochs=100,\n",
    "                     compute_loss = True,\n",
    "                     callbacks=[callback()]\n",
    "                     )"
   ]
  },
  {
   "cell_type": "markdown",
   "metadata": {},
   "source": [
    "### Evaluación"
   ]
  },
  {
   "cell_type": "code",
   "execution_count": 13,
   "metadata": {},
   "outputs": [
    {
     "data": {
      "text/plain": [
       "[('redrum', 0.3837184011936188),\n",
       " ('pounding', 0.37854453921318054),\n",
       " ('makes', 0.3435423672199249),\n",
       " ('cabinet', 0.33662939071655273),\n",
       " ('beyond', 0.33180898427963257),\n",
       " ('noise', 0.32834726572036743),\n",
       " ('awful', 0.3103261888027191),\n",
       " ('kind', 0.3061906695365906),\n",
       " ('muffled', 0.29882076382637024),\n",
       " ('lines', 0.28683823347091675)]"
      ]
     },
     "execution_count": 13,
     "metadata": {},
     "output_type": "execute_result"
    }
   ],
   "source": [
    "# Palabras que MÁS se relacionan con...:\n",
    "w2v_model_cbow.wv.most_similar(positive=[\"monsters\"], topn=10)"
   ]
  },
  {
   "cell_type": "code",
   "execution_count": 14,
   "metadata": {},
   "outputs": [
    {
     "data": {
      "text/plain": [
       "[('walking', 0.281059205532074),\n",
       " ('folks', 0.2758888006210327),\n",
       " ('youve', 0.26370149850845337),\n",
       " ('friends', 0.2614437937736511),\n",
       " ('jacky', 0.2571820914745331),\n",
       " ('wife', 0.25360968708992004),\n",
       " ('steps', 0.2260364294052124),\n",
       " ('twelve', 0.21330417692661285),\n",
       " ('harder', 0.20936912298202515),\n",
       " ('youll', 0.20380716025829315)]"
      ]
     },
     "execution_count": 14,
     "metadata": {},
     "output_type": "execute_result"
    }
   ],
   "source": [
    "# Palabras que Menos se relacionan con...:\n",
    "w2v_model_cbow.wv.most_similar(negative=[\"monsters\"], topn=10)"
   ]
  },
  {
   "cell_type": "code",
   "execution_count": 15,
   "metadata": {},
   "outputs": [
    {
     "data": {
      "text/plain": [
       "[('animal', 0.31758806109428406),\n",
       " ('funny', 0.28930795192718506),\n",
       " ('figure', 0.26031845808029175),\n",
       " ('lot', 0.24839335680007935),\n",
       " ('trouble', 0.23688240349292755),\n",
       " ('having', 0.23224827647209167),\n",
       " ('theres', 0.23146969079971313),\n",
       " ('certainly', 0.22833122313022614),\n",
       " ('full', 0.22530555725097656),\n",
       " ('different', 0.22289533913135529)]"
      ]
     },
     "execution_count": 15,
     "metadata": {},
     "output_type": "execute_result"
    }
   ],
   "source": [
    "# Palabras que MÁS se relacionan con...:\n",
    "w2v_model_cbow.wv.most_similar(positive=[\"ghost\"], topn=10)"
   ]
  },
  {
   "cell_type": "code",
   "execution_count": 16,
   "metadata": {},
   "outputs": [
    {
     "data": {
      "text/plain": [
       "[('stared', 0.27145329117774963),\n",
       " ('whirled', 0.2677803635597229),\n",
       " ('ran', 0.2627612352371216),\n",
       " ('shifted', 0.25799986720085144),\n",
       " ('stumbled', 0.25789520144462585),\n",
       " ('collapsed', 0.2463955134153366),\n",
       " ('continued', 0.24310851097106934),\n",
       " ('promised', 0.2421831488609314),\n",
       " ('glanced', 0.2414068728685379),\n",
       " ('onto', 0.2364109754562378)]"
      ]
     },
     "execution_count": 16,
     "metadata": {},
     "output_type": "execute_result"
    }
   ],
   "source": [
    "# Palabras que Menos se relacionan con...:\n",
    "w2v_model_cbow.wv.most_similar(negative=[\"ghost\"], topn=10)"
   ]
  },
  {
   "cell_type": "code",
   "execution_count": 17,
   "metadata": {},
   "outputs": [
    {
     "data": {
      "text/plain": [
       "[('jack', 0.4968011975288391),\n",
       " ('he', 0.48612746596336365),\n",
       " ('she', 0.44337594509124756),\n",
       " ('wendy', 0.4303872287273407),\n",
       " ('hallorann', 0.40921124815940857),\n",
       " ('daddy', 0.3704814016819),\n",
       " ('edmonds', 0.35048770904541016),\n",
       " ('him', 0.34431686997413635),\n",
       " ('tony', 0.3400289714336395),\n",
       " ('mother', 0.33276766538619995)]"
      ]
     },
     "execution_count": 17,
     "metadata": {},
     "output_type": "execute_result"
    }
   ],
   "source": [
    "# Palabras que MÁS se relacionan con...:\n",
    "w2v_model_cbow.wv.most_similar(positive=[\"danny\"], topn=10)"
   ]
  },
  {
   "cell_type": "code",
   "execution_count": 18,
   "metadata": {},
   "outputs": [
    {
     "data": {
      "text/plain": [
       "[('range', 0.2929755449295044),\n",
       " ('of', 0.2820560336112976),\n",
       " ('building', 0.2636813521385193),\n",
       " ('west', 0.26235267519950867),\n",
       " ('marked', 0.2459445595741272),\n",
       " ('thousand', 0.23162025213241577),\n",
       " ('human', 0.23076224327087402),\n",
       " ('written', 0.23075534403324127),\n",
       " ('struck', 0.22104084491729736),\n",
       " ('hissing', 0.2194625586271286)]"
      ]
     },
     "execution_count": 18,
     "metadata": {},
     "output_type": "execute_result"
    }
   ],
   "source": [
    "# Palabras que Menos se relacionan con...:\n",
    "w2v_model_cbow.wv.most_similar(negative=[\"danny\"], topn=10)"
   ]
  },
  {
   "cell_type": "code",
   "execution_count": 32,
   "metadata": {},
   "outputs": [
    {
     "data": {
      "text/plain": [
       "[('danny', 1.0),\n",
       " ('jack', 0.4968011975288391),\n",
       " ('he', 0.48612746596336365),\n",
       " ('she', 0.44337594509124756),\n",
       " ('wendy', 0.4303872287273407),\n",
       " ('hallorann', 0.40921130776405334),\n",
       " ('daddy', 0.3704814016819),\n",
       " ('edmonds', 0.35048770904541016),\n",
       " ('him', 0.34431689977645874),\n",
       " ('tony', 0.3400289714336395)]"
      ]
     },
     "execution_count": 32,
     "metadata": {},
     "output_type": "execute_result"
    }
   ],
   "source": [
    "# el método `get_vector` permite obtener los vectores:\n",
    "vector_danny = w2v_model_cbow.wv.get_vector(\"danny\")\n",
    "# el método `most_similar` también permite comparar a partir de vectores\n",
    "w2v_model_cbow.wv.most_similar(vector_danny)"
   ]
  },
  {
   "cell_type": "code",
   "execution_count": 37,
   "metadata": {},
   "outputs": [
    {
     "data": {
      "text/plain": [
       "[('hotel', 1.0),\n",
       " ('overlook', 0.28946220874786377),\n",
       " ('town', 0.279313862323761),\n",
       " ('wing', 0.2580367624759674),\n",
       " ('place', 0.2465081810951233),\n",
       " ('hotels', 0.24398307502269745),\n",
       " ('roads', 0.2321082204580307),\n",
       " ('fire', 0.22380448877811432),\n",
       " ('trouble', 0.21784675121307373),\n",
       " ('window', 0.21416300535202026)]"
      ]
     },
     "execution_count": 37,
     "metadata": {},
     "output_type": "execute_result"
    }
   ],
   "source": [
    "# el método `get_vector` permite obtener los vectores:\n",
    "vector_hotel = w2v_model_cbow.wv.get_vector(\"hotel\")\n",
    "# el método `most_similar` también permite comparar a partir de vectores\n",
    "w2v_model_cbow.wv.most_similar(vector_hotel)"
   ]
  },
  {
   "cell_type": "code",
   "execution_count": 38,
   "metadata": {},
   "outputs": [
    {
     "data": {
      "text/plain": [
       "[('shining', 1.0),\n",
       " ('crash', 0.31426092982292175),\n",
       " ('picture', 0.254147469997406),\n",
       " ('yeah', 0.24933332204818726),\n",
       " ('understood', 0.24299338459968567),\n",
       " ('story', 0.23741285502910614),\n",
       " ('gets', 0.23212751746177673),\n",
       " ('lion', 0.22786845266819),\n",
       " ('riding', 0.22074149549007416),\n",
       " ('hedge', 0.2204970270395279)]"
      ]
     },
     "execution_count": 38,
     "metadata": {},
     "output_type": "execute_result"
    }
   ],
   "source": [
    "# el método `get_vector` permite obtener los vectores:\n",
    "vector_shining = w2v_model_cbow.wv.get_vector(\"shining\")\n",
    "# el método `most_similar` también permite comparar a partir de vectores\n",
    "w2v_model_cbow.wv.most_similar(vector_shining)"
   ]
  },
  {
   "cell_type": "code",
   "execution_count": 39,
   "metadata": {},
   "outputs": [
    {
     "data": {
      "text/plain": [
       "[('shine', 1.0),\n",
       " ('know', 0.39431533217430115),\n",
       " ('worry', 0.3458254933357239),\n",
       " ('happened', 0.29749035835266113),\n",
       " ('talk', 0.2844362258911133),\n",
       " ('wake', 0.2786942720413208),\n",
       " ('pants', 0.27759525179862976),\n",
       " ('sometimes', 0.2772965729236603),\n",
       " ('tell', 0.2758985161781311),\n",
       " ('knows', 0.2758241295814514)]"
      ]
     },
     "execution_count": 39,
     "metadata": {},
     "output_type": "execute_result"
    }
   ],
   "source": [
    "# el método `get_vector` permite obtener los vectores:\n",
    "vector_shine = w2v_model_cbow.wv.get_vector(\"shine\")\n",
    "# el método `most_similar` también permite comparar a partir de vectores\n",
    "w2v_model_cbow.wv.most_similar(vector_shine)"
   ]
  },
  {
   "cell_type": "markdown",
   "metadata": {},
   "source": [
    "### Visualizamos agrupaciones de vectores"
   ]
  },
  {
   "cell_type": "code",
   "execution_count": 19,
   "metadata": {},
   "outputs": [],
   "source": [
    "from sklearn.decomposition import IncrementalPCA    \n",
    "from sklearn.manifold import TSNE                   \n",
    "import numpy as np                                  \n",
    "\n",
    "def reduce_dimensions(model, num_dimensions = 2 ):\n",
    "     \n",
    "    vectors = np.asarray(model.wv.vectors)\n",
    "    labels = np.asarray(model.wv.index_to_key)  \n",
    "\n",
    "    tsne = TSNE(n_components=num_dimensions, random_state=0)\n",
    "    vectors = tsne.fit_transform(vectors)\n",
    "\n",
    "    return vectors, labels"
   ]
  },
  {
   "cell_type": "code",
   "execution_count": 29,
   "metadata": {},
   "outputs": [
    {
     "data": {
      "application/vnd.plotly.v1+json": {
       "config": {
        "plotlyServerURL": "https://plot.ly"
       },
       "data": [
        {
         "hovertemplate": "x=%{x}<br>y=%{y}<br>text=%{text}<extra></extra>",
         "legendgroup": "",
         "marker": {
          "color": "#636efa",
          "symbol": "circle"
         },
         "mode": "markers+text",
         "name": "",
         "orientation": "v",
         "showlegend": false,
         "text": [
          "the",
          "and",
          "a",
          "he",
          "to",
          "of",
          "was",
          "his",
          "in",
          "it",
          "had",
          "that",
          "you",
          "on",
          "i",
          "she",
          "her",
          "him",
          "with",
          "at",
          "but",
          "danny",
          "up",
          "for",
          "said",
          "out",
          "jack",
          "as",
          "been",
          "all",
          "be",
          "like",
          "they",
          "there",
          "from",
          "would",
          "were",
          "back",
          "if",
          "them",
          "down",
          "not",
          "no",
          "one",
          "into",
          "what",
          "have",
          "when",
          "now",
          "could",
          "this",
          "over",
          "then",
          "its",
          "just",
          "your",
          "or",
          "by",
          "an",
          "wendy",
          "me",
          "is",
          "hallorann",
          "so",
          "get",
          "right",
          "again",
          "around",
          "do",
          "here",
          "about",
          "little",
          "come",
          "dont",
          "daddy",
          "my",
          "through",
          "time",
          "looked",
          "way",
          "only",
          "know",
          "more",
          "see",
          "hand",
          "go",
          "still",
          "door",
          "didnt",
          "two",
          "did",
          "thought",
          "got",
          "some",
          "off",
          "their",
          "who",
          "face",
          "came",
          "went",
          "how",
          "are",
          "too",
          "going",
          "head",
          "things",
          "even",
          "eyes",
          "something",
          "we",
          "where",
          "think",
          "before",
          "hotel",
          "away",
          "overlook",
          "began",
          "ullman",
          "after",
          "turned",
          "room",
          "boy",
          "never",
          "old",
          "long",
          "man",
          "because",
          "seemed",
          "snow",
          "put",
          "want",
          "hands",
          "might",
          "other",
          "than",
          "voice",
          "himself",
          "bad",
          "behind",
          "mr",
          "can",
          "three",
          "im",
          "yes",
          "thing",
          "much",
          "almost",
          "against",
          "which",
          "good",
          "made",
          "take",
          "well",
          "first",
          "looking",
          "will",
          "own",
          "sound",
          "left",
          "dannys",
          "last",
          "saw",
          "felt",
          "son",
          "tony",
          "sure",
          "torrance",
          "asked",
          "floor",
          "ill",
          "oh",
          "place",
          "those",
          "thats",
          "nothing",
          "knew",
          "very",
          "gone",
          "mind",
          "father",
          "another",
          "let",
          "maybe",
          "between",
          "small",
          "side",
          "moment",
          "feet",
          "tried",
          "god",
          "stood",
          "youre",
          "suddenly",
          "told",
          "mouth",
          "really",
          "why",
          "white",
          "look",
          "hard",
          "always",
          "make",
          "al",
          "night",
          "under",
          "big",
          "end",
          "mommy",
          "day",
          "wasnt",
          "light",
          "any",
          "open",
          "dark",
          "has",
          "took",
          "dead",
          "high",
          "front",
          "say",
          "both",
          "sir",
          "years",
          "coming",
          "jacks",
          "every",
          "hes",
          "course",
          "together",
          "enough",
          "please",
          "woman",
          "mallet",
          "mother",
          "wind",
          "later",
          "fell",
          "outside",
          "once",
          "while",
          "closed",
          "sometimes",
          "cant",
          "car",
          "thinking",
          "play",
          "each",
          "drink",
          "across",
          "seen",
          "couldnt",
          "called",
          "people",
          "arm",
          "stop",
          "hadnt",
          "tell",
          "remember",
          "until",
          "new",
          "stairs",
          "happened",
          "keep",
          "george",
          "ever",
          "heard",
          "along",
          "okay",
          "top",
          "kitchen",
          "ran",
          "elevator",
          "bed",
          "else",
          "sitting",
          "found",
          "black",
          "wanted",
          "better",
          "inside",
          "next",
          "red",
          "blood",
          "five",
          "hurt",
          "must",
          "standing",
          "life",
          "wife",
          "making",
          "job",
          "done",
          "help",
          "doc",
          "guess",
          "hair",
          "youll",
          "word",
          "pulled",
          "dick"
         ],
         "type": "scatter",
         "x": [
          -3.900416612625122,
          -2.2153029441833496,
          1.486142873764038,
          5.419904708862305,
          8.369712829589844,
          -2.3295717239379883,
          10.342500686645508,
          -6.104184627532959,
          -2.2792983055114746,
          6.5098466873168945,
          2.6574676036834717,
          6.279744625091553,
          8.450048446655273,
          -8.825281143188477,
          8.488122940063477,
          5.405642986297607,
          -6.12251091003418,
          7.289600849151611,
          -2.185127019882202,
          -2.055274486541748,
          6.233515739440918,
          5.355775833129883,
          -10.368307113647461,
          1.0893892049789429,
          1.965401530265808,
          -9.75844669342041,
          5.303548812866211,
          -0.028195533901453018,
          9.838224411010742,
          6.4733195304870605,
          11.149932861328125,
          3.2415828704833984,
          5.6058149337768555,
          6.540961265563965,
          -9.804800987243652,
          8.42038631439209,
          11.235817909240723,
          -9.04010009765625,
          6.126699447631836,
          7.4354567527771,
          -10.39528751373291,
          6.429183006286621,
          5.7772536277771,
          -3.5907094478607178,
          -9.905142784118652,
          7.244859218597412,
          11.258018493652344,
          0.726243257522583,
          -7.833745956420898,
          8.696786880493164,
          6.274242401123047,
          -8.823095321655273,
          -7.880624294281006,
          -0.7114372849464417,
          6.3165788650512695,
          -5.9009199142456055,
          1.7066603899002075,
          -9.053145408630371,
          1.5319403409957886,
          5.344752788543701,
          8.255732536315918,
          10.34456729888916,
          5.107985973358154,
          6.47463321685791,
          11.582159996032715,
          -1.0509979724884033,
          -0.8983299136161804,
          -7.740173816680908,
          11.403626441955566,
          6.969291687011719,
          5.696008205413818,
          2.0676779747009277,
          8.943435668945312,
          7.272740364074707,
          5.50781774520874,
          3.4772377014160156,
          -10.71879768371582,
          5.466779708862305,
          -3.337481737136841,
          -0.2757290005683899,
          2.0739903450012207,
          10.205968856811523,
          8.732943534851074,
          10.501961708068848,
          -8.696654319763184,
          9.63312816619873,
          2.4485762119293213,
          -5.667413234710693,
          7.259079456329346,
          1.0839351415634155,
          8.772528648376465,
          1.6002434492111206,
          -2.1850879192352295,
          2.043916940689087,
          -8.831887245178223,
          -2.47697114944458,
          6.801453113555908,
          -9.178540229797363,
          -3.727309465408325,
          -3.1601779460906982,
          7.815276622772217,
          11.376687049865723,
          8.180975914001465,
          6.8486199378967285,
          -9.489717483520508,
          7.294267177581787,
          5.351806640625,
          -8.437861442565918,
          7.3112335205078125,
          8.534390449523926,
          -1.3127374649047852,
          10.085390090942383,
          5.264283180236816,
          4.387537479400635,
          -7.366765975952148,
          6.995951175689697,
          -2.1265056133270264,
          4.223674297332764,
          -9.239007949829102,
          -5.03819465637207,
          -0.7328664064407349,
          0.9864869117736816,
          5.112295627593994,
          3.4252312183380127,
          8.302120208740234,
          4.899684906005859,
          6.218122959136963,
          6.407472133636475,
          -1.3939543962478638,
          -0.7838563919067383,
          10.644987106323242,
          -7.8404035568237305,
          8.3937349319458,
          0.3304586410522461,
          7.557317733764648,
          1.7939499616622925,
          0.6677255630493164,
          4.305783748626709,
          -1.396348476409912,
          5.303431987762451,
          8.918846130371094,
          0.5202993750572205,
          8.012588500976562,
          4.257193565368652,
          6.79016637802124,
          7.418313503265381,
          -8.745828628540039,
          -8.897747993469238,
          -4.125460624694824,
          4.930057048797607,
          1.3192766904830933,
          11.708161354064941,
          7.317068099975586,
          0.3028786778450012,
          -3.319612979888916,
          7.753388404846191,
          1.6740175485610962,
          -3.830336093902588,
          -5.050304889678955,
          -6.153349876403809,
          2.3177621364593506,
          -0.2652480900287628,
          1.1194003820419312,
          6.562981605529785,
          5.558285713195801,
          6.033071517944336,
          4.122719764709473,
          1.983769178390503,
          -6.89909029006958,
          8.403411865234375,
          3.7192986011505127,
          5.2879743576049805,
          0.0972726121544838,
          6.729401111602783,
          6.2265944480896,
          2.8162214756011963,
          4.053719520568848,
          -0.4739929139614105,
          -9.66118049621582,
          6.328587055206299,
          1.6338363885879517,
          9.063469886779785,
          1.3763904571533203,
          -8.014427185058594,
          -2.0495352745056152,
          -4.18756628036499,
          -5.050879955291748,
          -9.943655014038086,
          1.468653678894043,
          3.2542004585266113,
          -4.641415596008301,
          6.2806830406188965,
          -10.118873596191406,
          1.997118353843689,
          -9.126457214355469,
          6.287377834320068,
          6.828644752502441,
          0.30154895782470703,
          3.033756732940674,
          1.666688323020935,
          6.5410637855529785,
          11.304862022399902,
          6.4915900230407715,
          3.245374917984009,
          -7.896590709686279,
          -0.9772606492042542,
          6.604905605316162,
          5.316760540008545,
          4.04670524597168,
          10.358482360839844,
          0.08697222173213959,
          5.559196472167969,
          -6.132056713104248,
          -2.133911371231079,
          2.804664373397827,
          -2.92677640914917,
          -1.7987765073776245,
          -0.07685597985982895,
          -2.9687676429748535,
          10.177855491638184,
          0.5408937931060791,
          4.377488613128662,
          2.263967990875244,
          -3.775829553604126,
          -6.121860027313232,
          4.74037504196167,
          5.905182838439941,
          5.767673969268799,
          -3.1785857677459717,
          6.214144706726074,
          4.660543918609619,
          4.7775092124938965,
          -5.225510120391846,
          -2.947601079940796,
          -7.720664978027344,
          1.5884791612625122,
          -4.348876953125,
          -5.4435882568359375,
          0.31238844990730286,
          -9.124305725097656,
          -5.746007442474365,
          4.274824142456055,
          8.881264686584473,
          -7.8759965896606445,
          4.020954132080078,
          5.57931661605835,
          -5.307045936584473,
          7.194297790527344,
          -5.775883674621582,
          1.534744381904602,
          8.819084167480469,
          3.3320236206054688,
          0.8940577507019043,
          -9.557348251342773,
          1.9957000017166138,
          2.6381399631500244,
          10.575896263122559,
          10.449719429016113,
          -3.8315494060516357,
          0.7697754502296448,
          -5.716209411621094,
          2.3183794021606445,
          10.905671119689941,
          5.722149848937988,
          5.042816162109375,
          0.466921865940094,
          -2.7395715713500977,
          6.453502655029297,
          -7.291927337646484,
          -4.661118984222412,
          -3.752434015274048,
          -5.040956497192383,
          -6.260560512542725,
          5.169903755187988,
          -4.157989978790283,
          0.8513262867927551,
          -1.253259301185608,
          6.883508682250977,
          8.841882705688477,
          -0.48591580986976624,
          6.690889358520508,
          -3.219194173812866,
          -6.924151420593262,
          0.3520107567310333,
          11.155285835266113,
          8.190279960632324,
          -6.465127944946289,
          4.974249839782715,
          6.0263590812683105,
          -9.483421325683594,
          5.8280744552612305,
          2.0684309005737305,
          9.50618839263916,
          4.462247848510742,
          10.132482528686523,
          -9.15560245513916,
          8.352118492126465,
          4.832238674163818,
          -4.3925299644470215,
          4.836523056030273
         ],
         "xaxis": "x",
         "y": [
          -1.0798074007034302,
          0.04371035099029541,
          -2.3295421600341797,
          9.559258460998535,
          6.2669477462768555,
          -1.2457996606826782,
          -2.495612621307373,
          8.691478729248047,
          -0.3901369869709015,
          0.2847003638744354,
          10.14256763458252,
          -0.18279266357421875,
          4.851993083953857,
          -2.021151304244995,
          4.881228923797607,
          9.616250991821289,
          8.705958366394043,
          0.7719568014144897,
          0.09643497318029404,
          8.184104919433594,
          -0.21586062014102936,
          9.438727378845215,
          4.361224174499512,
          8.525165557861328,
          6.884267807006836,
          4.959409236907959,
          9.572145462036133,
          1.2487223148345947,
          -4.8992767333984375,
          -1.6090108156204224,
          0.8542527556419373,
          -0.43431660532951355,
          9.770403861999512,
          0.4773547351360321,
          -2.1411759853363037,
          7.030534744262695,
          -2.3663339614868164,
          4.323742866516113,
          0.05656315013766289,
          0.8543293476104736,
          4.341916561126709,
          0.09505787491798401,
          1.2096855640411377,
          -7.337853908538818,
          -1.5132731199264526,
          -0.10669014602899551,
          0.7866640090942383,
          9.931448936462402,
          7.929241180419922,
          7.041386127471924,
          -0.1468091458082199,
          -1.924303650856018,
          5.750118732452393,
          9.731468200683594,
          0.6643579602241516,
          9.02117919921875,
          -11.473580360412598,
          -4.3721747398376465,
          -2.541902780532837,
          9.69450855255127,
          4.639655113220215,
          -2.511267900466919,
          9.5198335647583,
          0.32354432344436646,
          2.26832914352417,
          1.8517097234725952,
          7.561774730682373,
          4.976248264312744,
          3.7160043716430664,
          1.232958197593689,
          2.268578052520752,
          -2.745750665664673,
          1.453487753868103,
          7.046080589294434,
          9.653615951538086,
          5.277737617492676,
          -2.300128936767578,
          -7.761104583740234,
          6.698894023895264,
          -2.576887369155884,
          1.0686907768249512,
          4.110754013061523,
          -3.4871184825897217,
          2.1064302921295166,
          1.2597097158432007,
          1.3307908773422241,
          5.23599910736084,
          -2.578558921813965,
          7.076265811920166,
          -10.509737968444824,
          6.976298809051514,
          3.974409341812134,
          5.723146438598633,
          -2.9106481075286865,
          5.978668212890625,
          -1.306667447090149,
          0.1657131016254425,
          2.7246432304382324,
          3.6907999515533447,
          5.511755466461182,
          -0.16294004023075104,
          -2.2481024265289307,
          -1.825942873954773,
          4.487680435180664,
          2.072675943374634,
          -1.221501350402832,
          -1.0494961738586426,
          1.2733839750289917,
          -0.10372097790241241,
          4.919119834899902,
          1.5417906045913696,
          3.984581708908081,
          -3.3757870197296143,
          -5.474985122680664,
          4.432854175567627,
          -0.43730705976486206,
          3.4024453163146973,
          8.753771781921387,
          -6.491494655609131,
          4.173709869384766,
          -6.435670375823975,
          -3.2511041164398193,
          7.209761142730713,
          -4.503410816192627,
          -5.668793678283691,
          -4.284149169921875,
          -0.40247485041618347,
          7.595665454864502,
          -2.2373461723327637,
          6.58350944519043,
          4.601251125335693,
          1.0644251108169556,
          7.211122512817383,
          -2.9323456287384033,
          -3.27557635307312,
          -0.4235912263393402,
          2.4027791023254395,
          -1.5520027875900269,
          3.883371114730835,
          3.981717586517334,
          6.789694309234619,
          -10.385322570800781,
          3.9809741973876953,
          6.648820400238037,
          -0.7579401731491089,
          -2.896737575531006,
          -3.676476001739502,
          -2.2061331272125244,
          -1.4445013999938965,
          -0.5854049324989319,
          5.334652900695801,
          2.6467552185058594,
          -2.0753700733184814,
          -1.1550830602645874,
          6.783772945404053,
          6.644524574279785,
          1.250795841217041,
          -4.916619300842285,
          6.107028007507324,
          8.604484558105469,
          -9.073858261108398,
          7.270484924316406,
          3.9475998878479004,
          -5.6504387855529785,
          9.268655776977539,
          2.9068262577056885,
          8.94841480255127,
          6.975325584411621,
          -3.5505528450012207,
          6.022795677185059,
          6.027840614318848,
          -7.249749660491943,
          -3.802133083343506,
          6.110556602478027,
          -1.7415990829467773,
          2.975517988204956,
          -0.5844161510467529,
          3.60758638381958,
          1.9377366304397583,
          -4.808042526245117,
          -2.2071518898010254,
          3.0423643589019775,
          -8.635310173034668,
          -2.251180648803711,
          -2.602203369140625,
          -2.6017706394195557,
          -5.3496246337890625,
          0.6520625948905945,
          4.033871173858643,
          6.38639497756958,
          6.784115314483643,
          3.4404141902923584,
          -3.968107223510742,
          4.462255477905273,
          0.5414263606071472,
          -0.30705803632736206,
          2.6503939628601074,
          -4.490460395812988,
          5.012241363525391,
          -0.5629842877388,
          -0.5867800116539001,
          2.500335931777954,
          2.3193001747131348,
          -3.6310412883758545,
          -2.2713449001312256,
          -7.072162628173828,
          -8.552741050720215,
          8.624141693115234,
          -9.655248641967773,
          -2.5142734050750732,
          -5.963871955871582,
          0.9221878051757812,
          1.7882399559020996,
          -3.3419439792633057,
          10.102892875671387,
          5.54249382019043,
          -2.067923069000244,
          -7.367874622344971,
          2.0505826473236084,
          3.830615997314453,
          0.5335758328437805,
          5.687399387359619,
          -10.390393257141113,
          1.900006651878357,
          8.766312599182129,
          -8.855746269226074,
          6.133016586303711,
          -1.883541464805603,
          -4.9298529624938965,
          -1.9711459875106812,
          6.030797004699707,
          -9.320794105529785,
          -4.195468902587891,
          9.976503372192383,
          -4.890086650848389,
          -10.191235542297363,
          3.677337408065796,
          4.729502201080322,
          2.1354289054870605,
          -0.4522518217563629,
          2.490781307220459,
          4.284360885620117,
          6.738029479980469,
          -0.18967963755130768,
          3.2032463550567627,
          1.4681270122528076,
          -1.6319819688796997,
          -6.477939128875732,
          1.8775402307510376,
          3.6519174575805664,
          6.8753228187561035,
          4.802518367767334,
          -5.410590648651123,
          1.2887438535690308,
          5.497322082519531,
          10.194689750671387,
          3.0144567489624023,
          3.6923930644989014,
          9.01856803894043,
          -6.958902359008789,
          0.1711765080690384,
          3.118161201477051,
          1.8038825988769531,
          9.849150657653809,
          -4.12688684463501,
          4.591853618621826,
          -2.2845497131347656,
          4.8433942794799805,
          -2.9743711948394775,
          -6.744612693786621,
          5.993865489959717,
          -4.572017192840576,
          -0.5995420813560486,
          0.23314617574214935,
          0.7917556762695312,
          7.222067832946777,
          -3.909553050994873,
          6.226480007171631,
          -3.3479092121124268,
          0.8074995279312134,
          -8.792803764343262,
          -3.642138719558716,
          0.465302050113678,
          -9.820786476135254,
          4.101088047027588,
          7.234685897827148,
          5.045105934143066,
          -6.425587177276611,
          -4.8513360023498535,
          -5.375626564025879,
          -4.019364356994629,
          3.1011314392089844,
          2.8402531147003174,
          5.956811428070068,
          4.914470195770264,
          2.4469265937805176,
          5.983480453491211,
          -3.482072591781616,
          4.652943134307861,
          4.471273899078369
         ],
         "yaxis": "y"
        }
       ],
       "layout": {
        "legend": {
         "tracegroupgap": 0
        },
        "margin": {
         "t": 60
        },
        "template": {
         "data": {
          "bar": [
           {
            "error_x": {
             "color": "#2a3f5f"
            },
            "error_y": {
             "color": "#2a3f5f"
            },
            "marker": {
             "line": {
              "color": "#E5ECF6",
              "width": 0.5
             },
             "pattern": {
              "fillmode": "overlay",
              "size": 10,
              "solidity": 0.2
             }
            },
            "type": "bar"
           }
          ],
          "barpolar": [
           {
            "marker": {
             "line": {
              "color": "#E5ECF6",
              "width": 0.5
             },
             "pattern": {
              "fillmode": "overlay",
              "size": 10,
              "solidity": 0.2
             }
            },
            "type": "barpolar"
           }
          ],
          "carpet": [
           {
            "aaxis": {
             "endlinecolor": "#2a3f5f",
             "gridcolor": "white",
             "linecolor": "white",
             "minorgridcolor": "white",
             "startlinecolor": "#2a3f5f"
            },
            "baxis": {
             "endlinecolor": "#2a3f5f",
             "gridcolor": "white",
             "linecolor": "white",
             "minorgridcolor": "white",
             "startlinecolor": "#2a3f5f"
            },
            "type": "carpet"
           }
          ],
          "choropleth": [
           {
            "colorbar": {
             "outlinewidth": 0,
             "ticks": ""
            },
            "type": "choropleth"
           }
          ],
          "contour": [
           {
            "colorbar": {
             "outlinewidth": 0,
             "ticks": ""
            },
            "colorscale": [
             [
              0,
              "#0d0887"
             ],
             [
              0.1111111111111111,
              "#46039f"
             ],
             [
              0.2222222222222222,
              "#7201a8"
             ],
             [
              0.3333333333333333,
              "#9c179e"
             ],
             [
              0.4444444444444444,
              "#bd3786"
             ],
             [
              0.5555555555555556,
              "#d8576b"
             ],
             [
              0.6666666666666666,
              "#ed7953"
             ],
             [
              0.7777777777777778,
              "#fb9f3a"
             ],
             [
              0.8888888888888888,
              "#fdca26"
             ],
             [
              1,
              "#f0f921"
             ]
            ],
            "type": "contour"
           }
          ],
          "contourcarpet": [
           {
            "colorbar": {
             "outlinewidth": 0,
             "ticks": ""
            },
            "type": "contourcarpet"
           }
          ],
          "heatmap": [
           {
            "colorbar": {
             "outlinewidth": 0,
             "ticks": ""
            },
            "colorscale": [
             [
              0,
              "#0d0887"
             ],
             [
              0.1111111111111111,
              "#46039f"
             ],
             [
              0.2222222222222222,
              "#7201a8"
             ],
             [
              0.3333333333333333,
              "#9c179e"
             ],
             [
              0.4444444444444444,
              "#bd3786"
             ],
             [
              0.5555555555555556,
              "#d8576b"
             ],
             [
              0.6666666666666666,
              "#ed7953"
             ],
             [
              0.7777777777777778,
              "#fb9f3a"
             ],
             [
              0.8888888888888888,
              "#fdca26"
             ],
             [
              1,
              "#f0f921"
             ]
            ],
            "type": "heatmap"
           }
          ],
          "heatmapgl": [
           {
            "colorbar": {
             "outlinewidth": 0,
             "ticks": ""
            },
            "colorscale": [
             [
              0,
              "#0d0887"
             ],
             [
              0.1111111111111111,
              "#46039f"
             ],
             [
              0.2222222222222222,
              "#7201a8"
             ],
             [
              0.3333333333333333,
              "#9c179e"
             ],
             [
              0.4444444444444444,
              "#bd3786"
             ],
             [
              0.5555555555555556,
              "#d8576b"
             ],
             [
              0.6666666666666666,
              "#ed7953"
             ],
             [
              0.7777777777777778,
              "#fb9f3a"
             ],
             [
              0.8888888888888888,
              "#fdca26"
             ],
             [
              1,
              "#f0f921"
             ]
            ],
            "type": "heatmapgl"
           }
          ],
          "histogram": [
           {
            "marker": {
             "pattern": {
              "fillmode": "overlay",
              "size": 10,
              "solidity": 0.2
             }
            },
            "type": "histogram"
           }
          ],
          "histogram2d": [
           {
            "colorbar": {
             "outlinewidth": 0,
             "ticks": ""
            },
            "colorscale": [
             [
              0,
              "#0d0887"
             ],
             [
              0.1111111111111111,
              "#46039f"
             ],
             [
              0.2222222222222222,
              "#7201a8"
             ],
             [
              0.3333333333333333,
              "#9c179e"
             ],
             [
              0.4444444444444444,
              "#bd3786"
             ],
             [
              0.5555555555555556,
              "#d8576b"
             ],
             [
              0.6666666666666666,
              "#ed7953"
             ],
             [
              0.7777777777777778,
              "#fb9f3a"
             ],
             [
              0.8888888888888888,
              "#fdca26"
             ],
             [
              1,
              "#f0f921"
             ]
            ],
            "type": "histogram2d"
           }
          ],
          "histogram2dcontour": [
           {
            "colorbar": {
             "outlinewidth": 0,
             "ticks": ""
            },
            "colorscale": [
             [
              0,
              "#0d0887"
             ],
             [
              0.1111111111111111,
              "#46039f"
             ],
             [
              0.2222222222222222,
              "#7201a8"
             ],
             [
              0.3333333333333333,
              "#9c179e"
             ],
             [
              0.4444444444444444,
              "#bd3786"
             ],
             [
              0.5555555555555556,
              "#d8576b"
             ],
             [
              0.6666666666666666,
              "#ed7953"
             ],
             [
              0.7777777777777778,
              "#fb9f3a"
             ],
             [
              0.8888888888888888,
              "#fdca26"
             ],
             [
              1,
              "#f0f921"
             ]
            ],
            "type": "histogram2dcontour"
           }
          ],
          "mesh3d": [
           {
            "colorbar": {
             "outlinewidth": 0,
             "ticks": ""
            },
            "type": "mesh3d"
           }
          ],
          "parcoords": [
           {
            "line": {
             "colorbar": {
              "outlinewidth": 0,
              "ticks": ""
             }
            },
            "type": "parcoords"
           }
          ],
          "pie": [
           {
            "automargin": true,
            "type": "pie"
           }
          ],
          "scatter": [
           {
            "fillpattern": {
             "fillmode": "overlay",
             "size": 10,
             "solidity": 0.2
            },
            "type": "scatter"
           }
          ],
          "scatter3d": [
           {
            "line": {
             "colorbar": {
              "outlinewidth": 0,
              "ticks": ""
             }
            },
            "marker": {
             "colorbar": {
              "outlinewidth": 0,
              "ticks": ""
             }
            },
            "type": "scatter3d"
           }
          ],
          "scattercarpet": [
           {
            "marker": {
             "colorbar": {
              "outlinewidth": 0,
              "ticks": ""
             }
            },
            "type": "scattercarpet"
           }
          ],
          "scattergeo": [
           {
            "marker": {
             "colorbar": {
              "outlinewidth": 0,
              "ticks": ""
             }
            },
            "type": "scattergeo"
           }
          ],
          "scattergl": [
           {
            "marker": {
             "colorbar": {
              "outlinewidth": 0,
              "ticks": ""
             }
            },
            "type": "scattergl"
           }
          ],
          "scattermapbox": [
           {
            "marker": {
             "colorbar": {
              "outlinewidth": 0,
              "ticks": ""
             }
            },
            "type": "scattermapbox"
           }
          ],
          "scatterpolar": [
           {
            "marker": {
             "colorbar": {
              "outlinewidth": 0,
              "ticks": ""
             }
            },
            "type": "scatterpolar"
           }
          ],
          "scatterpolargl": [
           {
            "marker": {
             "colorbar": {
              "outlinewidth": 0,
              "ticks": ""
             }
            },
            "type": "scatterpolargl"
           }
          ],
          "scatterternary": [
           {
            "marker": {
             "colorbar": {
              "outlinewidth": 0,
              "ticks": ""
             }
            },
            "type": "scatterternary"
           }
          ],
          "surface": [
           {
            "colorbar": {
             "outlinewidth": 0,
             "ticks": ""
            },
            "colorscale": [
             [
              0,
              "#0d0887"
             ],
             [
              0.1111111111111111,
              "#46039f"
             ],
             [
              0.2222222222222222,
              "#7201a8"
             ],
             [
              0.3333333333333333,
              "#9c179e"
             ],
             [
              0.4444444444444444,
              "#bd3786"
             ],
             [
              0.5555555555555556,
              "#d8576b"
             ],
             [
              0.6666666666666666,
              "#ed7953"
             ],
             [
              0.7777777777777778,
              "#fb9f3a"
             ],
             [
              0.8888888888888888,
              "#fdca26"
             ],
             [
              1,
              "#f0f921"
             ]
            ],
            "type": "surface"
           }
          ],
          "table": [
           {
            "cells": {
             "fill": {
              "color": "#EBF0F8"
             },
             "line": {
              "color": "white"
             }
            },
            "header": {
             "fill": {
              "color": "#C8D4E3"
             },
             "line": {
              "color": "white"
             }
            },
            "type": "table"
           }
          ]
         },
         "layout": {
          "annotationdefaults": {
           "arrowcolor": "#2a3f5f",
           "arrowhead": 0,
           "arrowwidth": 1
          },
          "autotypenumbers": "strict",
          "coloraxis": {
           "colorbar": {
            "outlinewidth": 0,
            "ticks": ""
           }
          },
          "colorscale": {
           "diverging": [
            [
             0,
             "#8e0152"
            ],
            [
             0.1,
             "#c51b7d"
            ],
            [
             0.2,
             "#de77ae"
            ],
            [
             0.3,
             "#f1b6da"
            ],
            [
             0.4,
             "#fde0ef"
            ],
            [
             0.5,
             "#f7f7f7"
            ],
            [
             0.6,
             "#e6f5d0"
            ],
            [
             0.7,
             "#b8e186"
            ],
            [
             0.8,
             "#7fbc41"
            ],
            [
             0.9,
             "#4d9221"
            ],
            [
             1,
             "#276419"
            ]
           ],
           "sequential": [
            [
             0,
             "#0d0887"
            ],
            [
             0.1111111111111111,
             "#46039f"
            ],
            [
             0.2222222222222222,
             "#7201a8"
            ],
            [
             0.3333333333333333,
             "#9c179e"
            ],
            [
             0.4444444444444444,
             "#bd3786"
            ],
            [
             0.5555555555555556,
             "#d8576b"
            ],
            [
             0.6666666666666666,
             "#ed7953"
            ],
            [
             0.7777777777777778,
             "#fb9f3a"
            ],
            [
             0.8888888888888888,
             "#fdca26"
            ],
            [
             1,
             "#f0f921"
            ]
           ],
           "sequentialminus": [
            [
             0,
             "#0d0887"
            ],
            [
             0.1111111111111111,
             "#46039f"
            ],
            [
             0.2222222222222222,
             "#7201a8"
            ],
            [
             0.3333333333333333,
             "#9c179e"
            ],
            [
             0.4444444444444444,
             "#bd3786"
            ],
            [
             0.5555555555555556,
             "#d8576b"
            ],
            [
             0.6666666666666666,
             "#ed7953"
            ],
            [
             0.7777777777777778,
             "#fb9f3a"
            ],
            [
             0.8888888888888888,
             "#fdca26"
            ],
            [
             1,
             "#f0f921"
            ]
           ]
          },
          "colorway": [
           "#636efa",
           "#EF553B",
           "#00cc96",
           "#ab63fa",
           "#FFA15A",
           "#19d3f3",
           "#FF6692",
           "#B6E880",
           "#FF97FF",
           "#FECB52"
          ],
          "font": {
           "color": "#2a3f5f"
          },
          "geo": {
           "bgcolor": "white",
           "lakecolor": "white",
           "landcolor": "#E5ECF6",
           "showlakes": true,
           "showland": true,
           "subunitcolor": "white"
          },
          "hoverlabel": {
           "align": "left"
          },
          "hovermode": "closest",
          "mapbox": {
           "style": "light"
          },
          "paper_bgcolor": "white",
          "plot_bgcolor": "#E5ECF6",
          "polar": {
           "angularaxis": {
            "gridcolor": "white",
            "linecolor": "white",
            "ticks": ""
           },
           "bgcolor": "#E5ECF6",
           "radialaxis": {
            "gridcolor": "white",
            "linecolor": "white",
            "ticks": ""
           }
          },
          "scene": {
           "xaxis": {
            "backgroundcolor": "#E5ECF6",
            "gridcolor": "white",
            "gridwidth": 2,
            "linecolor": "white",
            "showbackground": true,
            "ticks": "",
            "zerolinecolor": "white"
           },
           "yaxis": {
            "backgroundcolor": "#E5ECF6",
            "gridcolor": "white",
            "gridwidth": 2,
            "linecolor": "white",
            "showbackground": true,
            "ticks": "",
            "zerolinecolor": "white"
           },
           "zaxis": {
            "backgroundcolor": "#E5ECF6",
            "gridcolor": "white",
            "gridwidth": 2,
            "linecolor": "white",
            "showbackground": true,
            "ticks": "",
            "zerolinecolor": "white"
           }
          },
          "shapedefaults": {
           "line": {
            "color": "#2a3f5f"
           }
          },
          "ternary": {
           "aaxis": {
            "gridcolor": "white",
            "linecolor": "white",
            "ticks": ""
           },
           "baxis": {
            "gridcolor": "white",
            "linecolor": "white",
            "ticks": ""
           },
           "bgcolor": "#E5ECF6",
           "caxis": {
            "gridcolor": "white",
            "linecolor": "white",
            "ticks": ""
           }
          },
          "title": {
           "x": 0.05
          },
          "xaxis": {
           "automargin": true,
           "gridcolor": "white",
           "linecolor": "white",
           "ticks": "",
           "title": {
            "standoff": 15
           },
           "zerolinecolor": "white",
           "zerolinewidth": 2
          },
          "yaxis": {
           "automargin": true,
           "gridcolor": "white",
           "linecolor": "white",
           "ticks": "",
           "title": {
            "standoff": 15
           },
           "zerolinecolor": "white",
           "zerolinewidth": 2
          }
         }
        },
        "xaxis": {
         "anchor": "y",
         "domain": [
          0,
          1
         ],
         "title": {
          "text": "x"
         }
        },
        "yaxis": {
         "anchor": "x",
         "domain": [
          0,
          1
         ],
         "title": {
          "text": "y"
         }
        }
       }
      }
     },
     "metadata": {},
     "output_type": "display_data"
    }
   ],
   "source": [
    "# Graficar los embedddings en 2D\n",
    "import plotly.graph_objects as go\n",
    "import plotly.express as px\n",
    "\n",
    "vecs, labels = reduce_dimensions(w2v_model_cbow)\n",
    "\n",
    "MAX_WORDS=300\n",
    "fig = px.scatter(x=vecs[:MAX_WORDS,0], y=vecs[:MAX_WORDS,1], text=labels[:MAX_WORDS])\n",
    "fig.show() "
   ]
  },
  {
   "cell_type": "code",
   "execution_count": 30,
   "metadata": {},
   "outputs": [
    {
     "data": {
      "application/vnd.plotly.v1+json": {
       "config": {
        "plotlyServerURL": "https://plot.ly"
       },
       "data": [
        {
         "hovertemplate": "x=%{x}<br>y=%{y}<br>z=%{z}<br>text=%{text}<extra></extra>",
         "legendgroup": "",
         "marker": {
          "color": "#636efa",
          "size": 2,
          "symbol": "circle"
         },
         "mode": "markers+text",
         "name": "",
         "scene": "scene",
         "showlegend": false,
         "text": [
          "the",
          "and",
          "a",
          "he",
          "to",
          "of",
          "was",
          "his",
          "in",
          "it",
          "had",
          "that",
          "you",
          "on",
          "i",
          "she",
          "her",
          "him",
          "with",
          "at",
          "but",
          "danny",
          "up",
          "for",
          "said",
          "out",
          "jack",
          "as",
          "been",
          "all",
          "be",
          "like",
          "they",
          "there",
          "from",
          "would",
          "were",
          "back",
          "if",
          "them",
          "down",
          "not",
          "no",
          "one",
          "into",
          "what",
          "have",
          "when",
          "now",
          "could",
          "this",
          "over",
          "then",
          "its",
          "just",
          "your",
          "or",
          "by",
          "an",
          "wendy",
          "me",
          "is",
          "hallorann",
          "so",
          "get",
          "right",
          "again",
          "around",
          "do",
          "here",
          "about",
          "little",
          "come",
          "dont",
          "daddy",
          "my",
          "through",
          "time",
          "looked",
          "way",
          "only",
          "know",
          "more",
          "see",
          "hand",
          "go",
          "still",
          "door",
          "didnt",
          "two",
          "did",
          "thought",
          "got",
          "some",
          "off",
          "their",
          "who",
          "face",
          "came",
          "went",
          "how",
          "are",
          "too",
          "going",
          "head",
          "things",
          "even",
          "eyes",
          "something",
          "we",
          "where",
          "think",
          "before",
          "hotel",
          "away",
          "overlook",
          "began",
          "ullman",
          "after",
          "turned",
          "room",
          "boy",
          "never",
          "old",
          "long",
          "man",
          "because",
          "seemed",
          "snow",
          "put",
          "want",
          "hands",
          "might",
          "other",
          "than",
          "voice",
          "himself",
          "bad",
          "behind",
          "mr",
          "can",
          "three",
          "im",
          "yes",
          "thing",
          "much",
          "almost",
          "against",
          "which",
          "good",
          "made",
          "take",
          "well",
          "first",
          "looking",
          "will",
          "own",
          "sound",
          "left",
          "dannys",
          "last",
          "saw",
          "felt",
          "son",
          "tony",
          "sure",
          "torrance",
          "asked",
          "floor",
          "ill",
          "oh",
          "place",
          "those",
          "thats",
          "nothing",
          "knew",
          "very",
          "gone",
          "mind",
          "father",
          "another",
          "let",
          "maybe",
          "between",
          "small",
          "side",
          "moment",
          "feet",
          "tried",
          "god",
          "stood",
          "youre",
          "suddenly",
          "told",
          "mouth",
          "really",
          "why",
          "white",
          "look",
          "hard",
          "always",
          "make",
          "al",
          "night",
          "under",
          "big",
          "end",
          "mommy",
          "day",
          "wasnt",
          "light",
          "any",
          "open",
          "dark",
          "has",
          "took",
          "dead",
          "high",
          "front",
          "say",
          "both",
          "sir",
          "years",
          "coming",
          "jacks",
          "every",
          "hes",
          "course",
          "together",
          "enough",
          "please",
          "woman",
          "mallet",
          "mother",
          "wind",
          "later",
          "fell",
          "outside",
          "once",
          "while",
          "closed",
          "sometimes",
          "cant",
          "car",
          "thinking",
          "play",
          "each",
          "drink",
          "across",
          "seen",
          "couldnt",
          "called",
          "people",
          "arm",
          "stop",
          "hadnt",
          "tell",
          "remember",
          "until",
          "new",
          "stairs",
          "happened",
          "keep",
          "george",
          "ever",
          "heard",
          "along",
          "okay",
          "top",
          "kitchen",
          "ran",
          "elevator",
          "bed",
          "else",
          "sitting",
          "found",
          "black",
          "wanted",
          "better",
          "inside",
          "next",
          "red",
          "blood",
          "five",
          "hurt",
          "must",
          "standing",
          "life",
          "wife",
          "making",
          "job",
          "done",
          "help",
          "doc",
          "guess",
          "hair",
          "youll",
          "word",
          "pulled",
          "dick"
         ],
         "type": "scatter3d",
         "x": [
          -23.880632400512695,
          -226.3351593017578,
          -6.689299583435059,
          10.04525375366211,
          40.52073669433594,
          -25.554834365844727,
          34.605796813964844,
          6.779935836791992,
          -27.724498748779297,
          10.11439323425293,
          35.12195587158203,
          10.8590669631958,
          52.7614860534668,
          -15.173233032226562,
          54.05451202392578,
          7.975161075592041,
          5.087743759155273,
          11.038299560546875,
          -22.01435661315918,
          27.69195556640625,
          16.124879837036133,
          15.567035675048828,
          -14.736859321594238,
          24.929309844970703,
          36.93238830566406,
          -38.06232833862305,
          13.54454517364502,
          13.454804420471191,
          27.635643005371094,
          1.4403382539749146,
          53.105648040771484,
          38.45197296142578,
          3.8072845935821533,
          6.132693767547607,
          -23.2327823638916,
          38.427005767822266,
          37.89678192138672,
          -31.760677337646484,
          10.707571983337402,
          15.12730884552002,
          -16.429258346557617,
          13.549506187438965,
          24.17502784729004,
          -13.66984748840332,
          -24.640972137451172,
          10.938937187194824,
          57.72206115722656,
          7.4655442237854,
          36.10633087158203,
          43.90514373779297,
          5.825004577636719,
          -53.01240158081055,
          -21.74065399169922,
          38.466880798339844,
          19.16649627685547,
          11.454699516296387,
          -29.228500366210938,
          -60.24885940551758,
          -11.013379096984863,
          8.987178802490234,
          52.26015853881836,
          29.532440185546875,
          13.501457214355469,
          13.72296142578125,
          64.2680435180664,
          -2.7380971908569336,
          41.45126724243164,
          -47.13853454589844,
          57.57002639770508,
          9.335537910461426,
          30.782854080200195,
          -10.106483459472656,
          56.68590545654297,
          36.4254035949707,
          11.485177993774414,
          31.183177947998047,
          3.7000229358673096,
          -21.455554962158203,
          19.203664779663086,
          1.5495370626449585,
          9.389190673828125,
          62.05741500854492,
          17.308998107910156,
          53.000179290771484,
          -34.96232223510742,
          62.08366012573242,
          46.70930099487305,
          -54.656524658203125,
          38.622982025146484,
          -35.54506301879883,
          45.10871124267578,
          23.78026008605957,
          18.652175903320312,
          7.987062931060791,
          15.10684585571289,
          -35.09117889404297,
          16.19638442993164,
          -43.460243225097656,
          -3.6877126693725586,
          7.612114429473877,
          14.140300750732422,
          44.14649963378906,
          26.749359130859375,
          34.244564056396484,
          -29.484115600585938,
          5.775685787200928,
          20.623281478881836,
          -37.78960037231445,
          6.4289045333862305,
          54.93484115600586,
          -12.826618194580078,
          50.41693878173828,
          38.70841979980469,
          -6.71466064453125,
          25.318567276000977,
          0.7506688237190247,
          26.103466033935547,
          36.24715042114258,
          -65.0752182006836,
          -1.1771646738052368,
          -46.47907638549805,
          -3.406744956970215,
          36.9744758605957,
          -18.187387466430664,
          14.14847183227539,
          3.2988967895507812,
          12.828815460205078,
          22.610675811767578,
          -12.959989547729492,
          41.188697814941406,
          59.85361099243164,
          -28.797639846801758,
          34.37714767456055,
          -25.743793487548828,
          16.23897933959961,
          4.963215351104736,
          15.809690475463867,
          11.366374015808105,
          5.981690406799316,
          20.36553192138672,
          50.35308837890625,
          -42.17831802368164,
          51.065311431884766,
          44.49941635131836,
          -2.089411735534668,
          17.722496032714844,
          3.694136142730713,
          -18.765392303466797,
          -13.991913795471191,
          13.572875022888184,
          38.96414566040039,
          61.46781539916992,
          9.142810821533203,
          4.183755874633789,
          27.888822555541992,
          36.3003044128418,
          -5.918752670288086,
          0.9975632429122925,
          -9.761639595031738,
          10.403752326965332,
          -30.150238037109375,
          36.06639099121094,
          19.654993057250977,
          -14.291433334350586,
          20.613361358642578,
          23.80879020690918,
          34.42980194091797,
          41.50150680541992,
          -33.52996063232422,
          42.31074905395508,
          43.29159164428711,
          -22.53554916381836,
          -18.062780380249023,
          43.531551361083984,
          4.417913913726807,
          31.010072708129883,
          10.711261749267578,
          2.9325931072235107,
          -34.31312561035156,
          -14.718828201293945,
          -3.8805668354034424,
          47.429840087890625,
          -32.47797393798828,
          -12.8905668258667,
          -57.243247985839844,
          -36.71025085449219,
          -27.923067092895508,
          -29.026029586791992,
          23.37366485595703,
          41.07666015625,
          -18.236446380615234,
          33.281700134277344,
          -5.220236301422119,
          34.7327766418457,
          -38.148284912109375,
          21.085128784179688,
          22.46746826171875,
          -25.467403411865234,
          50.97425079345703,
          -4.332936763763428,
          1.1924597024917603,
          50.20529556274414,
          19.142065048217773,
          -13.768721580505371,
          -18.81740379333496,
          -47.91286087036133,
          -14.49194049835205,
          29.3236141204834,
          -32.84523391723633,
          38.278343200683594,
          -44.07855224609375,
          25.835487365722656,
          -45.942718505859375,
          -26.784944534301758,
          33.545841217041016,
          10.674671173095703,
          -26.413015365600586,
          -36.13001251220703,
          -9.219106674194336,
          53.192073822021484,
          -2.1566851139068604,
          37.81172180175781,
          -22.35468292236328,
          -4.406897068023682,
          2.8491408824920654,
          -28.351280212402344,
          40.991737365722656,
          -3.2206616401672363,
          -17.59912872314453,
          0.3137407600879669,
          44.18662643432617,
          -38.03299331665039,
          -6.256247520446777,
          -18.454097747802734,
          3.773980140686035,
          -39.72383499145508,
          -10.106056213378906,
          -13.25786018371582,
          27.864648818969727,
          -14.136527061462402,
          -22.680931091308594,
          49.23562240600586,
          52.183616638183594,
          -24.265655517578125,
          32.231136322021484,
          31.157289505004883,
          -15.445324897766113,
          -7.740189552307129,
          11.989524841308594,
          26.15261459350586,
          46.598487854003906,
          52.16839599609375,
          -24.2362117767334,
          -36.12580108642578,
          39.8544807434082,
          37.930362701416016,
          51.27463912963867,
          61.02484893798828,
          20.8372859954834,
          -30.457218170166016,
          -32.91695022583008,
          25.70463752746582,
          48.17534637451172,
          9.652549743652344,
          4.0403523445129395,
          25.109699249267578,
          -40.321903228759766,
          44.88859939575195,
          -44.61512756347656,
          -61.56460189819336,
          17.795127868652344,
          -11.389531135559082,
          -4.420079231262207,
          8.4273099899292,
          -27.876506805419922,
          11.166441917419434,
          -0.31389477849006653,
          34.59300994873047,
          23.03138542175293,
          -66.30329895019531,
          22.96383285522461,
          -5.076295375823975,
          -10.332890510559082,
          -53.44293975830078,
          53.567440032958984,
          30.718875885009766,
          13.265921592712402,
          -30.98939323425293,
          -6.24431037902832,
          -54.58883285522461,
          -14.870187759399414,
          32.195709228515625,
          42.68800354003906,
          38.649356842041016,
          45.4858512878418,
          -25.815662384033203,
          44.18632888793945,
          -1.4974595308303833,
          -4.430782794952393,
          33.1967887878418
         ],
         "y": [
          -23.3403263092041,
          146.67764282226562,
          -16.904497146606445,
          42.341434478759766,
          -28.888208389282227,
          -19.359535217285156,
          16.788101196289062,
          64.0807113647461,
          -20.82341194152832,
          38.712608337402344,
          39.20823287963867,
          38.1274299621582,
          -24.373300552368164,
          -61.811767578125,
          -21.997215270996094,
          42.517642974853516,
          66.82735443115234,
          41.78261184692383,
          -3.929901599884033,
          -40.9597053527832,
          36.88618469238281,
          43.1637077331543,
          -55.83515548706055,
          13.977872848510742,
          -4.012660503387451,
          34.310333251953125,
          38.72816848754883,
          60.22364044189453,
          43.035579681396484,
          52.5453987121582,
          23.75202751159668,
          -42.249725341796875,
          44.43259811401367,
          34.752567291259766,
          -59.17362976074219,
          -22.34959602355957,
          22.17220687866211,
          53.46870422363281,
          30.1342830657959,
          46.9361686706543,
          -52.4924430847168,
          34.238426208496094,
          36.397239685058594,
          -36.29780197143555,
          -56.5981330871582,
          44.07956314086914,
          27.21474838256836,
          56.242305755615234,
          13.008968353271484,
          -19.361263275146484,
          36.635902404785156,
          -27.48042106628418,
          61.009620666503906,
          -46.280845642089844,
          37.994110107421875,
          60.65042495727539,
          41.188865661621094,
          -13.254049301147461,
          -15.406984329223633,
          37.59480285644531,
          -24.504995346069336,
          16.819787979125977,
          46.66123580932617,
          34.872196197509766,
          8.934720039367676,
          42.612606048583984,
          -28.469533920288086,
          26.22235107421875,
          -15.421212196350098,
          27.36603355407715,
          9.310330390930176,
          6.456573486328125,
          16.70172119140625,
          -8.353352546691895,
          48.22072219848633,
          -8.173434257507324,
          -59.910179138183594,
          22.40302276611328,
          -8.320183753967285,
          62.680450439453125,
          11.933752059936523,
          -5.767963886260986,
          41.240230560302734,
          3.4336740970611572,
          -33.19621658325195,
          14.256749153137207,
          44.806640625,
          -9.791706085205078,
          -4.824215888977051,
          31.23687171936035,
          -8.568521499633789,
          24.614091873168945,
          9.498838424682617,
          22.852861404418945,
          -51.49702835083008,
          9.677241325378418,
          41.109928131103516,
          -3.660702705383301,
          -3.510563611984253,
          2.3293521404266357,
          50.40110778808594,
          23.786483764648438,
          -5.122359752655029,
          -13.106480598449707,
          -13.153326034545898,
          44.87360382080078,
          27.049867630004883,
          -25.479564666748047,
          43.37078094482422,
          -28.689210891723633,
          46.07069396972656,
          -7.238501071929932,
          30.20398712158203,
          31.403955459594727,
          57.93473815917969,
          43.02599334716797,
          -30.895275115966797,
          16.498136520385742,
          11.73173713684082,
          -19.279165267944336,
          9.258212089538574,
          4.086503028869629,
          34.97370529174805,
          33.45082092285156,
          47.89536666870117,
          25.09282684326172,
          40.813140869140625,
          -35.42847442626953,
          -13.984208106994629,
          24.618711471557617,
          -11.474884986877441,
          -41.26966857910156,
          -20.202478408813477,
          12.475713729858398,
          24.565095901489258,
          -0.0736737996339798,
          27.45037078857422,
          3.6013121604919434,
          11.010114669799805,
          27.114038467407227,
          -17.441328048706055,
          43.97903823852539,
          19.70119857788086,
          -20.481935501098633,
          48.887325286865234,
          30.500381469726562,
          -59.19639205932617,
          -58.870460510253906,
          -32.723609924316406,
          22.843923568725586,
          13.550207138061523,
          20.816139221191406,
          34.90316390991211,
          -10.160662651062012,
          -1.6426266431808472,
          -20.075401306152344,
          48.140480041503906,
          -11.607789039611816,
          -5.8657379150390625,
          66.7520980834961,
          44.75861740112305,
          -13.17825698852539,
          16.725263595581055,
          55.49999237060547,
          44.64191436767578,
          -16.37942886352539,
          24.38035774230957,
          -1.1258482933044434,
          -32.044288635253906,
          -29.940229415893555,
          -14.215065002441406,
          30.837114334106445,
          -4.936384677886963,
          4.5427775382995605,
          44.20066833496094,
          9.945775985717773,
          1.9588998556137085,
          17.213642120361328,
          -12.413155555725098,
          49.41840362548828,
          -20.380748748779297,
          16.380149841308594,
          36.26553726196289,
          -47.2869987487793,
          -14.316823959350586,
          -18.39073944091797,
          29.03615379333496,
          -30.16497802734375,
          17.34653663635254,
          -25.90191078186035,
          10.227822303771973,
          -5.8239521980285645,
          58.431270599365234,
          19.499361038208008,
          -24.69822883605957,
          38.65764236450195,
          48.79682159423828,
          -42.017581939697266,
          -22.797231674194336,
          34.385047912597656,
          34.23362731933594,
          12.910517692565918,
          32.837982177734375,
          37.1180419921875,
          -54.36140823364258,
          5.996584415435791,
          -14.158864974975586,
          -1.8090333938598633,
          30.728130340576172,
          14.564383506774902,
          6.875163555145264,
          24.65968894958496,
          -31.07100486755371,
          -30.904464721679688,
          44.71626663208008,
          -0.7292696833610535,
          -6.10010290145874,
          22.35797691345215,
          1.996034026145935,
          -1.9621556997299194,
          30.373384475708008,
          -0.731834888458252,
          43.0555534362793,
          -13.480185508728027,
          61.42185974121094,
          18.31655502319336,
          -6.632313251495361,
          37.066471099853516,
          36.65089797973633,
          34.31700134277344,
          -6.778406620025635,
          26.367143630981445,
          -20.593870162963867,
          46.17669677734375,
          -38.15285110473633,
          50.17499542236328,
          -4.740909576416016,
          -5.346768379211426,
          -48.62672805786133,
          18.945375442504883,
          -7.928417205810547,
          36.95866012573242,
          -12.124612808227539,
          -44.59442901611328,
          -0.7706274390220642,
          -1.1403874158859253,
          -42.622493743896484,
          30.01592254638672,
          -56.744140625,
          17.709693908691406,
          -13.036194801330566,
          -14.49319839477539,
          8.258561134338379,
          -35.931190490722656,
          7.252026557922363,
          35.984561920166016,
          7.046751499176025,
          -1.2327922582626343,
          57.48363494873047,
          18.34475326538086,
          49.0550651550293,
          16.927127838134766,
          8.896048545837402,
          38.922996520996094,
          27.991151809692383,
          9.252481460571289,
          -28.803537368774414,
          -17.7875919342041,
          -34.21462631225586,
          0.08960501104593277,
          -0.3996734917163849,
          -5.0078558921813965,
          -45.05921173095703,
          22.622007369995117,
          -33.830020904541016,
          -9.011286735534668,
          -50.140846252441406,
          -0.3420942425727844,
          43.34515380859375,
          -10.970195770263672,
          -6.977465629577637,
          -35.555091857910156,
          -26.130489349365234,
          33.11228942871094,
          -4.446887016296387,
          -13.08028793334961,
          -48.96553039550781,
          20.843276977539062,
          55.06886672973633,
          -13.050274848937988,
          39.778263092041016,
          23.200593948364258,
          18.466642379760742,
          -13.233877182006836,
          -9.233022689819336,
          -22.93873405456543,
          -25.40134620666504,
          7.527372360229492,
          -13.455194473266602,
          -1.8445650339126587
         ],
         "z": [
          -21.811325073242188,
          85.93606567382812,
          -29.562570571899414,
          19.942441940307617,
          -31.51700210571289,
          -16.24987030029297,
          -37.44231414794922,
          -6.540811061859131,
          -9.72070598602295,
          0.9860424399375916,
          -13.531388282775879,
          -7.799600601196289,
          -12.10981273651123,
          0.9505479335784912,
          -15.019543647766113,
          23.786006927490234,
          -9.340296745300293,
          6.606364727020264,
          61.229736328125,
          21.451902389526367,
          -10.046514511108398,
          21.331682205200195,
          -24.748998641967773,
          -3.9523777961730957,
          27.864452362060547,
          39.75551223754883,
          23.839832305908203,
          14.5762300491333,
          -23.44544792175293,
          -11.244245529174805,
          -17.034656524658203,
          -23.692176818847656,
          19.125038146972656,
          6.1343560218811035,
          -12.023853302001953,
          -34.1374626159668,
          -41.1230583190918,
          13.47183609008789,
          -9.88432502746582,
          8.7315034866333,
          -29.899520874023438,
          -3.2865114212036133,
          0.4231455326080322,
          -47.4977912902832,
          27.0640869140625,
          -5.990177154541016,
          -18.593868255615234,
          -20.580493927001953,
          50.231895446777344,
          -35.039310455322266,
          -10.017946243286133,
          33.021907806396484,
          9.550527572631836,
          -11.550877571105957,
          9.435375213623047,
          -9.932028770446777,
          -37.34196472167969,
          26.506887435913086,
          -32.655731201171875,
          28.031789779663086,
          -5.782408714294434,
          -39.14173126220703,
          27.518667221069336,
          4.007078170776367,
          -7.632423400878906,
          30.252553939819336,
          31.611469268798828,
          34.77140808105469,
          -16.451934814453125,
          4.97290563583374,
          -27.80903434753418,
          -12.923768997192383,
          22.863113403320312,
          -43.71255874633789,
          18.22258758544922,
          9.737010955810547,
          -13.847723007202148,
          17.918193817138672,
          48.974971771240234,
          12.462919235229492,
          10.886759757995605,
          1.4898179769515991,
          -47.37220001220703,
          -7.54423189163208,
          31.961109161376953,
          14.162651062011719,
          10.184117317199707,
          -8.855025291442871,
          -40.75769805908203,
          -24.048213958740234,
          -37.45182800292969,
          19.71694564819336,
          39.12057113647461,
          -60.926971435546875,
          -17.199758529663086,
          10.498711585998535,
          -0.23851105570793152,
          46.148494720458984,
          30.112255096435547,
          40.7159423828125,
          -6.429989814758301,
          -38.843040466308594,
          -26.950801849365234,
          -12.516136169433594,
          43.8691520690918,
          -14.592816352844238,
          10.718565940856934,
          29.31984519958496,
          1.1900359392166138,
          -14.808981895446777,
          -44.77207946777344,
          7.815718650817871,
          24.943010330200195,
          -42.43049240112305,
          17.130924224853516,
          -5.867584705352783,
          4.206573486328125,
          -2.49932861328125,
          -14.33562183380127,
          35.67204666137695,
          -1.9635438919067383,
          -8.18681526184082,
          5.555262565612793,
          -28.580543518066406,
          -23.95298194885254,
          -34.73172378540039,
          -13.798544883728027,
          -24.70343589782715,
          -5.544531345367432,
          37.72525405883789,
          -7.046051025390625,
          32.94606018066406,
          -37.54692840576172,
          -0.2007356435060501,
          -51.505645751953125,
          -0.746239185333252,
          26.564985275268555,
          -34.436561584472656,
          64.6344985961914,
          -34.22282409667969,
          -30.962095260620117,
          -22.251848220825195,
          -29.839643478393555,
          22.70393180847168,
          1.8011993169784546,
          -44.979278564453125,
          -0.912070095539093,
          6.212292671203613,
          -24.2871150970459,
          -17.49905776977539,
          36.960994720458984,
          3.6547486782073975,
          -36.2994384765625,
          -38.96647644042969,
          51.98580551147461,
          -23.67980194091797,
          21.122034072875977,
          4.497029781341553,
          63.02518844604492,
          -2.2444512844085693,
          -6.884129047393799,
          47.005828857421875,
          32.43868637084961,
          1.7307407855987549,
          18.0509090423584,
          -14.976579666137695,
          -7.780330181121826,
          28.097457885742188,
          -26.343698501586914,
          -21.787145614624023,
          11.148082733154297,
          22.894832611083984,
          -18.652517318725586,
          -31.551082611083984,
          -31.4301815032959,
          0.5938891172409058,
          -11.98482608795166,
          42.904476165771484,
          35.68266296386719,
          10.347474098205566,
          -32.80210876464844,
          17.474365234375,
          -1.074154257774353,
          14.036816596984863,
          -29.618440628051758,
          -8.2030668258667,
          33.869911193847656,
          18.67072868347168,
          23.584867477416992,
          10.25821590423584,
          38.99253845214844,
          -19.860313415527344,
          25.936906814575195,
          24.70248794555664,
          20.94318389892578,
          -14.029111862182617,
          -12.044327735900879,
          -11.114683151245117,
          11.29488468170166,
          45.9991569519043,
          14.062187194824219,
          -2.1974518299102783,
          17.28639030456543,
          14.950536727905273,
          15.09683609008789,
          -11.441178321838379,
          -47.002262115478516,
          -2.7537336349487305,
          -37.536659240722656,
          -34.523502349853516,
          -19.36945343017578,
          -19.2620906829834,
          24.09209442138672,
          3.987811803817749,
          -11.872490882873535,
          48.85105514526367,
          -22.618328094482422,
          -29.056716918945312,
          25.661548614501953,
          1.6971766948699951,
          29.504793167114258,
          18.303741455078125,
          -21.588254928588867,
          20.690322875976562,
          -3.6694371700286865,
          -50.98257064819336,
          2.837459087371826,
          -24.654861450195312,
          42.904109954833984,
          -33.148197174072266,
          18.82539939880371,
          -46.97299575805664,
          13.57363224029541,
          20.674375534057617,
          -10.753180503845215,
          -14.13183307647705,
          33.940528869628906,
          52.41904830932617,
          -22.211641311645508,
          36.70392608642578,
          38.580501556396484,
          22.408798217773438,
          -31.445232391357422,
          14.18078899383545,
          -11.84807014465332,
          -52.54802322387695,
          -22.3549747467041,
          12.88455867767334,
          -7.874102592468262,
          16.56497573852539,
          -33.56820297241211,
          17.097339630126953,
          -30.61385726928711,
          22.11685562133789,
          23.773780822753906,
          -10.332544326782227,
          4.554502010345459,
          -3.6531529426574707,
          -20.391082763671875,
          -17.8007755279541,
          25.435394287109375,
          7.843235492706299,
          -10.94109058380127,
          15.209565162658691,
          -25.887889862060547,
          25.310382843017578,
          -41.87568283081055,
          -8.623692512512207,
          14.21554183959961,
          -11.82923412322998,
          54.615909576416016,
          15.165689468383789,
          19.61241340637207,
          -6.4190754890441895,
          -48.21681594848633,
          56.00263595581055,
          -38.63046646118164,
          -27.598764419555664,
          -36.660987854003906,
          -0.17868196964263916,
          -44.48604965209961,
          -13.684450149536133,
          6.39167594909668,
          -11.113430976867676,
          -12.018205642700195,
          -33.07278823852539,
          37.58075714111328,
          20.65630340576172,
          10.52188491821289,
          39.139892578125,
          0.5458018779754639,
          7.518248558044434,
          9.020092010498047,
          19.05587387084961,
          -4.3682990074157715,
          48.970767974853516,
          -20.280471801757812,
          -18.70349884033203,
          51.13972091674805,
          4.453427791595459
         ]
        }
       ],
       "layout": {
        "legend": {
         "tracegroupgap": 0
        },
        "margin": {
         "t": 60
        },
        "scene": {
         "domain": {
          "x": [
           0,
           1
          ],
          "y": [
           0,
           1
          ]
         },
         "xaxis": {
          "title": {
           "text": "x"
          }
         },
         "yaxis": {
          "title": {
           "text": "y"
          }
         },
         "zaxis": {
          "title": {
           "text": "z"
          }
         }
        },
        "template": {
         "data": {
          "bar": [
           {
            "error_x": {
             "color": "#2a3f5f"
            },
            "error_y": {
             "color": "#2a3f5f"
            },
            "marker": {
             "line": {
              "color": "#E5ECF6",
              "width": 0.5
             },
             "pattern": {
              "fillmode": "overlay",
              "size": 10,
              "solidity": 0.2
             }
            },
            "type": "bar"
           }
          ],
          "barpolar": [
           {
            "marker": {
             "line": {
              "color": "#E5ECF6",
              "width": 0.5
             },
             "pattern": {
              "fillmode": "overlay",
              "size": 10,
              "solidity": 0.2
             }
            },
            "type": "barpolar"
           }
          ],
          "carpet": [
           {
            "aaxis": {
             "endlinecolor": "#2a3f5f",
             "gridcolor": "white",
             "linecolor": "white",
             "minorgridcolor": "white",
             "startlinecolor": "#2a3f5f"
            },
            "baxis": {
             "endlinecolor": "#2a3f5f",
             "gridcolor": "white",
             "linecolor": "white",
             "minorgridcolor": "white",
             "startlinecolor": "#2a3f5f"
            },
            "type": "carpet"
           }
          ],
          "choropleth": [
           {
            "colorbar": {
             "outlinewidth": 0,
             "ticks": ""
            },
            "type": "choropleth"
           }
          ],
          "contour": [
           {
            "colorbar": {
             "outlinewidth": 0,
             "ticks": ""
            },
            "colorscale": [
             [
              0,
              "#0d0887"
             ],
             [
              0.1111111111111111,
              "#46039f"
             ],
             [
              0.2222222222222222,
              "#7201a8"
             ],
             [
              0.3333333333333333,
              "#9c179e"
             ],
             [
              0.4444444444444444,
              "#bd3786"
             ],
             [
              0.5555555555555556,
              "#d8576b"
             ],
             [
              0.6666666666666666,
              "#ed7953"
             ],
             [
              0.7777777777777778,
              "#fb9f3a"
             ],
             [
              0.8888888888888888,
              "#fdca26"
             ],
             [
              1,
              "#f0f921"
             ]
            ],
            "type": "contour"
           }
          ],
          "contourcarpet": [
           {
            "colorbar": {
             "outlinewidth": 0,
             "ticks": ""
            },
            "type": "contourcarpet"
           }
          ],
          "heatmap": [
           {
            "colorbar": {
             "outlinewidth": 0,
             "ticks": ""
            },
            "colorscale": [
             [
              0,
              "#0d0887"
             ],
             [
              0.1111111111111111,
              "#46039f"
             ],
             [
              0.2222222222222222,
              "#7201a8"
             ],
             [
              0.3333333333333333,
              "#9c179e"
             ],
             [
              0.4444444444444444,
              "#bd3786"
             ],
             [
              0.5555555555555556,
              "#d8576b"
             ],
             [
              0.6666666666666666,
              "#ed7953"
             ],
             [
              0.7777777777777778,
              "#fb9f3a"
             ],
             [
              0.8888888888888888,
              "#fdca26"
             ],
             [
              1,
              "#f0f921"
             ]
            ],
            "type": "heatmap"
           }
          ],
          "heatmapgl": [
           {
            "colorbar": {
             "outlinewidth": 0,
             "ticks": ""
            },
            "colorscale": [
             [
              0,
              "#0d0887"
             ],
             [
              0.1111111111111111,
              "#46039f"
             ],
             [
              0.2222222222222222,
              "#7201a8"
             ],
             [
              0.3333333333333333,
              "#9c179e"
             ],
             [
              0.4444444444444444,
              "#bd3786"
             ],
             [
              0.5555555555555556,
              "#d8576b"
             ],
             [
              0.6666666666666666,
              "#ed7953"
             ],
             [
              0.7777777777777778,
              "#fb9f3a"
             ],
             [
              0.8888888888888888,
              "#fdca26"
             ],
             [
              1,
              "#f0f921"
             ]
            ],
            "type": "heatmapgl"
           }
          ],
          "histogram": [
           {
            "marker": {
             "pattern": {
              "fillmode": "overlay",
              "size": 10,
              "solidity": 0.2
             }
            },
            "type": "histogram"
           }
          ],
          "histogram2d": [
           {
            "colorbar": {
             "outlinewidth": 0,
             "ticks": ""
            },
            "colorscale": [
             [
              0,
              "#0d0887"
             ],
             [
              0.1111111111111111,
              "#46039f"
             ],
             [
              0.2222222222222222,
              "#7201a8"
             ],
             [
              0.3333333333333333,
              "#9c179e"
             ],
             [
              0.4444444444444444,
              "#bd3786"
             ],
             [
              0.5555555555555556,
              "#d8576b"
             ],
             [
              0.6666666666666666,
              "#ed7953"
             ],
             [
              0.7777777777777778,
              "#fb9f3a"
             ],
             [
              0.8888888888888888,
              "#fdca26"
             ],
             [
              1,
              "#f0f921"
             ]
            ],
            "type": "histogram2d"
           }
          ],
          "histogram2dcontour": [
           {
            "colorbar": {
             "outlinewidth": 0,
             "ticks": ""
            },
            "colorscale": [
             [
              0,
              "#0d0887"
             ],
             [
              0.1111111111111111,
              "#46039f"
             ],
             [
              0.2222222222222222,
              "#7201a8"
             ],
             [
              0.3333333333333333,
              "#9c179e"
             ],
             [
              0.4444444444444444,
              "#bd3786"
             ],
             [
              0.5555555555555556,
              "#d8576b"
             ],
             [
              0.6666666666666666,
              "#ed7953"
             ],
             [
              0.7777777777777778,
              "#fb9f3a"
             ],
             [
              0.8888888888888888,
              "#fdca26"
             ],
             [
              1,
              "#f0f921"
             ]
            ],
            "type": "histogram2dcontour"
           }
          ],
          "mesh3d": [
           {
            "colorbar": {
             "outlinewidth": 0,
             "ticks": ""
            },
            "type": "mesh3d"
           }
          ],
          "parcoords": [
           {
            "line": {
             "colorbar": {
              "outlinewidth": 0,
              "ticks": ""
             }
            },
            "type": "parcoords"
           }
          ],
          "pie": [
           {
            "automargin": true,
            "type": "pie"
           }
          ],
          "scatter": [
           {
            "fillpattern": {
             "fillmode": "overlay",
             "size": 10,
             "solidity": 0.2
            },
            "type": "scatter"
           }
          ],
          "scatter3d": [
           {
            "line": {
             "colorbar": {
              "outlinewidth": 0,
              "ticks": ""
             }
            },
            "marker": {
             "colorbar": {
              "outlinewidth": 0,
              "ticks": ""
             }
            },
            "type": "scatter3d"
           }
          ],
          "scattercarpet": [
           {
            "marker": {
             "colorbar": {
              "outlinewidth": 0,
              "ticks": ""
             }
            },
            "type": "scattercarpet"
           }
          ],
          "scattergeo": [
           {
            "marker": {
             "colorbar": {
              "outlinewidth": 0,
              "ticks": ""
             }
            },
            "type": "scattergeo"
           }
          ],
          "scattergl": [
           {
            "marker": {
             "colorbar": {
              "outlinewidth": 0,
              "ticks": ""
             }
            },
            "type": "scattergl"
           }
          ],
          "scattermapbox": [
           {
            "marker": {
             "colorbar": {
              "outlinewidth": 0,
              "ticks": ""
             }
            },
            "type": "scattermapbox"
           }
          ],
          "scatterpolar": [
           {
            "marker": {
             "colorbar": {
              "outlinewidth": 0,
              "ticks": ""
             }
            },
            "type": "scatterpolar"
           }
          ],
          "scatterpolargl": [
           {
            "marker": {
             "colorbar": {
              "outlinewidth": 0,
              "ticks": ""
             }
            },
            "type": "scatterpolargl"
           }
          ],
          "scatterternary": [
           {
            "marker": {
             "colorbar": {
              "outlinewidth": 0,
              "ticks": ""
             }
            },
            "type": "scatterternary"
           }
          ],
          "surface": [
           {
            "colorbar": {
             "outlinewidth": 0,
             "ticks": ""
            },
            "colorscale": [
             [
              0,
              "#0d0887"
             ],
             [
              0.1111111111111111,
              "#46039f"
             ],
             [
              0.2222222222222222,
              "#7201a8"
             ],
             [
              0.3333333333333333,
              "#9c179e"
             ],
             [
              0.4444444444444444,
              "#bd3786"
             ],
             [
              0.5555555555555556,
              "#d8576b"
             ],
             [
              0.6666666666666666,
              "#ed7953"
             ],
             [
              0.7777777777777778,
              "#fb9f3a"
             ],
             [
              0.8888888888888888,
              "#fdca26"
             ],
             [
              1,
              "#f0f921"
             ]
            ],
            "type": "surface"
           }
          ],
          "table": [
           {
            "cells": {
             "fill": {
              "color": "#EBF0F8"
             },
             "line": {
              "color": "white"
             }
            },
            "header": {
             "fill": {
              "color": "#C8D4E3"
             },
             "line": {
              "color": "white"
             }
            },
            "type": "table"
           }
          ]
         },
         "layout": {
          "annotationdefaults": {
           "arrowcolor": "#2a3f5f",
           "arrowhead": 0,
           "arrowwidth": 1
          },
          "autotypenumbers": "strict",
          "coloraxis": {
           "colorbar": {
            "outlinewidth": 0,
            "ticks": ""
           }
          },
          "colorscale": {
           "diverging": [
            [
             0,
             "#8e0152"
            ],
            [
             0.1,
             "#c51b7d"
            ],
            [
             0.2,
             "#de77ae"
            ],
            [
             0.3,
             "#f1b6da"
            ],
            [
             0.4,
             "#fde0ef"
            ],
            [
             0.5,
             "#f7f7f7"
            ],
            [
             0.6,
             "#e6f5d0"
            ],
            [
             0.7,
             "#b8e186"
            ],
            [
             0.8,
             "#7fbc41"
            ],
            [
             0.9,
             "#4d9221"
            ],
            [
             1,
             "#276419"
            ]
           ],
           "sequential": [
            [
             0,
             "#0d0887"
            ],
            [
             0.1111111111111111,
             "#46039f"
            ],
            [
             0.2222222222222222,
             "#7201a8"
            ],
            [
             0.3333333333333333,
             "#9c179e"
            ],
            [
             0.4444444444444444,
             "#bd3786"
            ],
            [
             0.5555555555555556,
             "#d8576b"
            ],
            [
             0.6666666666666666,
             "#ed7953"
            ],
            [
             0.7777777777777778,
             "#fb9f3a"
            ],
            [
             0.8888888888888888,
             "#fdca26"
            ],
            [
             1,
             "#f0f921"
            ]
           ],
           "sequentialminus": [
            [
             0,
             "#0d0887"
            ],
            [
             0.1111111111111111,
             "#46039f"
            ],
            [
             0.2222222222222222,
             "#7201a8"
            ],
            [
             0.3333333333333333,
             "#9c179e"
            ],
            [
             0.4444444444444444,
             "#bd3786"
            ],
            [
             0.5555555555555556,
             "#d8576b"
            ],
            [
             0.6666666666666666,
             "#ed7953"
            ],
            [
             0.7777777777777778,
             "#fb9f3a"
            ],
            [
             0.8888888888888888,
             "#fdca26"
            ],
            [
             1,
             "#f0f921"
            ]
           ]
          },
          "colorway": [
           "#636efa",
           "#EF553B",
           "#00cc96",
           "#ab63fa",
           "#FFA15A",
           "#19d3f3",
           "#FF6692",
           "#B6E880",
           "#FF97FF",
           "#FECB52"
          ],
          "font": {
           "color": "#2a3f5f"
          },
          "geo": {
           "bgcolor": "white",
           "lakecolor": "white",
           "landcolor": "#E5ECF6",
           "showlakes": true,
           "showland": true,
           "subunitcolor": "white"
          },
          "hoverlabel": {
           "align": "left"
          },
          "hovermode": "closest",
          "mapbox": {
           "style": "light"
          },
          "paper_bgcolor": "white",
          "plot_bgcolor": "#E5ECF6",
          "polar": {
           "angularaxis": {
            "gridcolor": "white",
            "linecolor": "white",
            "ticks": ""
           },
           "bgcolor": "#E5ECF6",
           "radialaxis": {
            "gridcolor": "white",
            "linecolor": "white",
            "ticks": ""
           }
          },
          "scene": {
           "xaxis": {
            "backgroundcolor": "#E5ECF6",
            "gridcolor": "white",
            "gridwidth": 2,
            "linecolor": "white",
            "showbackground": true,
            "ticks": "",
            "zerolinecolor": "white"
           },
           "yaxis": {
            "backgroundcolor": "#E5ECF6",
            "gridcolor": "white",
            "gridwidth": 2,
            "linecolor": "white",
            "showbackground": true,
            "ticks": "",
            "zerolinecolor": "white"
           },
           "zaxis": {
            "backgroundcolor": "#E5ECF6",
            "gridcolor": "white",
            "gridwidth": 2,
            "linecolor": "white",
            "showbackground": true,
            "ticks": "",
            "zerolinecolor": "white"
           }
          },
          "shapedefaults": {
           "line": {
            "color": "#2a3f5f"
           }
          },
          "ternary": {
           "aaxis": {
            "gridcolor": "white",
            "linecolor": "white",
            "ticks": ""
           },
           "baxis": {
            "gridcolor": "white",
            "linecolor": "white",
            "ticks": ""
           },
           "bgcolor": "#E5ECF6",
           "caxis": {
            "gridcolor": "white",
            "linecolor": "white",
            "ticks": ""
           }
          },
          "title": {
           "x": 0.05
          },
          "xaxis": {
           "automargin": true,
           "gridcolor": "white",
           "linecolor": "white",
           "ticks": "",
           "title": {
            "standoff": 15
           },
           "zerolinecolor": "white",
           "zerolinewidth": 2
          },
          "yaxis": {
           "automargin": true,
           "gridcolor": "white",
           "linecolor": "white",
           "ticks": "",
           "title": {
            "standoff": 15
           },
           "zerolinecolor": "white",
           "zerolinewidth": 2
          }
         }
        }
       }
      }
     },
     "metadata": {},
     "output_type": "display_data"
    }
   ],
   "source": [
    "# Graficar los embedddings en 3D\n",
    "\n",
    "vecs, labels = reduce_dimensions(w2v_model_cbow,3)\n",
    "\n",
    "fig = px.scatter_3d(x=vecs[:MAX_WORDS,0], y=vecs[:MAX_WORDS,1], z=vecs[:MAX_WORDS,2],text=labels[:MAX_WORDS])\n",
    "fig.update_traces(marker_size = 2)\n",
    "fig.show()"
   ]
  },
  {
   "cell_type": "markdown",
   "metadata": {},
   "source": [
    "**Analisis**\n",
    "\n",
    "Como se observa se hizo un embedding utilizando Gensim y el corpus fue del famoso libro de Stephen King - The Shining. Para el embedding se utilizo Word2Vec con el algoritmo de CBOW, donde, se entreno con un total de 100 epocas, un corpus 3184 y 1609 palabras en el vocabulario.\n",
    "\n",
    "Se analizo el corpus y se buscaron esas palabras que se agrupan por su similitud. Entre los mejores resultados tenemos las siguientes:\n",
    "\n",
    "* \"danny\" - que como sabemos es el nombre de uno de los personajes que hace referencia al niño que tenía la habilidad (shine). Se puede observar que CBOW es capaz de agruparlo por similitud con los nombres de otros personajes con \n",
    "\n",
    "1. ('jack', 0.4968011975288391),\n",
    "2. ('he', 0.48612746596336365),\n",
    "3. ('she', 0.44337594509124756),\n",
    "4. ('wendy', 0.4303872287273407),\n",
    "5. ('hallorann', 0.40921124815940857),\n",
    "6. ('daddy', 0.3704814016819),\n",
    "7. ('edmonds', 0.35048770904541016),\n",
    "8. ('him', 0.34431686997413635),\n",
    "9. ('tony', 0.3400289714336395),\n",
    "10. ('mother', 0.33276766538619995)\n",
    "\n",
    "Comparandolo a nivel de vectores vemos un resultado muy parecido\n",
    "\n",
    "1. ('danny', 1.0),\n",
    "2. ('jack', 0.4968011975288391),\n",
    "3. ('he', 0.48612746596336365),\n",
    "4. ('she', 0.44337594509124756),\n",
    "5. ('wendy', 0.4303872287273407),\n",
    "6. ('hallorann', 0.40921130776405334),\n",
    "7. ('daddy', 0.3704814016819),\n",
    "8. ('edmonds', 0.35048770904541016),\n",
    "9. ('him', 0.34431689977645874),\n",
    "10. ('tony', 0.3400289714336395)\n",
    "\n",
    "* \"hotel\" - es otra de las palabras que CBOW es capaz de asociar bien. Sabiendo que es el lugar donde se desarrolla la historia observamos que las palabras que agrupa el algoritmo son palabras que describen en si el hotel.\n",
    "\n",
    "1. ('hotel', 1.0),\n",
    "2. ('overlook', 0.28946220874786377),\n",
    "3. ('town', 0.279313862323761),\n",
    "4. ('wing', 0.2580367624759674),\n",
    "5. ('place', 0.2465081810951233),\n",
    "6. ('hotels', 0.24398307502269745),\n",
    "7. ('roads', 0.2321082204580307),\n",
    "7. ('fire', 0.22380448877811432),\n",
    "8. ('trouble', 0.21784675121307373),\n",
    "9. ('window', 0.21416300535202026)\n",
    "\n",
    "* \"Shine\" y \"Shining\" - Tambien se considera que tuvo una buena agrupación por parte del algoritmo. Recordando una de las frases famosas:\n",
    "\n",
    "\"People who shine can sometimes see things that are gonna happen, and I think sometimes they can see things that did happen. But they’re just like pictures in a book\".\n",
    "\n",
    "vemos que nos da el vector \"Shine\":\n",
    "\n",
    "1. ('shine', 1.0),\n",
    "2. ('know', 0.39431533217430115),\n",
    "3. ('worry', 0.3458254933357239),\n",
    "4. ('happened', 0.29749035835266113),\n",
    "5. ('talk', 0.2844362258911133),\n",
    "6. ('wake', 0.2786942720413208),\n",
    "7. ('pants', 0.27759525179862976),\n",
    "8. ('sometimes', 0.2772965729236603),\n",
    "9. ('tell', 0.2758985161781311),\n",
    "10. ('knows', 0.2758241295814514)\n",
    "\n",
    "vemos que nos da el vector \"Shining\":\n",
    "\n",
    "1. ('shining', 1.0),\n",
    "2. ('crash', 0.31426092982292175),\n",
    "3. ('picture', 0.254147469997406),\n",
    "4. ('yeah', 0.24933332204818726),\n",
    "5. ('understood', 0.24299338459968567),\n",
    "6. ('story', 0.23741285502910614),\n",
    "7. ('gets', 0.23212751746177673),\n",
    "8. ('lion', 0.22786845266819),\n",
    "9. ('riding', 0.22074149549007416),\n",
    "10. ('hedge', 0.2204970270395279)\n",
    "\n",
    "Reduciendo a 2 dimensiones con TSNE se puede observar agrupaciones muy parecidas al momento de graficarlas en 2D y en 3D.\n",
    "\n",
    "Ahora probaremos las diferencias con skipgram."
   ]
  },
  {
   "cell_type": "markdown",
   "metadata": {},
   "source": [
    "### Con Skip-gram"
   ]
  },
  {
   "cell_type": "code",
   "execution_count": 40,
   "metadata": {},
   "outputs": [],
   "source": [
    "# Crearmos el modelo generador de vectores\n",
    "# En este caso utilizaremos la estructura modelo Skipgram\n",
    "w2v_model_skip = Word2Vec(min_count=10,    # frecuencia mínima de palabra para incluirla en el vocabulario\n",
    "                          window=2,       # cant de palabras antes y desp de la predicha\n",
    "                          vector_size=200,       # dimensionalidad de los vectores \n",
    "                          negative=30,    # cantidad de negative samples... 0 es no se usa\n",
    "                          workers=1,      # si tienen más cores pueden cambiar este valor\n",
    "                          sg=1)           # modelo 0:CBOW  1:skipgram"
   ]
  },
  {
   "cell_type": "code",
   "execution_count": 42,
   "metadata": {},
   "outputs": [
    {
     "name": "stdout",
     "output_type": "stream",
     "text": [
      "Cantidad de docs en el corpus: 3184\n",
      "Cantidad de palabras distintas en el corpus: 1609\n"
     ]
    }
   ],
   "source": [
    "# Obtener el vocabulario con los tokens\n",
    "w2v_model_skip.build_vocab(sentence_tokens)\n",
    "# Cantidad de filas/docs encontradas en el corpus\n",
    "print(\"Cantidad de docs en el corpus:\", w2v_model_skip.corpus_count)\n",
    "# Cantidad de words encontradas en el corpus\n",
    "print(\"Cantidad de palabras distintas en el corpus:\", len(w2v_model_skip.wv.index_to_key))"
   ]
  },
  {
   "cell_type": "code",
   "execution_count": 43,
   "metadata": {},
   "outputs": [
    {
     "name": "stdout",
     "output_type": "stream",
     "text": [
      "Loss after epoch 0: 1278796.0\n",
      "Loss after epoch 1: 968853.0\n",
      "Loss after epoch 2: 896639.5\n",
      "Loss after epoch 3: 887496.0\n",
      "Loss after epoch 4: 855720.5\n",
      "Loss after epoch 5: 843768.5\n",
      "Loss after epoch 6: 836997.0\n",
      "Loss after epoch 7: 834485.5\n",
      "Loss after epoch 8: 827252.5\n",
      "Loss after epoch 9: 801313.5\n",
      "Loss after epoch 10: 795642.0\n",
      "Loss after epoch 11: 787041.0\n",
      "Loss after epoch 12: 780698.0\n",
      "Loss after epoch 13: 778616.0\n",
      "Loss after epoch 14: 772387.0\n",
      "Loss after epoch 15: 767671.0\n",
      "Loss after epoch 16: 764182.0\n",
      "Loss after epoch 17: 762249.0\n",
      "Loss after epoch 18: 757942.0\n",
      "Loss after epoch 19: 753234.0\n",
      "Loss after epoch 20: 734772.0\n",
      "Loss after epoch 21: 732246.0\n",
      "Loss after epoch 22: 725888.0\n",
      "Loss after epoch 23: 726386.0\n",
      "Loss after epoch 24: 721374.0\n",
      "Loss after epoch 25: 715144.0\n",
      "Loss after epoch 26: 717236.0\n",
      "Loss after epoch 27: 715706.0\n",
      "Loss after epoch 28: 713530.0\n",
      "Loss after epoch 29: 708162.0\n",
      "Loss after epoch 30: 706644.0\n",
      "Loss after epoch 31: 707634.0\n",
      "Loss after epoch 32: 706134.0\n",
      "Loss after epoch 33: 703512.0\n",
      "Loss after epoch 34: 701172.0\n",
      "Loss after epoch 35: 701022.0\n",
      "Loss after epoch 36: 698598.0\n",
      "Loss after epoch 37: 695234.0\n",
      "Loss after epoch 38: 698102.0\n",
      "Loss after epoch 39: 696300.0\n",
      "Loss after epoch 40: 695510.0\n",
      "Loss after epoch 41: 694912.0\n",
      "Loss after epoch 42: 688838.0\n",
      "Loss after epoch 43: 696180.0\n",
      "Loss after epoch 44: 711436.0\n",
      "Loss after epoch 45: 710104.0\n",
      "Loss after epoch 46: 709384.0\n",
      "Loss after epoch 47: 710648.0\n",
      "Loss after epoch 48: 712264.0\n",
      "Loss after epoch 49: 707884.0\n",
      "Loss after epoch 50: 708464.0\n",
      "Loss after epoch 51: 704240.0\n",
      "Loss after epoch 52: 704360.0\n",
      "Loss after epoch 53: 702892.0\n",
      "Loss after epoch 54: 707332.0\n",
      "Loss after epoch 55: 701852.0\n",
      "Loss after epoch 56: 706624.0\n",
      "Loss after epoch 57: 701592.0\n",
      "Loss after epoch 58: 697052.0\n",
      "Loss after epoch 59: 700320.0\n",
      "Loss after epoch 60: 696984.0\n",
      "Loss after epoch 61: 700872.0\n",
      "Loss after epoch 62: 699548.0\n",
      "Loss after epoch 63: 693928.0\n",
      "Loss after epoch 64: 696836.0\n",
      "Loss after epoch 65: 693852.0\n",
      "Loss after epoch 66: 695148.0\n",
      "Loss after epoch 67: 693148.0\n",
      "Loss after epoch 68: 692260.0\n",
      "Loss after epoch 69: 690708.0\n",
      "Loss after epoch 70: 688492.0\n",
      "Loss after epoch 71: 691608.0\n",
      "Loss after epoch 72: 689484.0\n",
      "Loss after epoch 73: 684992.0\n",
      "Loss after epoch 74: 690148.0\n",
      "Loss after epoch 75: 687476.0\n",
      "Loss after epoch 76: 687268.0\n",
      "Loss after epoch 77: 683152.0\n",
      "Loss after epoch 78: 680900.0\n",
      "Loss after epoch 79: 683972.0\n",
      "Loss after epoch 80: 682576.0\n",
      "Loss after epoch 81: 682224.0\n",
      "Loss after epoch 82: 680784.0\n",
      "Loss after epoch 83: 680516.0\n",
      "Loss after epoch 84: 680292.0\n",
      "Loss after epoch 85: 676848.0\n",
      "Loss after epoch 86: 676868.0\n",
      "Loss after epoch 87: 680040.0\n",
      "Loss after epoch 88: 675644.0\n",
      "Loss after epoch 89: 678808.0\n",
      "Loss after epoch 90: 677132.0\n",
      "Loss after epoch 91: 673704.0\n",
      "Loss after epoch 92: 249048.0\n",
      "Loss after epoch 93: 177808.0\n",
      "Loss after epoch 94: 176752.0\n",
      "Loss after epoch 95: 177728.0\n",
      "Loss after epoch 96: 174480.0\n",
      "Loss after epoch 97: 174096.0\n",
      "Loss after epoch 98: 173304.0\n",
      "Loss after epoch 99: 170792.0\n"
     ]
    },
    {
     "data": {
      "text/plain": [
       "(9455568, 16309300)"
      ]
     },
     "execution_count": 43,
     "metadata": {},
     "output_type": "execute_result"
    }
   ],
   "source": [
    "# Entrenamos el modelo generador de vectores\n",
    "# Utilizamos nuestro callback\n",
    "w2v_model_skip.train(sentence_tokens,\n",
    "                     total_examples=w2v_model_skip.corpus_count,\n",
    "                     epochs=100,\n",
    "                     compute_loss = True,\n",
    "                     callbacks=[callback()]\n",
    "                     )"
   ]
  },
  {
   "cell_type": "code",
   "execution_count": 47,
   "metadata": {},
   "outputs": [
    {
     "data": {
      "text/plain": [
       "[('he', 0.46182015538215637),\n",
       " ('jack', 0.39433926343917847),\n",
       " ('it', 0.3686791956424713),\n",
       " ('him', 0.3543377220630646),\n",
       " ('she', 0.3417852520942688),\n",
       " ('wendy', 0.3271055817604065),\n",
       " ('and', 0.32683825492858887),\n",
       " ('hey', 0.3267696797847748),\n",
       " ('said', 0.32201066613197327),\n",
       " ('yes', 0.31284552812576294)]"
      ]
     },
     "execution_count": 47,
     "metadata": {},
     "output_type": "execute_result"
    }
   ],
   "source": [
    "# Palabras que MÁS se relacionan con...:\n",
    "w2v_model_skip.wv.most_similar(positive=[\"danny\"], topn=10)"
   ]
  },
  {
   "cell_type": "code",
   "execution_count": 48,
   "metadata": {},
   "outputs": [
    {
     "data": {
      "text/plain": [
       "[('pounding', 0.41447779536247253),\n",
       " ('opening', 0.39405521750450134),\n",
       " ('fear', 0.3847183585166931),\n",
       " ('shingles', 0.34984269738197327),\n",
       " ('makes', 0.34771138429641724),\n",
       " ('animal', 0.34745293855667114),\n",
       " ('cabinet', 0.3455350995063782),\n",
       " ('noise', 0.34542784094810486),\n",
       " ('mallet', 0.34138941764831543),\n",
       " ('booming', 0.3334644138813019)]"
      ]
     },
     "execution_count": 48,
     "metadata": {},
     "output_type": "execute_result"
    }
   ],
   "source": [
    "# Palabras que MÁS se relacionan con...:\n",
    "w2v_model_skip.wv.most_similar(positive=[\"monsters\"], topn=10)"
   ]
  },
  {
   "cell_type": "code",
   "execution_count": 49,
   "metadata": {},
   "outputs": [
    {
     "data": {
      "text/plain": [
       "[('dressed', 0.37305986881256104),\n",
       " ('older', 0.36076244711875916),\n",
       " ('fit', 0.3384249210357666),\n",
       " ('pieces', 0.3226546347141266),\n",
       " ('strange', 0.3153647780418396),\n",
       " ('havent', 0.3105677366256714),\n",
       " ('figure', 0.31036993861198425),\n",
       " ('closet', 0.30844971537590027),\n",
       " ('knows', 0.30795755982398987),\n",
       " ('bit', 0.30787134170532227)]"
      ]
     },
     "execution_count": 49,
     "metadata": {},
     "output_type": "execute_result"
    }
   ],
   "source": [
    "# Palabras que MÁS se relacionan con...:\n",
    "w2v_model_skip.wv.most_similar(positive=[\"ghost\"], topn=10)"
   ]
  },
  {
   "cell_type": "code",
   "execution_count": 51,
   "metadata": {},
   "outputs": [
    {
     "data": {
      "text/plain": [
       "[('danny', 0.9999999403953552),\n",
       " ('he', 0.46182015538215637),\n",
       " ('jack', 0.39433926343917847),\n",
       " ('it', 0.3686792254447937),\n",
       " ('him', 0.3543377220630646),\n",
       " ('she', 0.3417852520942688),\n",
       " ('wendy', 0.3271056115627289),\n",
       " ('and', 0.32683825492858887),\n",
       " ('hey', 0.32676970958709717),\n",
       " ('said', 0.32201069593429565)]"
      ]
     },
     "execution_count": 51,
     "metadata": {},
     "output_type": "execute_result"
    }
   ],
   "source": [
    "# el método `get_vector` permite obtener los vectores:\n",
    "vector_danny = w2v_model_skip.wv.get_vector(\"danny\")\n",
    "# el método `most_similar` también permite comparar a partir de vectores\n",
    "w2v_model_skip.wv.most_similar(vector_danny)"
   ]
  },
  {
   "cell_type": "code",
   "execution_count": 52,
   "metadata": {},
   "outputs": [
    {
     "data": {
      "text/plain": [
       "[('hotel', 1.0),\n",
       " ('miles', 0.31923189759254456),\n",
       " ('california', 0.29975125193595886),\n",
       " ('attic', 0.2970217764377594),\n",
       " ('overlook', 0.2909839451313019),\n",
       " ('truck', 0.28776901960372925),\n",
       " ('curb', 0.28609079122543335),\n",
       " ('says', 0.28508779406547546),\n",
       " ('hotels', 0.269979864358902),\n",
       " ('deserted', 0.26480311155319214)]"
      ]
     },
     "execution_count": 52,
     "metadata": {},
     "output_type": "execute_result"
    }
   ],
   "source": [
    "# el método `get_vector` permite obtener los vectores:\n",
    "vector_hotel = w2v_model_skip.wv.get_vector(\"hotel\")\n",
    "# el método `most_similar` también permite comparar a partir de vectores\n",
    "w2v_model_skip.wv.most_similar(vector_hotel)"
   ]
  },
  {
   "cell_type": "code",
   "execution_count": 53,
   "metadata": {},
   "outputs": [
    {
     "data": {
      "text/plain": [
       "[('shining', 1.0),\n",
       " ('yeah', 0.3078247308731079),\n",
       " ('riding', 0.29755479097366333),\n",
       " ('pencil', 0.2831701934337616),\n",
       " ('roger', 0.28232306241989136),\n",
       " ('wrong', 0.28060251474380493),\n",
       " ('understood', 0.28035518527030945),\n",
       " ('did', 0.27980566024780273),\n",
       " ('crash', 0.27871325612068176),\n",
       " ('quarter', 0.27858853340148926)]"
      ]
     },
     "execution_count": 53,
     "metadata": {},
     "output_type": "execute_result"
    }
   ],
   "source": [
    "# el método `get_vector` permite obtener los vectores:\n",
    "vector_shining = w2v_model_skip.wv.get_vector(\"shining\")\n",
    "# el método `most_similar` también permite comparar a partir de vectores\n",
    "w2v_model_skip.wv.most_similar(vector_shining)"
   ]
  },
  {
   "cell_type": "code",
   "execution_count": 54,
   "metadata": {},
   "outputs": [
    {
     "data": {
      "text/plain": [
       "[('shine', 0.9999999403953552),\n",
       " ('anyone', 0.3630369305610657),\n",
       " ('worry', 0.35454750061035156),\n",
       " ('wake', 0.34417858719825745),\n",
       " ('pants', 0.32322144508361816),\n",
       " ('happened', 0.3192065358161926),\n",
       " ('plane', 0.3176001310348511),\n",
       " ('answered', 0.31268855929374695),\n",
       " ('accident', 0.3011113703250885),\n",
       " ('known', 0.29653608798980713)]"
      ]
     },
     "execution_count": 54,
     "metadata": {},
     "output_type": "execute_result"
    }
   ],
   "source": [
    "# el método `get_vector` permite obtener los vectores:\n",
    "vector_shine = w2v_model_skip.wv.get_vector(\"shine\")\n",
    "# el método `most_similar` también permite comparar a partir de vectores\n",
    "w2v_model_skip.wv.most_similar(vector_shine)"
   ]
  },
  {
   "cell_type": "code",
   "execution_count": 55,
   "metadata": {},
   "outputs": [
    {
     "data": {
      "application/vnd.plotly.v1+json": {
       "config": {
        "plotlyServerURL": "https://plot.ly"
       },
       "data": [
        {
         "hovertemplate": "x=%{x}<br>y=%{y}<br>text=%{text}<extra></extra>",
         "legendgroup": "",
         "marker": {
          "color": "#636efa",
          "symbol": "circle"
         },
         "mode": "markers+text",
         "name": "",
         "orientation": "v",
         "showlegend": false,
         "text": [
          "the",
          "and",
          "a",
          "he",
          "to",
          "of",
          "was",
          "his",
          "in",
          "it",
          "had",
          "that",
          "you",
          "on",
          "i",
          "she",
          "her",
          "him",
          "with",
          "at",
          "but",
          "danny",
          "up",
          "for",
          "said",
          "out",
          "jack",
          "as",
          "been",
          "all",
          "be",
          "like",
          "they",
          "there",
          "from",
          "would",
          "were",
          "back",
          "if",
          "them",
          "down",
          "not",
          "no",
          "one",
          "into",
          "what",
          "have",
          "when",
          "now",
          "could",
          "this",
          "over",
          "then",
          "its",
          "just",
          "your",
          "or",
          "by",
          "an",
          "wendy",
          "me",
          "is",
          "hallorann",
          "so",
          "get",
          "right",
          "again",
          "around",
          "do",
          "here",
          "about",
          "little",
          "come",
          "dont",
          "daddy",
          "my",
          "through",
          "time",
          "looked",
          "way",
          "only",
          "know",
          "more",
          "see",
          "hand",
          "go",
          "still",
          "door",
          "didnt",
          "two",
          "did",
          "thought",
          "got",
          "some",
          "off",
          "their",
          "who",
          "face",
          "came",
          "went",
          "how",
          "are",
          "too",
          "going",
          "head",
          "things",
          "even",
          "eyes",
          "something",
          "we",
          "where",
          "think",
          "before",
          "hotel",
          "away",
          "overlook",
          "began",
          "ullman",
          "after",
          "turned",
          "room",
          "boy",
          "never",
          "old",
          "long",
          "man",
          "because",
          "seemed",
          "snow",
          "put",
          "want",
          "hands",
          "might",
          "other",
          "than",
          "voice",
          "himself",
          "bad",
          "behind",
          "mr",
          "can",
          "three",
          "im",
          "yes",
          "thing",
          "much",
          "almost",
          "against",
          "which",
          "good",
          "made",
          "take",
          "well",
          "first",
          "looking",
          "will",
          "own",
          "sound",
          "left",
          "dannys",
          "last",
          "saw",
          "felt",
          "son",
          "tony",
          "sure",
          "torrance",
          "asked",
          "floor",
          "ill",
          "oh",
          "place",
          "those",
          "thats",
          "nothing",
          "knew",
          "very",
          "gone",
          "mind",
          "father",
          "another",
          "let",
          "maybe",
          "between",
          "small",
          "side",
          "moment",
          "feet",
          "tried",
          "god",
          "stood",
          "youre",
          "suddenly",
          "told",
          "mouth",
          "really",
          "why",
          "white",
          "look",
          "hard",
          "always",
          "make",
          "al",
          "night",
          "under",
          "big",
          "end",
          "mommy",
          "day",
          "wasnt",
          "light",
          "any",
          "open",
          "dark",
          "has",
          "took",
          "dead",
          "high",
          "front",
          "say",
          "both",
          "sir",
          "years",
          "coming",
          "jacks",
          "every",
          "hes",
          "course",
          "together",
          "enough",
          "please",
          "woman",
          "mallet",
          "mother",
          "wind",
          "later",
          "fell",
          "outside",
          "once",
          "while",
          "closed",
          "sometimes",
          "cant",
          "car",
          "thinking",
          "play",
          "each",
          "drink",
          "across",
          "seen",
          "couldnt",
          "called",
          "people",
          "arm",
          "stop",
          "hadnt",
          "tell",
          "remember",
          "until",
          "new",
          "stairs",
          "happened",
          "keep",
          "george",
          "ever",
          "heard",
          "along",
          "okay",
          "top",
          "kitchen",
          "ran",
          "elevator",
          "bed",
          "else",
          "sitting",
          "found",
          "black",
          "wanted",
          "better",
          "inside",
          "next",
          "red",
          "blood",
          "five",
          "hurt",
          "must",
          "standing",
          "life",
          "wife",
          "making",
          "job",
          "done",
          "help",
          "doc",
          "guess",
          "hair",
          "youll",
          "word",
          "pulled",
          "dick"
         ],
         "type": "scatter",
         "x": [
          -0.051969222724437714,
          -0.25884494185447693,
          0.036597274243831635,
          -0.38725221157073975,
          -0.2871119976043701,
          0.04461756721138954,
          -0.10631944984197617,
          -0.39610421657562256,
          0.02296723984181881,
          -0.25628185272216797,
          -0.17677491903305054,
          -0.10551603883504868,
          -0.28783321380615234,
          -0.13960428535938263,
          -0.44323259592056274,
          -0.554650068283081,
          -0.583161473274231,
          -0.40528082847595215,
          -0.1365741789340973,
          -0.20287646353244781,
          -0.157506063580513,
          -0.5840497016906738,
          -0.2693142890930176,
          -0.11810974776744843,
          -0.6730780601501465,
          -0.2353954315185547,
          -0.43443626165390015,
          -0.15178406238555908,
          0.12902949750423431,
          -0.04658513888716698,
          -0.04319017007946968,
          -0.03919994831085205,
          -0.1282855123281479,
          -0.10997617244720459,
          -0.02289463020861149,
          -0.12878140807151794,
          0.09324625134468079,
          -0.3636435270309448,
          -0.23517122864723206,
          -0.14843523502349854,
          -0.28657448291778564,
          -0.1512947678565979,
          -0.2185211032629013,
          -0.07413236051797867,
          -0.13944776356220245,
          -0.32260334491729736,
          -0.10922843217849731,
          -0.2006825953722,
          -0.1901056170463562,
          -0.15267619490623474,
          -0.06122255325317383,
          -0.2508913278579712,
          -0.3531827926635742,
          -0.24319717288017273,
          -0.1760043501853943,
          -0.37742772698402405,
          0.05073273926973343,
          0.11643657088279724,
          0.021071286872029305,
          -0.6001622676849365,
          -0.48502787947654724,
          0.18624161183834076,
          -0.6988006830215454,
          -0.2551300823688507,
          -0.36433178186416626,
          -0.41085949540138245,
          -0.5379058718681335,
          -0.2722124457359314,
          -0.38806772232055664,
          -0.024884911254048347,
          -0.06768626719713211,
          -0.24008159339427948,
          -0.4325770139694214,
          -0.4782399833202362,
          -0.7798250317573547,
          -0.439254492521286,
          -0.03511581942439079,
          -0.17767071723937988,
          -0.6596030592918396,
          -0.24799640476703644,
          -0.07720977813005447,
          -0.28045791387557983,
          -0.1308075487613678,
          -0.23877835273742676,
          -0.9025560021400452,
          -0.6565431952476501,
          -0.45285502076148987,
          -0.5121644139289856,
          -0.32947278022766113,
          0.16439959406852722,
          -0.328582763671875,
          -0.3125653564929962,
          -0.15021783113479614,
          0.10776466131210327,
          -0.39594027400016785,
          -0.31436023116111755,
          0.36072826385498047,
          -0.7936669588088989,
          -0.37569499015808105,
          -0.2644917964935303,
          -0.3120096027851105,
          -0.020940139889717102,
          -0.46373414993286133,
          -0.13662511110305786,
          -0.5467191338539124,
          -0.15904179215431213,
          -0.2140498012304306,
          -0.7768872976303101,
          -0.3607768714427948,
          -0.4421536922454834,
          0.054068148136138916,
          -0.40262699127197266,
          -0.11955852806568146,
          0.19997507333755493,
          -0.5354382395744324,
          0.419747918844223,
          -0.6224337220191956,
          -0.7363210320472717,
          0.008903914131224155,
          -0.5341702699661255,
          -0.08404626697301865,
          -0.7628161311149597,
          -0.4722694754600525,
          -0.005195910111069679,
          -0.05263480544090271,
          0.06450393050909042,
          -0.04464973136782646,
          0.21251164376735687,
          -0.252749502658844,
          -0.3779867887496948,
          -0.46512526273727417,
          -0.7602794170379639,
          0.07665455341339111,
          0.22835461795330048,
          0.19095389544963837,
          -0.3048694133758545,
          -0.5378041863441467,
          -0.18561951816082,
          -0.009194831363856792,
          -0.5114303827285767,
          -0.20050975680351257,
          0.37772929668426514,
          -0.6793791651725769,
          -1.149274468421936,
          -0.10509560257196426,
          -0.32440581917762756,
          -0.2821136713027954,
          -0.08587009459733963,
          0.43176910281181335,
          -0.04550836235284805,
          0.23182950913906097,
          0.1037595272064209,
          -0.6202272176742554,
          -0.22487811744213104,
          -0.7682734131813049,
          -0.4098866283893585,
          -0.9708114266395569,
          0.3791173994541168,
          -0.18232689797878265,
          -1.0457017421722412,
          0.17310409247875214,
          -0.017441226169466972,
          -0.12018342316150665,
          -0.4818425178527832,
          -0.9936005473136902,
          -0.5251811742782593,
          -0.8460313081741333,
          -1.1396493911743164,
          -0.032662004232406616,
          -0.2885529696941376,
          -0.9982821345329285,
          0.15676510334014893,
          0.8888902068138123,
          -0.8650975227355957,
          -0.48913097381591797,
          -0.0893319845199585,
          -2.022953510284424,
          0.16889484226703644,
          -0.2464975267648697,
          -1.0168973207473755,
          0.2858184576034546,
          0.11448755115270615,
          -0.3997788429260254,
          -0.00831326562911272,
          0.004685040097683668,
          0.08128628879785538,
          -0.7152982354164124,
          -0.22381576895713806,
          -0.9961174130439758,
          -0.8992122411727905,
          0.012023567222058773,
          -0.6824414134025574,
          -0.4931100010871887,
          -0.7193998694419861,
          -0.9376901984214783,
          -0.541022539138794,
          -0.5682995319366455,
          0.18190692365169525,
          -1.066825270652771,
          -0.6961936950683594,
          -0.13633030652999878,
          -0.10035273432731628,
          -1.8052029609680176,
          0.28984764218330383,
          -0.27092963457107544,
          0.4171004295349121,
          0.383981853723526,
          -1.1052762269973755,
          0.3111731708049774,
          0.27336111664772034,
          0.08012305200099945,
          0.2356274574995041,
          -1.3607136011123657,
          -0.029073400422930717,
          0.29055556654930115,
          -0.4598444402217865,
          0.8103832006454468,
          0.6363949775695801,
          0.2544166147708893,
          -0.7130568027496338,
          -0.016580285504460335,
          -0.8280747532844543,
          1.553385853767395,
          0.3424249589443207,
          -1.1400619745254517,
          0.6150704622268677,
          -0.8601075410842896,
          0.14878717064857483,
          -0.5976297855377197,
          -0.3203572928905487,
          -1.1654783487319946,
          -1.9632670879364014,
          -2.187654733657837,
          -1.4026820659637451,
          -0.12034782767295837,
          -0.46912267804145813,
          -0.15757864713668823,
          -0.1769532412290573,
          -2.058809518814087,
          -1.8065787553787231,
          -0.25235915184020996,
          0.3643885850906372,
          -0.3649895191192627,
          -0.5966512560844421,
          -0.7028424739837646,
          -1.6426565647125244,
          -0.27623388171195984,
          -0.4930422306060791,
          -0.023765062913298607,
          0.6654309630393982,
          -0.5491139888763428,
          -1.0841364860534668,
          1.0835503339767456,
          -1.5820033550262451,
          -1.6954253911972046,
          0.04873377084732056,
          -0.5113200545310974,
          -0.5564243793487549,
          -0.707446813583374,
          1.6749578714370728,
          -1.0329772233963013,
          0.3214665651321411,
          -2.223381996154785,
          -2.4893243312835693,
          -1.4156080484390259,
          -0.26560133695602417,
          0.21355897188186646,
          -1.0805044174194336,
          0.10131364315748215,
          -0.27751368284225464,
          -0.7607619762420654,
          -0.6767479777336121,
          -1.0750881433486938,
          -0.053959958255290985,
          0.17059831321239471,
          0.9331616759300232,
          -0.2596764862537384,
          -1.4009499549865723,
          -0.5999890565872192,
          -0.5207310318946838,
          1.3421528339385986,
          0.3303869068622589,
          -0.1762063205242157,
          1.4291115999221802,
          -1.1150139570236206,
          -0.06211414188146591,
          0.061502449214458466,
          0.48941630125045776,
          -1.1443440914154053,
          0.8324000239372253,
          -0.38816553354263306,
          0.3661954700946808,
          -0.6712093353271484,
          -1.149592399597168,
          -0.722687304019928,
          -0.9038344621658325,
          -0.5854846835136414,
          -0.8159013390541077,
          -0.764864981174469,
          -1.2668863534927368
         ],
         "xaxis": "x",
         "y": [
          0.4032139778137207,
          0.3395735025405884,
          0.27342143654823303,
          0.06916079670190811,
          0.011836430057883263,
          0.415199339389801,
          0.1877029836177826,
          0.5457286238670349,
          0.30997854471206665,
          0.04897864907979965,
          0.10095579922199249,
          -0.09788191318511963,
          -0.5736666917800903,
          0.5406032204627991,
          -0.6425061225891113,
          0.09138720482587814,
          0.5047223567962646,
          0.15206171572208405,
          0.4669506549835205,
          0.3542793393135071,
          -0.11354260891675949,
          -0.009410666301846504,
          0.3666469156742096,
          0.06702059507369995,
          -0.39235109090805054,
          0.41299962997436523,
          0.0257415808737278,
          0.2757824957370758,
          0.03562236204743385,
          0.09829438477754593,
          -0.3413885235786438,
          0.2719796895980835,
          0.06124361231923103,
          0.1882075071334839,
          0.563957691192627,
          -0.1984756886959076,
          0.3507004678249359,
          0.6013334393501282,
          -0.23356926441192627,
          0.24253810942173004,
          0.6224671006202698,
          -0.14314928650856018,
          -0.2789539694786072,
          0.2865145206451416,
          0.7153398990631104,
          -0.3174997866153717,
          -0.3990166485309601,
          0.04895646497607231,
          0.22904817759990692,
          -0.1698337346315384,
          -0.07359775900840759,
          0.5781288743019104,
          0.43463999032974243,
          0.35115399956703186,
          -0.05963212624192238,
          -0.42297229170799255,
          0.07756873220205307,
          0.42395704984664917,
          0.27273818850517273,
          0.09604643285274506,
          -0.613820493221283,
          -0.40984046459198,
          0.015820855274796486,
          -0.15337148308753967,
          -0.3181191682815552,
          0.18624956905841827,
          0.39265894889831543,
          0.5034978985786438,
          -0.8398742079734802,
          -0.11326734721660614,
          -0.2555476427078247,
          0.047793906182050705,
          -0.22252239286899567,
          -1.0538135766983032,
          -0.09950979799032211,
          -0.6181889772415161,
          0.6946547031402588,
          0.10132300108671188,
          0.4984927177429199,
          0.10746129602193832,
          0.16804185509681702,
          -0.7135640978813171,
          -0.045239679515361786,
          -0.27742359042167664,
          1.1168242692947388,
          -0.4238830506801605,
          0.21678610146045685,
          0.7560060620307922,
          -0.8071890473365784,
          0.47007983922958374,
          -0.6477166414260864,
          -0.10257290303707123,
          0.12610147893428802,
          0.2961166203022003,
          0.43062624335289,
          0.5710067749023438,
          -0.2836976945400238,
          0.7872524857521057,
          0.4948165714740753,
          0.6879407167434692,
          -0.7007207274436951,
          -1.1403679847717285,
          -0.3332413136959076,
          -0.37549641728401184,
          0.5920155644416809,
          -0.43022215366363525,
          -0.2006763368844986,
          0.8164511322975159,
          -0.22164754569530487,
          -1.1808276176452637,
          0.41839516162872314,
          -1.0255777835845947,
          0.14217478036880493,
          0.10967318713665009,
          0.34356921911239624,
          -0.05835612490773201,
          0.43237656354904175,
          -0.14154498279094696,
          0.15960370004177094,
          0.8953077793121338,
          0.4443032443523407,
          0.06016317754983902,
          -0.4214676022529602,
          0.39906033873558044,
          0.2767319679260254,
          -0.1117020696401596,
          -0.5632217526435852,
          0.0722682848572731,
          0.3806249797344208,
          0.5492984056472778,
          -1.0043209791183472,
          0.9481908679008484,
          -0.5777970552444458,
          0.20562933385372162,
          -0.25188177824020386,
          0.22478637099266052,
          0.06700540333986282,
          -0.23904217779636383,
          0.7602603435516357,
          -0.5888394713401794,
          -1.2647696733474731,
          0.42530304193496704,
          -0.9500643014907837,
          -0.844681441783905,
          -0.2644135653972626,
          -0.2296822965145111,
          0.17816588282585144,
          1.2086108922958374,
          -0.08101553469896317,
          -0.47849199175834656,
          0.25324293971061707,
          -1.0203629732131958,
          -0.6194615364074707,
          0.17733505368232727,
          0.5887861847877502,
          -1.1861815452575684,
          0.8216399550437927,
          0.4354787766933441,
          0.7020671367645264,
          0.5030664205551147,
          0.16687847673892975,
          0.6023083925247192,
          0.10855406522750854,
          -0.10922862589359283,
          -0.5923314094543457,
          -0.6157112717628479,
          -0.40258488059043884,
          -0.7857536673545837,
          0.9982450604438782,
          -1.5104386806488037,
          -1.4880788326263428,
          -0.12627319991588593,
          -0.8421275615692139,
          -1.263028621673584,
          -0.37680885195732117,
          -0.435720831155777,
          -0.5924791693687439,
          -0.07144790142774582,
          -0.3304881751537323,
          -0.04123709350824356,
          0.07944543659687042,
          -0.9468353390693665,
          -0.7433794736862183,
          0.7293924689292908,
          0.4510154724121094,
          1.1842060089111328,
          0.35924604535102844,
          0.6270937919616699,
          0.21021489799022675,
          -1.4007701873779297,
          0.5594136714935303,
          -1.6574369668960571,
          0.3716108798980713,
          -0.7486209273338318,
          1.0857988595962524,
          -0.8599972724914551,
          -1.1583133935928345,
          0.8921810388565063,
          -0.1408357322216034,
          -0.10323792695999146,
          -0.5567663311958313,
          -0.848033607006073,
          -1.135805368423462,
          0.08304746448993683,
          0.8077481985092163,
          0.3364580571651459,
          0.4822501540184021,
          -0.5213016867637634,
          -0.8469616174697876,
          -0.8192574381828308,
          0.6576135754585266,
          -0.713958203792572,
          1.2179244756698608,
          0.5679315328598022,
          -0.5201965570449829,
          0.6436759829521179,
          0.08727280050516129,
          1.1403354406356812,
          0.8865429759025574,
          -0.8959101438522339,
          0.42215272784233093,
          -1.3832886219024658,
          -0.2501593232154846,
          0.542060136795044,
          0.8672527074813843,
          0.1960064172744751,
          -0.9458028078079224,
          -0.10071703046560287,
          0.30414989590644836,
          -0.050015538930892944,
          -0.7667790651321411,
          0.5658354759216309,
          0.5310193300247192,
          -0.4592105448246002,
          0.25104382634162903,
          0.10885953158140182,
          2.1222198009490967,
          0.2657792866230011,
          0.9736549854278564,
          1.3911361694335938,
          0.6534087061882019,
          -1.765836477279663,
          -1.280126690864563,
          0.3021843135356903,
          -0.16758064925670624,
          -0.5630302429199219,
          0.6403888463973999,
          -0.47514158487319946,
          1.2493051290512085,
          -0.07730022817850113,
          -1.0705207586288452,
          -0.5459688901901245,
          -0.4447147846221924,
          0.5846021175384521,
          -1.0994206666946411,
          -0.36441710591316223,
          -1.344802737236023,
          -0.894405722618103,
          -0.06254438310861588,
          0.0015346674481406808,
          0.9812597036361694,
          -0.5316076278686523,
          0.4086100459098816,
          -0.6528276801109314,
          -1.4600366353988647,
          -0.11908473074436188,
          0.6244644522666931,
          -0.9720985293388367,
          1.1422747373580933,
          2.2360970973968506,
          1.8974946737289429,
          0.19381846487522125,
          0.7128046154975891,
          -0.5767059922218323,
          0.7716929912567139,
          1.1925513744354248,
          0.36965617537498474,
          -1.4930214881896973,
          -0.37510767579078674,
          2.1162240505218506,
          -1.2511054277420044,
          0.8140960931777954,
          0.8194109797477722,
          1.101488709449768,
          -1.098496913909912,
          -0.8225193023681641,
          0.5138410329818726,
          -0.30903592705726624,
          -1.5733598470687866,
          0.7877810001373291,
          -1.0382771492004395,
          -0.708110511302948,
          -1.36707603931427,
          -1.5957392454147339,
          -1.267945647239685,
          0.9646832942962646,
          -1.3957546949386597,
          -0.6709242463111877,
          1.3836112022399902,
          -0.18732590973377228
         ],
         "yaxis": "y"
        }
       ],
       "layout": {
        "legend": {
         "tracegroupgap": 0
        },
        "margin": {
         "t": 60
        },
        "template": {
         "data": {
          "bar": [
           {
            "error_x": {
             "color": "#2a3f5f"
            },
            "error_y": {
             "color": "#2a3f5f"
            },
            "marker": {
             "line": {
              "color": "#E5ECF6",
              "width": 0.5
             },
             "pattern": {
              "fillmode": "overlay",
              "size": 10,
              "solidity": 0.2
             }
            },
            "type": "bar"
           }
          ],
          "barpolar": [
           {
            "marker": {
             "line": {
              "color": "#E5ECF6",
              "width": 0.5
             },
             "pattern": {
              "fillmode": "overlay",
              "size": 10,
              "solidity": 0.2
             }
            },
            "type": "barpolar"
           }
          ],
          "carpet": [
           {
            "aaxis": {
             "endlinecolor": "#2a3f5f",
             "gridcolor": "white",
             "linecolor": "white",
             "minorgridcolor": "white",
             "startlinecolor": "#2a3f5f"
            },
            "baxis": {
             "endlinecolor": "#2a3f5f",
             "gridcolor": "white",
             "linecolor": "white",
             "minorgridcolor": "white",
             "startlinecolor": "#2a3f5f"
            },
            "type": "carpet"
           }
          ],
          "choropleth": [
           {
            "colorbar": {
             "outlinewidth": 0,
             "ticks": ""
            },
            "type": "choropleth"
           }
          ],
          "contour": [
           {
            "colorbar": {
             "outlinewidth": 0,
             "ticks": ""
            },
            "colorscale": [
             [
              0,
              "#0d0887"
             ],
             [
              0.1111111111111111,
              "#46039f"
             ],
             [
              0.2222222222222222,
              "#7201a8"
             ],
             [
              0.3333333333333333,
              "#9c179e"
             ],
             [
              0.4444444444444444,
              "#bd3786"
             ],
             [
              0.5555555555555556,
              "#d8576b"
             ],
             [
              0.6666666666666666,
              "#ed7953"
             ],
             [
              0.7777777777777778,
              "#fb9f3a"
             ],
             [
              0.8888888888888888,
              "#fdca26"
             ],
             [
              1,
              "#f0f921"
             ]
            ],
            "type": "contour"
           }
          ],
          "contourcarpet": [
           {
            "colorbar": {
             "outlinewidth": 0,
             "ticks": ""
            },
            "type": "contourcarpet"
           }
          ],
          "heatmap": [
           {
            "colorbar": {
             "outlinewidth": 0,
             "ticks": ""
            },
            "colorscale": [
             [
              0,
              "#0d0887"
             ],
             [
              0.1111111111111111,
              "#46039f"
             ],
             [
              0.2222222222222222,
              "#7201a8"
             ],
             [
              0.3333333333333333,
              "#9c179e"
             ],
             [
              0.4444444444444444,
              "#bd3786"
             ],
             [
              0.5555555555555556,
              "#d8576b"
             ],
             [
              0.6666666666666666,
              "#ed7953"
             ],
             [
              0.7777777777777778,
              "#fb9f3a"
             ],
             [
              0.8888888888888888,
              "#fdca26"
             ],
             [
              1,
              "#f0f921"
             ]
            ],
            "type": "heatmap"
           }
          ],
          "heatmapgl": [
           {
            "colorbar": {
             "outlinewidth": 0,
             "ticks": ""
            },
            "colorscale": [
             [
              0,
              "#0d0887"
             ],
             [
              0.1111111111111111,
              "#46039f"
             ],
             [
              0.2222222222222222,
              "#7201a8"
             ],
             [
              0.3333333333333333,
              "#9c179e"
             ],
             [
              0.4444444444444444,
              "#bd3786"
             ],
             [
              0.5555555555555556,
              "#d8576b"
             ],
             [
              0.6666666666666666,
              "#ed7953"
             ],
             [
              0.7777777777777778,
              "#fb9f3a"
             ],
             [
              0.8888888888888888,
              "#fdca26"
             ],
             [
              1,
              "#f0f921"
             ]
            ],
            "type": "heatmapgl"
           }
          ],
          "histogram": [
           {
            "marker": {
             "pattern": {
              "fillmode": "overlay",
              "size": 10,
              "solidity": 0.2
             }
            },
            "type": "histogram"
           }
          ],
          "histogram2d": [
           {
            "colorbar": {
             "outlinewidth": 0,
             "ticks": ""
            },
            "colorscale": [
             [
              0,
              "#0d0887"
             ],
             [
              0.1111111111111111,
              "#46039f"
             ],
             [
              0.2222222222222222,
              "#7201a8"
             ],
             [
              0.3333333333333333,
              "#9c179e"
             ],
             [
              0.4444444444444444,
              "#bd3786"
             ],
             [
              0.5555555555555556,
              "#d8576b"
             ],
             [
              0.6666666666666666,
              "#ed7953"
             ],
             [
              0.7777777777777778,
              "#fb9f3a"
             ],
             [
              0.8888888888888888,
              "#fdca26"
             ],
             [
              1,
              "#f0f921"
             ]
            ],
            "type": "histogram2d"
           }
          ],
          "histogram2dcontour": [
           {
            "colorbar": {
             "outlinewidth": 0,
             "ticks": ""
            },
            "colorscale": [
             [
              0,
              "#0d0887"
             ],
             [
              0.1111111111111111,
              "#46039f"
             ],
             [
              0.2222222222222222,
              "#7201a8"
             ],
             [
              0.3333333333333333,
              "#9c179e"
             ],
             [
              0.4444444444444444,
              "#bd3786"
             ],
             [
              0.5555555555555556,
              "#d8576b"
             ],
             [
              0.6666666666666666,
              "#ed7953"
             ],
             [
              0.7777777777777778,
              "#fb9f3a"
             ],
             [
              0.8888888888888888,
              "#fdca26"
             ],
             [
              1,
              "#f0f921"
             ]
            ],
            "type": "histogram2dcontour"
           }
          ],
          "mesh3d": [
           {
            "colorbar": {
             "outlinewidth": 0,
             "ticks": ""
            },
            "type": "mesh3d"
           }
          ],
          "parcoords": [
           {
            "line": {
             "colorbar": {
              "outlinewidth": 0,
              "ticks": ""
             }
            },
            "type": "parcoords"
           }
          ],
          "pie": [
           {
            "automargin": true,
            "type": "pie"
           }
          ],
          "scatter": [
           {
            "fillpattern": {
             "fillmode": "overlay",
             "size": 10,
             "solidity": 0.2
            },
            "type": "scatter"
           }
          ],
          "scatter3d": [
           {
            "line": {
             "colorbar": {
              "outlinewidth": 0,
              "ticks": ""
             }
            },
            "marker": {
             "colorbar": {
              "outlinewidth": 0,
              "ticks": ""
             }
            },
            "type": "scatter3d"
           }
          ],
          "scattercarpet": [
           {
            "marker": {
             "colorbar": {
              "outlinewidth": 0,
              "ticks": ""
             }
            },
            "type": "scattercarpet"
           }
          ],
          "scattergeo": [
           {
            "marker": {
             "colorbar": {
              "outlinewidth": 0,
              "ticks": ""
             }
            },
            "type": "scattergeo"
           }
          ],
          "scattergl": [
           {
            "marker": {
             "colorbar": {
              "outlinewidth": 0,
              "ticks": ""
             }
            },
            "type": "scattergl"
           }
          ],
          "scattermapbox": [
           {
            "marker": {
             "colorbar": {
              "outlinewidth": 0,
              "ticks": ""
             }
            },
            "type": "scattermapbox"
           }
          ],
          "scatterpolar": [
           {
            "marker": {
             "colorbar": {
              "outlinewidth": 0,
              "ticks": ""
             }
            },
            "type": "scatterpolar"
           }
          ],
          "scatterpolargl": [
           {
            "marker": {
             "colorbar": {
              "outlinewidth": 0,
              "ticks": ""
             }
            },
            "type": "scatterpolargl"
           }
          ],
          "scatterternary": [
           {
            "marker": {
             "colorbar": {
              "outlinewidth": 0,
              "ticks": ""
             }
            },
            "type": "scatterternary"
           }
          ],
          "surface": [
           {
            "colorbar": {
             "outlinewidth": 0,
             "ticks": ""
            },
            "colorscale": [
             [
              0,
              "#0d0887"
             ],
             [
              0.1111111111111111,
              "#46039f"
             ],
             [
              0.2222222222222222,
              "#7201a8"
             ],
             [
              0.3333333333333333,
              "#9c179e"
             ],
             [
              0.4444444444444444,
              "#bd3786"
             ],
             [
              0.5555555555555556,
              "#d8576b"
             ],
             [
              0.6666666666666666,
              "#ed7953"
             ],
             [
              0.7777777777777778,
              "#fb9f3a"
             ],
             [
              0.8888888888888888,
              "#fdca26"
             ],
             [
              1,
              "#f0f921"
             ]
            ],
            "type": "surface"
           }
          ],
          "table": [
           {
            "cells": {
             "fill": {
              "color": "#EBF0F8"
             },
             "line": {
              "color": "white"
             }
            },
            "header": {
             "fill": {
              "color": "#C8D4E3"
             },
             "line": {
              "color": "white"
             }
            },
            "type": "table"
           }
          ]
         },
         "layout": {
          "annotationdefaults": {
           "arrowcolor": "#2a3f5f",
           "arrowhead": 0,
           "arrowwidth": 1
          },
          "autotypenumbers": "strict",
          "coloraxis": {
           "colorbar": {
            "outlinewidth": 0,
            "ticks": ""
           }
          },
          "colorscale": {
           "diverging": [
            [
             0,
             "#8e0152"
            ],
            [
             0.1,
             "#c51b7d"
            ],
            [
             0.2,
             "#de77ae"
            ],
            [
             0.3,
             "#f1b6da"
            ],
            [
             0.4,
             "#fde0ef"
            ],
            [
             0.5,
             "#f7f7f7"
            ],
            [
             0.6,
             "#e6f5d0"
            ],
            [
             0.7,
             "#b8e186"
            ],
            [
             0.8,
             "#7fbc41"
            ],
            [
             0.9,
             "#4d9221"
            ],
            [
             1,
             "#276419"
            ]
           ],
           "sequential": [
            [
             0,
             "#0d0887"
            ],
            [
             0.1111111111111111,
             "#46039f"
            ],
            [
             0.2222222222222222,
             "#7201a8"
            ],
            [
             0.3333333333333333,
             "#9c179e"
            ],
            [
             0.4444444444444444,
             "#bd3786"
            ],
            [
             0.5555555555555556,
             "#d8576b"
            ],
            [
             0.6666666666666666,
             "#ed7953"
            ],
            [
             0.7777777777777778,
             "#fb9f3a"
            ],
            [
             0.8888888888888888,
             "#fdca26"
            ],
            [
             1,
             "#f0f921"
            ]
           ],
           "sequentialminus": [
            [
             0,
             "#0d0887"
            ],
            [
             0.1111111111111111,
             "#46039f"
            ],
            [
             0.2222222222222222,
             "#7201a8"
            ],
            [
             0.3333333333333333,
             "#9c179e"
            ],
            [
             0.4444444444444444,
             "#bd3786"
            ],
            [
             0.5555555555555556,
             "#d8576b"
            ],
            [
             0.6666666666666666,
             "#ed7953"
            ],
            [
             0.7777777777777778,
             "#fb9f3a"
            ],
            [
             0.8888888888888888,
             "#fdca26"
            ],
            [
             1,
             "#f0f921"
            ]
           ]
          },
          "colorway": [
           "#636efa",
           "#EF553B",
           "#00cc96",
           "#ab63fa",
           "#FFA15A",
           "#19d3f3",
           "#FF6692",
           "#B6E880",
           "#FF97FF",
           "#FECB52"
          ],
          "font": {
           "color": "#2a3f5f"
          },
          "geo": {
           "bgcolor": "white",
           "lakecolor": "white",
           "landcolor": "#E5ECF6",
           "showlakes": true,
           "showland": true,
           "subunitcolor": "white"
          },
          "hoverlabel": {
           "align": "left"
          },
          "hovermode": "closest",
          "mapbox": {
           "style": "light"
          },
          "paper_bgcolor": "white",
          "plot_bgcolor": "#E5ECF6",
          "polar": {
           "angularaxis": {
            "gridcolor": "white",
            "linecolor": "white",
            "ticks": ""
           },
           "bgcolor": "#E5ECF6",
           "radialaxis": {
            "gridcolor": "white",
            "linecolor": "white",
            "ticks": ""
           }
          },
          "scene": {
           "xaxis": {
            "backgroundcolor": "#E5ECF6",
            "gridcolor": "white",
            "gridwidth": 2,
            "linecolor": "white",
            "showbackground": true,
            "ticks": "",
            "zerolinecolor": "white"
           },
           "yaxis": {
            "backgroundcolor": "#E5ECF6",
            "gridcolor": "white",
            "gridwidth": 2,
            "linecolor": "white",
            "showbackground": true,
            "ticks": "",
            "zerolinecolor": "white"
           },
           "zaxis": {
            "backgroundcolor": "#E5ECF6",
            "gridcolor": "white",
            "gridwidth": 2,
            "linecolor": "white",
            "showbackground": true,
            "ticks": "",
            "zerolinecolor": "white"
           }
          },
          "shapedefaults": {
           "line": {
            "color": "#2a3f5f"
           }
          },
          "ternary": {
           "aaxis": {
            "gridcolor": "white",
            "linecolor": "white",
            "ticks": ""
           },
           "baxis": {
            "gridcolor": "white",
            "linecolor": "white",
            "ticks": ""
           },
           "bgcolor": "#E5ECF6",
           "caxis": {
            "gridcolor": "white",
            "linecolor": "white",
            "ticks": ""
           }
          },
          "title": {
           "x": 0.05
          },
          "xaxis": {
           "automargin": true,
           "gridcolor": "white",
           "linecolor": "white",
           "ticks": "",
           "title": {
            "standoff": 15
           },
           "zerolinecolor": "white",
           "zerolinewidth": 2
          },
          "yaxis": {
           "automargin": true,
           "gridcolor": "white",
           "linecolor": "white",
           "ticks": "",
           "title": {
            "standoff": 15
           },
           "zerolinecolor": "white",
           "zerolinewidth": 2
          }
         }
        },
        "xaxis": {
         "anchor": "y",
         "domain": [
          0,
          1
         ],
         "title": {
          "text": "x"
         }
        },
        "yaxis": {
         "anchor": "x",
         "domain": [
          0,
          1
         ],
         "title": {
          "text": "y"
         }
        }
       }
      }
     },
     "metadata": {},
     "output_type": "display_data"
    }
   ],
   "source": [
    "vecs, labels = reduce_dimensions(w2v_model_skip)\n",
    "\n",
    "MAX_WORDS=300\n",
    "fig = px.scatter(x=vecs[:MAX_WORDS,0], y=vecs[:MAX_WORDS,1], text=labels[:MAX_WORDS])\n",
    "fig.show() "
   ]
  },
  {
   "cell_type": "markdown",
   "metadata": {},
   "source": [
    "**Analisis**\n",
    "\n",
    "Probando con skip-gram es notable que hay una diferencia en comparación con CBOW. Por ejemplo, para palabras como \"ghost\" y \"monsters\" que CBOW tuvo una no tan buena relación, Skip-gram logro crear un mejor match.\n",
    "\n",
    "Si bien muchas palabras en ambas algoritmos se agrupan de forma similar es notable que hay una diferencia incluso en la visualización de los datos en 2D.\n",
    "\n",
    "En general, ambos algoritmos lograron agrupar terminos similares según el contexto de forma satisfactoria, dando una buena idea de los sucesos que transcurren durante la historia solo en base a la relación de terminos."
   ]
  }
 ],
 "metadata": {
  "kernelspec": {
   "display_name": "venv",
   "language": "python",
   "name": "python3"
  },
  "language_info": {
   "codemirror_mode": {
    "name": "ipython",
    "version": 3
   },
   "file_extension": ".py",
   "mimetype": "text/x-python",
   "name": "python",
   "nbconvert_exporter": "python",
   "pygments_lexer": "ipython3",
   "version": "3.10.9"
  },
  "orig_nbformat": 4
 },
 "nbformat": 4,
 "nbformat_minor": 2
}
