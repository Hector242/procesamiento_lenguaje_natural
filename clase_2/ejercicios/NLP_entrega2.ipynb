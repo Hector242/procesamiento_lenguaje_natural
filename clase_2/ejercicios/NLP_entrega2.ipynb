{
  "nbformat": 4,
  "nbformat_minor": 0,
  "metadata": {
    "colab": {
      "provenance": []
    },
    "kernelspec": {
      "name": "python3",
      "display_name": "Python 3"
    },
    "language_info": {
      "name": "python"
    }
  },
  "cells": [
    {
      "cell_type": "code",
      "execution_count": 28,
      "metadata": {
        "id": "ZYa9Lfai1oSF"
      },
      "outputs": [],
      "source": [
        "import json\n",
        "import string\n",
        "import random\n",
        "import numpy as np\n",
        "\n",
        "import tensorflow as tf\n",
        "from tensorflow.keras import Sequential\n",
        "from tensorflow.keras.layers import Dense, Dropout"
      ]
    },
    {
      "cell_type": "code",
      "source": [
        "# descargaremos un pipeline de pre-procesamiento de SpaCy en español\n",
        "!python -m spacy download es_core_news_sm"
      ],
      "metadata": {
        "colab": {
          "base_uri": "https://localhost:8080/"
        },
        "id": "E8JGroXl2CCb",
        "outputId": "d4f8efd0-09a2-4630-a09c-4bd00d001bd5"
      },
      "execution_count": 29,
      "outputs": [
        {
          "output_type": "stream",
          "name": "stdout",
          "text": [
            "2023-09-07 19:11:21.425999: W tensorflow/compiler/tf2tensorrt/utils/py_utils.cc:38] TF-TRT Warning: Could not find TensorRT\n",
            "Collecting es-core-news-sm==3.6.0\n",
            "  Downloading https://github.com/explosion/spacy-models/releases/download/es_core_news_sm-3.6.0/es_core_news_sm-3.6.0-py3-none-any.whl (12.9 MB)\n",
            "\u001b[2K     \u001b[90m━━━━━━━━━━━━━━━━━━━━━━━━━━━━━━━━━━━━━━━━\u001b[0m \u001b[32m12.9/12.9 MB\u001b[0m \u001b[31m24.1 MB/s\u001b[0m eta \u001b[36m0:00:00\u001b[0m\n",
            "\u001b[?25hRequirement already satisfied: spacy<3.7.0,>=3.6.0 in /usr/local/lib/python3.10/dist-packages (from es-core-news-sm==3.6.0) (3.6.1)\n",
            "Requirement already satisfied: spacy-legacy<3.1.0,>=3.0.11 in /usr/local/lib/python3.10/dist-packages (from spacy<3.7.0,>=3.6.0->es-core-news-sm==3.6.0) (3.0.12)\n",
            "Requirement already satisfied: spacy-loggers<2.0.0,>=1.0.0 in /usr/local/lib/python3.10/dist-packages (from spacy<3.7.0,>=3.6.0->es-core-news-sm==3.6.0) (1.0.4)\n",
            "Requirement already satisfied: murmurhash<1.1.0,>=0.28.0 in /usr/local/lib/python3.10/dist-packages (from spacy<3.7.0,>=3.6.0->es-core-news-sm==3.6.0) (1.0.9)\n",
            "Requirement already satisfied: cymem<2.1.0,>=2.0.2 in /usr/local/lib/python3.10/dist-packages (from spacy<3.7.0,>=3.6.0->es-core-news-sm==3.6.0) (2.0.7)\n",
            "Requirement already satisfied: preshed<3.1.0,>=3.0.2 in /usr/local/lib/python3.10/dist-packages (from spacy<3.7.0,>=3.6.0->es-core-news-sm==3.6.0) (3.0.8)\n",
            "Requirement already satisfied: thinc<8.2.0,>=8.1.8 in /usr/local/lib/python3.10/dist-packages (from spacy<3.7.0,>=3.6.0->es-core-news-sm==3.6.0) (8.1.12)\n",
            "Requirement already satisfied: wasabi<1.2.0,>=0.9.1 in /usr/local/lib/python3.10/dist-packages (from spacy<3.7.0,>=3.6.0->es-core-news-sm==3.6.0) (1.1.2)\n",
            "Requirement already satisfied: srsly<3.0.0,>=2.4.3 in /usr/local/lib/python3.10/dist-packages (from spacy<3.7.0,>=3.6.0->es-core-news-sm==3.6.0) (2.4.7)\n",
            "Requirement already satisfied: catalogue<2.1.0,>=2.0.6 in /usr/local/lib/python3.10/dist-packages (from spacy<3.7.0,>=3.6.0->es-core-news-sm==3.6.0) (2.0.9)\n",
            "Requirement already satisfied: typer<0.10.0,>=0.3.0 in /usr/local/lib/python3.10/dist-packages (from spacy<3.7.0,>=3.6.0->es-core-news-sm==3.6.0) (0.9.0)\n",
            "Requirement already satisfied: pathy>=0.10.0 in /usr/local/lib/python3.10/dist-packages (from spacy<3.7.0,>=3.6.0->es-core-news-sm==3.6.0) (0.10.2)\n",
            "Requirement already satisfied: smart-open<7.0.0,>=5.2.1 in /usr/local/lib/python3.10/dist-packages (from spacy<3.7.0,>=3.6.0->es-core-news-sm==3.6.0) (6.3.0)\n",
            "Requirement already satisfied: tqdm<5.0.0,>=4.38.0 in /usr/local/lib/python3.10/dist-packages (from spacy<3.7.0,>=3.6.0->es-core-news-sm==3.6.0) (4.66.1)\n",
            "Requirement already satisfied: numpy>=1.15.0 in /usr/local/lib/python3.10/dist-packages (from spacy<3.7.0,>=3.6.0->es-core-news-sm==3.6.0) (1.23.5)\n",
            "Requirement already satisfied: requests<3.0.0,>=2.13.0 in /usr/local/lib/python3.10/dist-packages (from spacy<3.7.0,>=3.6.0->es-core-news-sm==3.6.0) (2.31.0)\n",
            "Requirement already satisfied: pydantic!=1.8,!=1.8.1,<3.0.0,>=1.7.4 in /usr/local/lib/python3.10/dist-packages (from spacy<3.7.0,>=3.6.0->es-core-news-sm==3.6.0) (2.3.0)\n",
            "Requirement already satisfied: jinja2 in /usr/local/lib/python3.10/dist-packages (from spacy<3.7.0,>=3.6.0->es-core-news-sm==3.6.0) (3.1.2)\n",
            "Requirement already satisfied: setuptools in /usr/local/lib/python3.10/dist-packages (from spacy<3.7.0,>=3.6.0->es-core-news-sm==3.6.0) (67.7.2)\n",
            "Requirement already satisfied: packaging>=20.0 in /usr/local/lib/python3.10/dist-packages (from spacy<3.7.0,>=3.6.0->es-core-news-sm==3.6.0) (23.1)\n",
            "Requirement already satisfied: langcodes<4.0.0,>=3.2.0 in /usr/local/lib/python3.10/dist-packages (from spacy<3.7.0,>=3.6.0->es-core-news-sm==3.6.0) (3.3.0)\n",
            "Requirement already satisfied: annotated-types>=0.4.0 in /usr/local/lib/python3.10/dist-packages (from pydantic!=1.8,!=1.8.1,<3.0.0,>=1.7.4->spacy<3.7.0,>=3.6.0->es-core-news-sm==3.6.0) (0.5.0)\n",
            "Requirement already satisfied: pydantic-core==2.6.3 in /usr/local/lib/python3.10/dist-packages (from pydantic!=1.8,!=1.8.1,<3.0.0,>=1.7.4->spacy<3.7.0,>=3.6.0->es-core-news-sm==3.6.0) (2.6.3)\n",
            "Requirement already satisfied: typing-extensions>=4.6.1 in /usr/local/lib/python3.10/dist-packages (from pydantic!=1.8,!=1.8.1,<3.0.0,>=1.7.4->spacy<3.7.0,>=3.6.0->es-core-news-sm==3.6.0) (4.7.1)\n",
            "Requirement already satisfied: charset-normalizer<4,>=2 in /usr/local/lib/python3.10/dist-packages (from requests<3.0.0,>=2.13.0->spacy<3.7.0,>=3.6.0->es-core-news-sm==3.6.0) (3.2.0)\n",
            "Requirement already satisfied: idna<4,>=2.5 in /usr/local/lib/python3.10/dist-packages (from requests<3.0.0,>=2.13.0->spacy<3.7.0,>=3.6.0->es-core-news-sm==3.6.0) (3.4)\n",
            "Requirement already satisfied: urllib3<3,>=1.21.1 in /usr/local/lib/python3.10/dist-packages (from requests<3.0.0,>=2.13.0->spacy<3.7.0,>=3.6.0->es-core-news-sm==3.6.0) (2.0.4)\n",
            "Requirement already satisfied: certifi>=2017.4.17 in /usr/local/lib/python3.10/dist-packages (from requests<3.0.0,>=2.13.0->spacy<3.7.0,>=3.6.0->es-core-news-sm==3.6.0) (2023.7.22)\n",
            "Requirement already satisfied: blis<0.8.0,>=0.7.8 in /usr/local/lib/python3.10/dist-packages (from thinc<8.2.0,>=8.1.8->spacy<3.7.0,>=3.6.0->es-core-news-sm==3.6.0) (0.7.10)\n",
            "Requirement already satisfied: confection<1.0.0,>=0.0.1 in /usr/local/lib/python3.10/dist-packages (from thinc<8.2.0,>=8.1.8->spacy<3.7.0,>=3.6.0->es-core-news-sm==3.6.0) (0.1.1)\n",
            "Requirement already satisfied: click<9.0.0,>=7.1.1 in /usr/local/lib/python3.10/dist-packages (from typer<0.10.0,>=0.3.0->spacy<3.7.0,>=3.6.0->es-core-news-sm==3.6.0) (8.1.7)\n",
            "Requirement already satisfied: MarkupSafe>=2.0 in /usr/local/lib/python3.10/dist-packages (from jinja2->spacy<3.7.0,>=3.6.0->es-core-news-sm==3.6.0) (2.1.3)\n",
            "\u001b[38;5;2m✔ Download and installation successful\u001b[0m\n",
            "You can now load the package via spacy.load('es_core_news_sm')\n"
          ]
        }
      ]
    },
    {
      "cell_type": "code",
      "source": [
        "# cargar pipeline de pre-procesamiento en español\n",
        "import spacy\n",
        "nlp = spacy.load(\"es_core_news_sm\")"
      ],
      "metadata": {
        "id": "zshKEzNo2dQa"
      },
      "execution_count": 30,
      "outputs": []
    },
    {
      "cell_type": "code",
      "source": [
        "import re\n",
        "import unicodedata\n",
        "\n",
        "# El preprocesamento en castellano requiere más trabajo\n",
        "\n",
        "# Referencia de regex:\n",
        "# https://docs.python.org/3/library/re.html\n",
        "\n",
        "def preprocess_clean_text(text):\n",
        "    # sacar tildes de las palabras:\n",
        "    text = unicodedata.normalize('NFKD', text).encode('ascii', 'ignore').decode('utf-8', 'ignore')\n",
        "    # quitar caracteres especiales\n",
        "    pattern = r'[^a-zA-z0-9.,!?/:;\\\"\\'\\s]' # [^ : ningún caracter de todos estos\n",
        "    # (termina eliminando cualquier caracter distinto de los del regex)\n",
        "    text = re.sub(pattern, '', text)\n",
        "    pattern = r'[^a-zA-z.,!?/:;\\\"\\'\\s]' # igual al anterior pero sin cifras numéricas\n",
        "    # quitar números\n",
        "    text = re.sub(pattern, '', text)\n",
        "    # quitar caracteres de puntuación\n",
        "    text = ''.join([c for c in text if c not in string.punctuation])\n",
        "    return text"
      ],
      "metadata": {
        "id": "_gnEgTiD3Nim"
      },
      "execution_count": 114,
      "outputs": []
    },
    {
      "cell_type": "code",
      "source": [
        "text = \"personas Ideas! estás cosas y los peces y los murciélagos\"\n",
        "\n",
        "# Antes de preprocesar los datos se pasa a minúsculas todo el texto\n",
        "preprocess_clean_text(text.lower())"
      ],
      "metadata": {
        "colab": {
          "base_uri": "https://localhost:8080/",
          "height": 35
        },
        "id": "0L1yH5pI3eRr",
        "outputId": "f56301fb-3818-4542-f8f0-6151d0ea4144"
      },
      "execution_count": 115,
      "outputs": [
        {
          "output_type": "execute_result",
          "data": {
            "text/plain": [
              "'personas ideas estas cosas y los peces y los murcielagos'"
            ],
            "application/vnd.google.colaboratory.intrinsic+json": {
              "type": "string"
            }
          },
          "metadata": {},
          "execution_count": 115
        }
      ]
    },
    {
      "cell_type": "code",
      "source": [
        "# Ejemplo de como funciona\n",
        "text = \"hola personas Ideas! estás cosas y los peces y los murciélagos\"\n",
        "\n",
        "# Antes de preprocesar los datos se pasa a minúsculas todo el texto\n",
        "tokens = nlp(preprocess_clean_text(text.lower()))\n",
        "print(\"tokens:\", tokens)\n",
        "print(\"Lematización de cada token:\")\n",
        "for token in tokens:\n",
        "    print([token, token.lemma_])"
      ],
      "metadata": {
        "colab": {
          "base_uri": "https://localhost:8080/"
        },
        "id": "3bJ2YEWM3k1_",
        "outputId": "1cd42fc6-9a04-4e24-a338-66dfe1d87ca4"
      },
      "execution_count": 116,
      "outputs": [
        {
          "output_type": "stream",
          "name": "stdout",
          "text": [
            "tokens: hola personas ideas estas cosas y los peces y los murcielagos\n",
            "Lematización de cada token:\n",
            "[hola, 'holar']\n",
            "[personas, 'persona']\n",
            "[ideas, 'idea']\n",
            "[estas, 'este']\n",
            "[cosas, 'cosa']\n",
            "[y, 'y']\n",
            "[los, 'el']\n",
            "[peces, 'pez']\n",
            "[y, 'y']\n",
            "[los, 'el']\n",
            "[murcielagos, 'murcielago']\n"
          ]
        }
      ]
    },
    {
      "cell_type": "code",
      "source": [
        "# Dataset en formato JSON que representa las posibles preguntas (patterns)\n",
        "# y las posibles respuestas por categoría (tag)\n",
        "# Los \"patterns\" van a formar el corpus para entrenar el clasificador que clasifica en tags\n",
        "# \"respones\" son las respuestas predeterminadas posibles para cada tag\n",
        "dataset = {\"intents\": [\n",
        "             {\"tag\": \"bienvenida\",\n",
        "              \"patterns\": [\"Hola\", \"Hola, ¿Estas?\", \"¿Cómo estás?\", \"¿Qué tal?\", \"Buenas\"],\n",
        "              \"responses\": [\"Hola! Bienvinido a MedicOnline. ¿En que te puedo ayudar?\", \"Bienvenido a MedicOnline. ¿En que te puedo ayudar?\"],\n",
        "             },\n",
        "             {\"tag\": \"agendar\",\n",
        "              \"patterns\": [\"Programar cita\", \"Programar\", \"Quisiera programar una cita\", \"cita\"],\n",
        "              \"responses\": [\"¿Para cuando quieres tu cita?\"],\n",
        "             },\n",
        "             {\"tag\": \"programadas\",\n",
        "              \"patterns\": [\"¿Tengo citas programadas?\", \"Quisiera conocer el estado de mi cita\", \"Estado de mi cita\"],\n",
        "              \"responses\": [\"Buscando citas programadas...\", \"No se encontraron citas programadas\"],\n",
        "             },\n",
        "             {\"tag\": \"urgencias\",\n",
        "              \"patterns\": [\"emergencia\", \"urgencia\", \"sos\", \"ayuda\", \"accidente\"],\n",
        "              \"responses\": [\"Envíe su ubicación y una ambulancia andará en camino\"],\n",
        "             },\n",
        "             {\"tag\": \"contacto\",\n",
        "              \"patterns\": [\"Necesito contactarme\", \"contacto\", \"contactar a un doctor\"],\n",
        "              \"responses\": [\"Enseguida lo derivaremos con un doctor de urgencias...\"],\n",
        "             },\n",
        "             {\"tag\": \"despedida\",\n",
        "              \"patterns\": [\"Muchas gracias\", \"Gracias\", \"Hasta luego\", \"Adios\", \"Ok\"],\n",
        "              \"responses\": [\"Hasta Luego!\", \"Que te mejores!\"],\n",
        "             },\n",
        "\n",
        "]}"
      ],
      "metadata": {
        "id": "MbTdZRzW36M0"
      },
      "execution_count": 117,
      "outputs": []
    },
    {
      "cell_type": "code",
      "source": [
        "# Datos que necesitaremos, las palabras o vocabulario\n",
        "words = []\n",
        "classes = []\n",
        "doc_X = []\n",
        "doc_y = []\n",
        "\n",
        "# Por cada intención (intents) debemos tomar los patrones que la caracterizan\n",
        "# a esa intención y transformarla a tokens para almacenar en doc_X\n",
        "\n",
        "# El tag de cada intención se almacena como doc_Y (la clase a predecir)\n",
        "# En `words` vamos a guardar el vocabulario\n",
        "# En `class` las posibles clases o tags\n",
        "\n",
        "for intent in dataset[\"intents\"]:\n",
        "    for pattern in intent[\"patterns\"]:\n",
        "        # trasformar el patron a tokens\n",
        "        tokens = nlp(preprocess_clean_text(pattern.lower()))\n",
        "        # lematizar los tokens\n",
        "        for token in tokens:\n",
        "            words.append(token.lemma_)\n",
        "\n",
        "        doc_X.append(pattern)\n",
        "        doc_y.append(intent[\"tag\"])\n",
        "\n",
        "    # Agregar el tag a las clases\n",
        "    if intent[\"tag\"] not in classes:\n",
        "        classes.append(intent[\"tag\"])\n",
        "\n",
        "# Elminar duplicados con \"set\" y ordenar el vocabulario y las clases por orden alfabético\n",
        "words = sorted(set(words))\n",
        "classes = sorted(set(classes))"
      ],
      "metadata": {
        "id": "EOY8DHAWDSzG"
      },
      "execution_count": 118,
      "outputs": []
    },
    {
      "cell_type": "code",
      "source": [
        "print(\"words:\", words)\n",
        "print(\"classes:\", classes)\n",
        "print(\"doc_X:\", doc_X)\n",
        "print(\"doc_y:\", doc_y)"
      ],
      "metadata": {
        "colab": {
          "base_uri": "https://localhost:8080/"
        },
        "id": "ezuAveJmEWkB",
        "outputId": "2e51a745-2c1c-43ad-fb47-88c6c1d1f89f"
      },
      "execution_count": 119,
      "outputs": [
        {
          "output_type": "stream",
          "name": "stdout",
          "text": [
            "words: ['a', 'accidente', 'adio', 'ayuda', 'buena', 'cita', 'como', 'conocer', 'contactar', 'contactarme', 'contacto', 'de', 'doctor', 'el', 'emergencia', 'estado', 'este', 'gracia', 'gracias', 'hasta', 'holar', 'luego', 'mi', 'mucho', 'necesitar', 'ok', 'programado', 'programar', 'que', 'querer', 'so', 'tal', 'tener', 'uno', 'urgencia']\n",
            "classes: ['agendar', 'bienvenida', 'contacto', 'despedida', 'programadas', 'urgencias']\n",
            "doc_X: ['Hola', 'Hola, ¿Estas?', '¿Cómo estás?', '¿Qué tal?', 'Buenas', 'Programar cita', 'Programar', 'Quisiera programar una cita', 'cita', '¿Tengo citas programadas?', 'Quisiera conocer el estado de mi cita', 'Estado de mi cita', 'emergencia', 'urgencia', 'sos', 'ayuda', 'accidente', 'Necesito contactarme', 'contacto', 'contactar a un doctor', 'Muchas gracias', 'Gracias', 'Hasta luego', 'Adios', 'Ok']\n",
            "doc_y: ['bienvenida', 'bienvenida', 'bienvenida', 'bienvenida', 'bienvenida', 'agendar', 'agendar', 'agendar', 'agendar', 'programadas', 'programadas', 'programadas', 'urgencias', 'urgencias', 'urgencias', 'urgencias', 'urgencias', 'contacto', 'contacto', 'contacto', 'despedida', 'despedida', 'despedida', 'despedida', 'despedida']\n"
          ]
        }
      ]
    },
    {
      "cell_type": "code",
      "source": [
        "# Tamaño del vocabulario\n",
        "print(\"Vocabulario:\", len(words))\n",
        "# Cantidad de tags\n",
        "print(\"Tags:\", len(classes))"
      ],
      "metadata": {
        "colab": {
          "base_uri": "https://localhost:8080/"
        },
        "id": "kV3yZv1aGhP6",
        "outputId": "4ed49f45-845d-40f1-b541-cbfebe993e3d"
      },
      "execution_count": 120,
      "outputs": [
        {
          "output_type": "stream",
          "name": "stdout",
          "text": [
            "Vocabulario: 35\n",
            "Tags: 6\n"
          ]
        }
      ]
    },
    {
      "cell_type": "code",
      "source": [
        "# llevo los tokens del corpus completo para luego aplicar TF-IDF\n",
        "text_test = []\n",
        "for idx, doc in enumerate(doc_X):\n",
        "    # Transformar la pregunta (input) en tokens y lematizar\n",
        "    tokens = nlp(preprocess_clean_text(doc.lower()))\n",
        "    for token in tokens:\n",
        "      text_test.append(token.lemma_)\n",
        "print(text_test)"
      ],
      "metadata": {
        "colab": {
          "base_uri": "https://localhost:8080/"
        },
        "id": "KE_58TwoaBg1",
        "outputId": "6ece31c9-bce4-4639-a8da-5fa04d61cdaa"
      },
      "execution_count": 121,
      "outputs": [
        {
          "output_type": "stream",
          "name": "stdout",
          "text": [
            "['holar', 'holar', 'este', 'como', 'este', 'que', 'tal', 'buena', 'programar', 'cita', 'programar', 'querer', 'programar', 'uno', 'cita', 'cita', 'tener', 'cita', 'programado', 'querer', 'conocer', 'el', 'estado', 'de', 'mi', 'cita', 'estado', 'de', 'mi', 'cita', 'emergencia', 'urgencia', 'so', 'ayuda', 'accidente', 'necesitar', 'contactarme', 'contacto', 'contactar', 'a', 'uno', 'doctor', 'mucho', 'gracia', 'gracias', 'hasta', 'luego', 'adio', 'ok']\n"
          ]
        }
      ]
    },
    {
      "cell_type": "code",
      "source": [
        "# Transformar doc_X en bag of words por TF-IDF\n",
        "# Transformar doc_Y en un vector de clases multicategórico con OneHotEncoding\n",
        "from math import log\n",
        "\n",
        "training = []\n",
        "out_empty = [0] * len(classes)\n",
        "\n",
        "for idx, doc in enumerate(doc_X):\n",
        "    # Transformar la pregunta (input) en tokens y lematizar\n",
        "    text = []\n",
        "    tokens = nlp(preprocess_clean_text(doc.lower()))\n",
        "    for token in tokens:\n",
        "      text.append(token.lemma_)\n",
        "\n",
        "    bow = []\n",
        "    idf_terms = []\n",
        "    corpus_size = len(doc_X)\n",
        "    # Transformar los tokens en \"Bag of words\"\n",
        "    for word in words:\n",
        "      # IDF\n",
        "      [idf_terms.append(word) for docs in text_test if word in docs]\n",
        "      idf_values = len([count for count, value in enumerate(idf_terms) if value == word])\n",
        "      idf = log(corpus_size / idf_values)\n",
        "      # TF-IDF\n",
        "      if word not in text:\n",
        "        bow.append(0 * idf) # si no existe colocamos 0\n",
        "      else:\n",
        "        # buscamos cuantas veces se repite el termino en el documento\n",
        "        num_obs = len([count for count, value in enumerate(text) if value == word])\n",
        "        bow.append(num_obs * idf)\n",
        "\n",
        "    # Crear el array de salida (class output) correspondiente\n",
        "    output_row = list(out_empty)\n",
        "    output_row[classes.index(doc_y[idx])] = 1\n",
        "\n",
        "    print(\"X:\", bow, \"y:\", output_row)\n",
        "    training.append([bow, output_row])\n",
        "\n",
        "# Mezclar los datos\n",
        "random.shuffle(training)\n",
        "training = np.array(training, dtype=object)\n",
        "# Dividir en datos de entrada y salida\n",
        "train_X = np.array(list(training[:, 0]))\n",
        "train_y = np.array(list(training[:, 1]))"
      ],
      "metadata": {
        "colab": {
          "base_uri": "https://localhost:8080/"
        },
        "id": "UhuG27jYGnEV",
        "outputId": "1bb549a8-f58a-4634-f4b5-e853214b6c55"
      },
      "execution_count": 122,
      "outputs": [
        {
          "output_type": "stream",
          "name": "stdout",
          "text": [
            "X: [-0.0, 0.0, 0.0, 0.0, 0.0, 0.0, 0.0, 0.0, 0.0, 0.0, 0.0, 0.0, 0.0, 0.0, 0.0, 0.0, 0.0, 0.0, 0.0, 0.0, 2.5257286443082556, 0.0, 0.0, 0.0, 0.0, 0.0, 0.0, 0.0, 0.0, 0.0, 0.0, 0.0, 0.0, 0.0, 0.0] y: [0, 1, 0, 0, 0, 0]\n",
            "X: [-0.0, 0.0, 0.0, 0.0, 0.0, 0.0, 0.0, 0.0, 0.0, 0.0, 0.0, 0.0, 0.0, 0.0, 0.0, 0.0, 2.5257286443082556, 0.0, 0.0, 0.0, 2.5257286443082556, 0.0, 0.0, 0.0, 0.0, 0.0, 0.0, 0.0, 0.0, 0.0, 0.0, 0.0, 0.0, 0.0, 0.0] y: [0, 1, 0, 0, 0, 0]\n",
            "X: [-0.0, 0.0, 0.0, 0.0, 0.0, 0.0, 3.2188758248682006, 0.0, 0.0, 0.0, 0.0, 0.0, 0.0, 0.0, 0.0, 0.0, 2.5257286443082556, 0.0, 0.0, 0.0, 0.0, 0.0, 0.0, 0.0, 0.0, 0.0, 0.0, 0.0, 0.0, 0.0, 0.0, 0.0, 0.0, 0.0, 0.0] y: [0, 1, 0, 0, 0, 0]\n",
            "X: [-0.0, 0.0, 0.0, 0.0, 0.0, 0.0, 0.0, 0.0, 0.0, 0.0, 0.0, 0.0, 0.0, 0.0, 0.0, 0.0, 0.0, 0.0, 0.0, 0.0, 0.0, 0.0, 0.0, 0.0, 0.0, 0.0, 0.0, 0.0, 2.120263536200091, 0.0, 0.0, 3.2188758248682006, 0.0, 0.0, 0.0] y: [0, 1, 0, 0, 0, 0]\n",
            "X: [-0.0, 0.0, 0.0, 0.0, 3.2188758248682006, 0.0, 0.0, 0.0, 0.0, 0.0, 0.0, 0.0, 0.0, 0.0, 0.0, 0.0, 0.0, 0.0, 0.0, 0.0, 0.0, 0.0, 0.0, 0.0, 0.0, 0.0, 0.0, 0.0, 0.0, 0.0, 0.0, 0.0, 0.0, 0.0, 0.0] y: [0, 1, 0, 0, 0, 0]\n",
            "X: [-0.0, 0.0, 0.0, 0.0, 0.0, 1.4271163556401458, 0.0, 0.0, 0.0, 0.0, 0.0, 0.0, 0.0, 0.0, 0.0, 0.0, 0.0, 0.0, 0.0, 0.0, 0.0, 0.0, 0.0, 0.0, 0.0, 0.0, 0.0, 2.120263536200091, 0.0, 0.0, 0.0, 0.0, 0.0, 0.0, 0.0] y: [1, 0, 0, 0, 0, 0]\n",
            "X: [-0.0, 0.0, 0.0, 0.0, 0.0, 0.0, 0.0, 0.0, 0.0, 0.0, 0.0, 0.0, 0.0, 0.0, 0.0, 0.0, 0.0, 0.0, 0.0, 0.0, 0.0, 0.0, 0.0, 0.0, 0.0, 0.0, 0.0, 2.120263536200091, 0.0, 0.0, 0.0, 0.0, 0.0, 0.0, 0.0] y: [1, 0, 0, 0, 0, 0]\n",
            "X: [-0.0, 0.0, 0.0, 0.0, 0.0, 1.4271163556401458, 0.0, 0.0, 0.0, 0.0, 0.0, 0.0, 0.0, 0.0, 0.0, 0.0, 0.0, 0.0, 0.0, 0.0, 0.0, 0.0, 0.0, 0.0, 0.0, 0.0, 0.0, 2.120263536200091, 0.0, 2.5257286443082556, 0.0, 0.0, 0.0, 2.5257286443082556, 0.0] y: [1, 0, 0, 0, 0, 0]\n",
            "X: [-0.0, 0.0, 0.0, 0.0, 0.0, 1.4271163556401458, 0.0, 0.0, 0.0, 0.0, 0.0, 0.0, 0.0, 0.0, 0.0, 0.0, 0.0, 0.0, 0.0, 0.0, 0.0, 0.0, 0.0, 0.0, 0.0, 0.0, 0.0, 0.0, 0.0, 0.0, 0.0, 0.0, 0.0, 0.0, 0.0] y: [1, 0, 0, 0, 0, 0]\n",
            "X: [-0.0, 0.0, 0.0, 0.0, 0.0, 1.4271163556401458, 0.0, 0.0, 0.0, 0.0, 0.0, 0.0, 0.0, 0.0, 0.0, 0.0, 0.0, 0.0, 0.0, 0.0, 0.0, 0.0, 0.0, 0.0, 0.0, 0.0, 3.2188758248682006, 0.0, 0.0, 0.0, 0.0, 0.0, 3.2188758248682006, 0.0, 0.0] y: [0, 0, 0, 0, 1, 0]\n",
            "X: [-0.0, 0.0, 0.0, 0.0, 0.0, 1.4271163556401458, 0.0, 3.2188758248682006, 0.0, 0.0, 0.0, 2.120263536200091, 0.0, 3.2188758248682006, 0.0, 2.5257286443082556, 0.0, 0.0, 0.0, 0.0, 0.0, 0.0, 2.5257286443082556, 0.0, 0.0, 0.0, 0.0, 0.0, 0.0, 2.5257286443082556, 0.0, 0.0, 0.0, 0.0, 0.0] y: [0, 0, 0, 0, 1, 0]\n",
            "X: [-0.0, 0.0, 0.0, 0.0, 0.0, 1.4271163556401458, 0.0, 0.0, 0.0, 0.0, 0.0, 2.120263536200091, 0.0, 0.0, 0.0, 2.5257286443082556, 0.0, 0.0, 0.0, 0.0, 0.0, 0.0, 2.5257286443082556, 0.0, 0.0, 0.0, 0.0, 0.0, 0.0, 0.0, 0.0, 0.0, 0.0, 0.0, 0.0] y: [0, 0, 0, 0, 1, 0]\n",
            "X: [-0.0, 0.0, 0.0, 0.0, 0.0, 0.0, 0.0, 0.0, 0.0, 0.0, 0.0, 0.0, 0.0, 0.0, 3.2188758248682006, 0.0, 0.0, 0.0, 0.0, 0.0, 0.0, 0.0, 0.0, 0.0, 0.0, 0.0, 0.0, 0.0, 0.0, 0.0, 0.0, 0.0, 0.0, 0.0, 0.0] y: [0, 0, 0, 0, 0, 1]\n",
            "X: [-0.0, 0.0, 0.0, 0.0, 0.0, 0.0, 0.0, 0.0, 0.0, 0.0, 0.0, 0.0, 0.0, 0.0, 0.0, 0.0, 0.0, 0.0, 0.0, 0.0, 0.0, 0.0, 0.0, 0.0, 0.0, 0.0, 0.0, 0.0, 0.0, 0.0, 0.0, 0.0, 0.0, 0.0, 3.2188758248682006] y: [0, 0, 0, 0, 0, 1]\n",
            "X: [-0.0, 0.0, 0.0, 0.0, 0.0, 0.0, 0.0, 0.0, 0.0, 0.0, 0.0, 0.0, 0.0, 0.0, 0.0, 0.0, 0.0, 0.0, 0.0, 0.0, 0.0, 0.0, 0.0, 0.0, 0.0, 0.0, 0.0, 0.0, 0.0, 0.0, 3.2188758248682006, 0.0, 0.0, 0.0, 0.0] y: [0, 0, 0, 0, 0, 1]\n",
            "X: [-0.0, 0.0, 0.0, 3.2188758248682006, 0.0, 0.0, 0.0, 0.0, 0.0, 0.0, 0.0, 0.0, 0.0, 0.0, 0.0, 0.0, 0.0, 0.0, 0.0, 0.0, 0.0, 0.0, 0.0, 0.0, 0.0, 0.0, 0.0, 0.0, 0.0, 0.0, 0.0, 0.0, 0.0, 0.0, 0.0] y: [0, 0, 0, 0, 0, 1]\n",
            "X: [-0.0, 3.2188758248682006, 0.0, 0.0, 0.0, 0.0, 0.0, 0.0, 0.0, 0.0, 0.0, 0.0, 0.0, 0.0, 0.0, 0.0, 0.0, 0.0, 0.0, 0.0, 0.0, 0.0, 0.0, 0.0, 0.0, 0.0, 0.0, 0.0, 0.0, 0.0, 0.0, 0.0, 0.0, 0.0, 0.0] y: [0, 0, 0, 0, 0, 1]\n",
            "X: [-0.0, 0.0, 0.0, 0.0, 0.0, 0.0, 0.0, 0.0, 0.0, 3.2188758248682006, 0.0, 0.0, 0.0, 0.0, 0.0, 0.0, 0.0, 0.0, 0.0, 0.0, 0.0, 0.0, 0.0, 0.0, 3.2188758248682006, 0.0, 0.0, 0.0, 0.0, 0.0, 0.0, 0.0, 0.0, 0.0, 0.0] y: [0, 0, 1, 0, 0, 0]\n",
            "X: [-0.0, 0.0, 0.0, 0.0, 0.0, 0.0, 0.0, 0.0, 0.0, 0.0, 3.2188758248682006, 0.0, 0.0, 0.0, 0.0, 0.0, 0.0, 0.0, 0.0, 0.0, 0.0, 0.0, 0.0, 0.0, 0.0, 0.0, 0.0, 0.0, 0.0, 0.0, 0.0, 0.0, 0.0, 0.0, 0.0] y: [0, 0, 1, 0, 0, 0]\n",
            "X: [-0.14842000511827333, 0.0, 0.0, 0.0, 0.0, 0.0, 0.0, 0.0, 2.5257286443082556, 0.0, 0.0, 0.0, 3.2188758248682006, 0.0, 0.0, 0.0, 0.0, 0.0, 0.0, 0.0, 0.0, 0.0, 0.0, 0.0, 0.0, 0.0, 0.0, 0.0, 0.0, 0.0, 0.0, 0.0, 0.0, 2.5257286443082556, 0.0] y: [0, 0, 1, 0, 0, 0]\n",
            "X: [-0.0, 0.0, 0.0, 0.0, 0.0, 0.0, 0.0, 0.0, 0.0, 0.0, 0.0, 0.0, 0.0, 0.0, 0.0, 0.0, 0.0, 2.5257286443082556, 0.0, 0.0, 0.0, 0.0, 0.0, 3.2188758248682006, 0.0, 0.0, 0.0, 0.0, 0.0, 0.0, 0.0, 0.0, 0.0, 0.0, 0.0] y: [0, 0, 0, 1, 0, 0]\n",
            "X: [-0.0, 0.0, 0.0, 0.0, 0.0, 0.0, 0.0, 0.0, 0.0, 0.0, 0.0, 0.0, 0.0, 0.0, 0.0, 0.0, 0.0, 0.0, 3.2188758248682006, 0.0, 0.0, 0.0, 0.0, 0.0, 0.0, 0.0, 0.0, 0.0, 0.0, 0.0, 0.0, 0.0, 0.0, 0.0, 0.0] y: [0, 0, 0, 1, 0, 0]\n",
            "X: [-0.0, 0.0, 0.0, 0.0, 0.0, 0.0, 0.0, 0.0, 0.0, 0.0, 0.0, 0.0, 0.0, 0.0, 0.0, 0.0, 0.0, 0.0, 0.0, 3.2188758248682006, 0.0, 3.2188758248682006, 0.0, 0.0, 0.0, 0.0, 0.0, 0.0, 0.0, 0.0, 0.0, 0.0, 0.0, 0.0, 0.0] y: [0, 0, 0, 1, 0, 0]\n",
            "X: [-0.0, 0.0, 3.2188758248682006, 0.0, 0.0, 0.0, 0.0, 0.0, 0.0, 0.0, 0.0, 0.0, 0.0, 0.0, 0.0, 0.0, 0.0, 0.0, 0.0, 0.0, 0.0, 0.0, 0.0, 0.0, 0.0, 0.0, 0.0, 0.0, 0.0, 0.0, 0.0, 0.0, 0.0, 0.0, 0.0] y: [0, 0, 0, 1, 0, 0]\n",
            "X: [-0.0, 0.0, 0.0, 0.0, 0.0, 0.0, 0.0, 0.0, 0.0, 0.0, 0.0, 0.0, 0.0, 0.0, 0.0, 0.0, 0.0, 0.0, 0.0, 0.0, 0.0, 0.0, 0.0, 0.0, 0.0, 3.2188758248682006, 0.0, 0.0, 0.0, 0.0, 0.0, 0.0, 0.0, 0.0, 0.0] y: [0, 0, 0, 1, 0, 0]\n"
          ]
        }
      ]
    },
    {
      "cell_type": "code",
      "source": [
        "log(len(doc_X)/1)"
      ],
      "metadata": {
        "colab": {
          "base_uri": "https://localhost:8080/"
        },
        "id": "zIlHQSSRWmHe",
        "outputId": "564e1337-008d-404a-d7be-5d4830088c10"
      },
      "execution_count": 123,
      "outputs": [
        {
          "output_type": "execute_result",
          "data": {
            "text/plain": [
              "3.2188758248682006"
            ]
          },
          "metadata": {},
          "execution_count": 123
        }
      ]
    },
    {
      "cell_type": "code",
      "source": [
        "# Shape de entrada y salida\n",
        "input_shape = (train_X.shape[1],)\n",
        "output_shape = train_y.shape[1]\n",
        "print(\"input:\", input_shape, \"output:\", output_shape)"
      ],
      "metadata": {
        "colab": {
          "base_uri": "https://localhost:8080/"
        },
        "id": "-OQmdxPqPAQ7",
        "outputId": "601c3274-d9c9-4a23-f078-e0e78f95b6a4"
      },
      "execution_count": 124,
      "outputs": [
        {
          "output_type": "stream",
          "name": "stdout",
          "text": [
            "input: (35,) output: 6\n"
          ]
        }
      ]
    },
    {
      "cell_type": "code",
      "source": [
        "# Entrenamiento del modelo DNN\n",
        "# - Modelo secuencial\n",
        "# - Con regularización\n",
        "# - softmax y optimizador Adam\n",
        "model = Sequential()\n",
        "model.add(Dense(64, input_shape=input_shape, activation=\"relu\"))\n",
        "model.add(Dropout(0.5))\n",
        "model.add(Dense(32, activation=\"relu\"))\n",
        "model.add(Dropout(0.5))\n",
        "model.add(Dense(output_shape, activation = \"softmax\"))\n",
        "\n",
        "model.compile(loss='categorical_crossentropy',\n",
        "              optimizer=\"Adam\",\n",
        "              metrics=[\"accuracy\"])\n",
        "print(model.summary())"
      ],
      "metadata": {
        "colab": {
          "base_uri": "https://localhost:8080/"
        },
        "id": "dkeRt4ZpZk_h",
        "outputId": "d35f4d91-07a1-4083-948d-cb095d5799d3"
      },
      "execution_count": 125,
      "outputs": [
        {
          "output_type": "stream",
          "name": "stdout",
          "text": [
            "Model: \"sequential_1\"\n",
            "_________________________________________________________________\n",
            " Layer (type)                Output Shape              Param #   \n",
            "=================================================================\n",
            " dense_3 (Dense)             (None, 64)                2304      \n",
            "                                                                 \n",
            " dropout_2 (Dropout)         (None, 64)                0         \n",
            "                                                                 \n",
            " dense_4 (Dense)             (None, 32)                2080      \n",
            "                                                                 \n",
            " dropout_3 (Dropout)         (None, 32)                0         \n",
            "                                                                 \n",
            " dense_5 (Dense)             (None, 6)                 198       \n",
            "                                                                 \n",
            "=================================================================\n",
            "Total params: 4,582\n",
            "Trainable params: 4,582\n",
            "Non-trainable params: 0\n",
            "_________________________________________________________________\n",
            "None\n"
          ]
        }
      ]
    },
    {
      "cell_type": "code",
      "source": [
        "hist = model.fit(x=train_X, y=train_y, epochs=200)"
      ],
      "metadata": {
        "colab": {
          "base_uri": "https://localhost:8080/"
        },
        "id": "2MUO1q00aNoj",
        "outputId": "f4525747-3af8-4327-d039-bec59889ecb0"
      },
      "execution_count": 126,
      "outputs": [
        {
          "output_type": "stream",
          "name": "stdout",
          "text": [
            "Epoch 1/200\n",
            "1/1 [==============================] - 1s 921ms/step - loss: 1.9706 - accuracy: 0.1200\n",
            "Epoch 2/200\n",
            "1/1 [==============================] - 0s 15ms/step - loss: 2.0333 - accuracy: 0.0400\n",
            "Epoch 3/200\n",
            "1/1 [==============================] - 0s 19ms/step - loss: 1.7749 - accuracy: 0.2800\n",
            "Epoch 4/200\n",
            "1/1 [==============================] - 0s 22ms/step - loss: 1.8904 - accuracy: 0.1200\n",
            "Epoch 5/200\n",
            "1/1 [==============================] - 0s 19ms/step - loss: 1.8489 - accuracy: 0.2000\n",
            "Epoch 6/200\n",
            "1/1 [==============================] - 0s 12ms/step - loss: 1.5428 - accuracy: 0.2000\n",
            "Epoch 7/200\n",
            "1/1 [==============================] - 0s 17ms/step - loss: 1.8034 - accuracy: 0.2000\n",
            "Epoch 8/200\n",
            "1/1 [==============================] - 0s 16ms/step - loss: 1.9304 - accuracy: 0.1600\n",
            "Epoch 9/200\n",
            "1/1 [==============================] - 0s 12ms/step - loss: 2.1852 - accuracy: 0.1600\n",
            "Epoch 10/200\n",
            "1/1 [==============================] - 0s 14ms/step - loss: 1.6888 - accuracy: 0.2000\n",
            "Epoch 11/200\n",
            "1/1 [==============================] - 0s 12ms/step - loss: 1.7639 - accuracy: 0.2000\n",
            "Epoch 12/200\n",
            "1/1 [==============================] - 0s 13ms/step - loss: 1.9216 - accuracy: 0.2000\n",
            "Epoch 13/200\n",
            "1/1 [==============================] - 0s 12ms/step - loss: 1.6838 - accuracy: 0.3600\n",
            "Epoch 14/200\n",
            "1/1 [==============================] - 0s 13ms/step - loss: 1.6991 - accuracy: 0.2000\n",
            "Epoch 15/200\n",
            "1/1 [==============================] - 0s 12ms/step - loss: 1.8394 - accuracy: 0.2000\n",
            "Epoch 16/200\n",
            "1/1 [==============================] - 0s 12ms/step - loss: 1.9090 - accuracy: 0.2000\n",
            "Epoch 17/200\n",
            "1/1 [==============================] - 0s 14ms/step - loss: 1.6042 - accuracy: 0.2400\n",
            "Epoch 18/200\n",
            "1/1 [==============================] - 0s 13ms/step - loss: 1.7219 - accuracy: 0.2400\n",
            "Epoch 19/200\n",
            "1/1 [==============================] - 0s 13ms/step - loss: 1.7644 - accuracy: 0.2800\n",
            "Epoch 20/200\n",
            "1/1 [==============================] - 0s 17ms/step - loss: 1.8778 - accuracy: 0.0800\n",
            "Epoch 21/200\n",
            "1/1 [==============================] - 0s 14ms/step - loss: 1.7356 - accuracy: 0.2800\n",
            "Epoch 22/200\n",
            "1/1 [==============================] - 0s 17ms/step - loss: 1.5924 - accuracy: 0.2400\n",
            "Epoch 23/200\n",
            "1/1 [==============================] - 0s 19ms/step - loss: 1.6260 - accuracy: 0.2800\n",
            "Epoch 24/200\n",
            "1/1 [==============================] - 0s 19ms/step - loss: 1.6516 - accuracy: 0.3600\n",
            "Epoch 25/200\n",
            "1/1 [==============================] - 0s 13ms/step - loss: 1.7208 - accuracy: 0.3200\n",
            "Epoch 26/200\n",
            "1/1 [==============================] - 0s 15ms/step - loss: 1.6115 - accuracy: 0.2800\n",
            "Epoch 27/200\n",
            "1/1 [==============================] - 0s 14ms/step - loss: 1.6751 - accuracy: 0.2400\n",
            "Epoch 28/200\n",
            "1/1 [==============================] - 0s 16ms/step - loss: 1.6179 - accuracy: 0.3200\n",
            "Epoch 29/200\n",
            "1/1 [==============================] - 0s 20ms/step - loss: 1.5498 - accuracy: 0.3200\n",
            "Epoch 30/200\n",
            "1/1 [==============================] - 0s 18ms/step - loss: 1.7671 - accuracy: 0.1600\n",
            "Epoch 31/200\n",
            "1/1 [==============================] - 0s 14ms/step - loss: 1.6202 - accuracy: 0.4400\n",
            "Epoch 32/200\n",
            "1/1 [==============================] - 0s 18ms/step - loss: 1.6538 - accuracy: 0.2400\n",
            "Epoch 33/200\n",
            "1/1 [==============================] - 0s 12ms/step - loss: 1.7236 - accuracy: 0.2400\n",
            "Epoch 34/200\n",
            "1/1 [==============================] - 0s 14ms/step - loss: 1.6257 - accuracy: 0.3600\n",
            "Epoch 35/200\n",
            "1/1 [==============================] - 0s 12ms/step - loss: 1.6338 - accuracy: 0.2400\n",
            "Epoch 36/200\n",
            "1/1 [==============================] - 0s 13ms/step - loss: 1.5811 - accuracy: 0.3600\n",
            "Epoch 37/200\n",
            "1/1 [==============================] - 0s 16ms/step - loss: 1.5562 - accuracy: 0.2800\n",
            "Epoch 38/200\n",
            "1/1 [==============================] - 0s 12ms/step - loss: 1.9410 - accuracy: 0.2800\n",
            "Epoch 39/200\n",
            "1/1 [==============================] - 0s 15ms/step - loss: 1.6037 - accuracy: 0.2400\n",
            "Epoch 40/200\n",
            "1/1 [==============================] - 0s 12ms/step - loss: 1.5113 - accuracy: 0.3200\n",
            "Epoch 41/200\n",
            "1/1 [==============================] - 0s 12ms/step - loss: 1.6146 - accuracy: 0.4000\n",
            "Epoch 42/200\n",
            "1/1 [==============================] - 0s 14ms/step - loss: 1.5783 - accuracy: 0.2800\n",
            "Epoch 43/200\n",
            "1/1 [==============================] - 0s 12ms/step - loss: 1.4256 - accuracy: 0.4000\n",
            "Epoch 44/200\n",
            "1/1 [==============================] - 0s 12ms/step - loss: 1.5961 - accuracy: 0.3600\n",
            "Epoch 45/200\n",
            "1/1 [==============================] - 0s 14ms/step - loss: 1.5181 - accuracy: 0.3200\n",
            "Epoch 46/200\n",
            "1/1 [==============================] - 0s 13ms/step - loss: 1.6200 - accuracy: 0.2400\n",
            "Epoch 47/200\n",
            "1/1 [==============================] - 0s 16ms/step - loss: 1.4109 - accuracy: 0.3600\n",
            "Epoch 48/200\n",
            "1/1 [==============================] - 0s 17ms/step - loss: 1.6003 - accuracy: 0.4000\n",
            "Epoch 49/200\n",
            "1/1 [==============================] - 0s 14ms/step - loss: 1.6672 - accuracy: 0.4000\n",
            "Epoch 50/200\n",
            "1/1 [==============================] - 0s 17ms/step - loss: 1.3801 - accuracy: 0.4000\n",
            "Epoch 51/200\n",
            "1/1 [==============================] - 0s 12ms/step - loss: 1.5309 - accuracy: 0.3200\n",
            "Epoch 52/200\n",
            "1/1 [==============================] - 0s 12ms/step - loss: 1.5635 - accuracy: 0.3200\n",
            "Epoch 53/200\n",
            "1/1 [==============================] - 0s 14ms/step - loss: 1.4589 - accuracy: 0.4800\n",
            "Epoch 54/200\n",
            "1/1 [==============================] - 0s 11ms/step - loss: 1.5471 - accuracy: 0.3600\n",
            "Epoch 55/200\n",
            "1/1 [==============================] - 0s 11ms/step - loss: 1.4157 - accuracy: 0.4000\n",
            "Epoch 56/200\n",
            "1/1 [==============================] - 0s 11ms/step - loss: 1.6299 - accuracy: 0.2800\n",
            "Epoch 57/200\n",
            "1/1 [==============================] - 0s 10ms/step - loss: 1.4534 - accuracy: 0.4000\n",
            "Epoch 58/200\n",
            "1/1 [==============================] - 0s 10ms/step - loss: 1.4336 - accuracy: 0.5600\n",
            "Epoch 59/200\n",
            "1/1 [==============================] - 0s 12ms/step - loss: 1.3257 - accuracy: 0.5600\n",
            "Epoch 60/200\n",
            "1/1 [==============================] - 0s 12ms/step - loss: 1.4052 - accuracy: 0.4400\n",
            "Epoch 61/200\n",
            "1/1 [==============================] - 0s 12ms/step - loss: 1.3482 - accuracy: 0.5200\n",
            "Epoch 62/200\n",
            "1/1 [==============================] - 0s 16ms/step - loss: 1.4606 - accuracy: 0.4400\n",
            "Epoch 63/200\n",
            "1/1 [==============================] - 0s 13ms/step - loss: 1.4059 - accuracy: 0.5600\n",
            "Epoch 64/200\n",
            "1/1 [==============================] - 0s 13ms/step - loss: 1.5041 - accuracy: 0.3600\n",
            "Epoch 65/200\n",
            "1/1 [==============================] - 0s 11ms/step - loss: 1.3961 - accuracy: 0.4800\n",
            "Epoch 66/200\n",
            "1/1 [==============================] - 0s 13ms/step - loss: 1.6373 - accuracy: 0.3200\n",
            "Epoch 67/200\n",
            "1/1 [==============================] - 0s 12ms/step - loss: 1.3843 - accuracy: 0.5200\n",
            "Epoch 68/200\n",
            "1/1 [==============================] - 0s 12ms/step - loss: 1.5261 - accuracy: 0.5600\n",
            "Epoch 69/200\n",
            "1/1 [==============================] - 0s 11ms/step - loss: 1.6085 - accuracy: 0.2400\n",
            "Epoch 70/200\n",
            "1/1 [==============================] - 0s 11ms/step - loss: 1.3781 - accuracy: 0.5200\n",
            "Epoch 71/200\n",
            "1/1 [==============================] - 0s 13ms/step - loss: 1.5146 - accuracy: 0.3200\n",
            "Epoch 72/200\n",
            "1/1 [==============================] - 0s 12ms/step - loss: 1.7041 - accuracy: 0.3600\n",
            "Epoch 73/200\n",
            "1/1 [==============================] - 0s 11ms/step - loss: 1.4238 - accuracy: 0.4400\n",
            "Epoch 74/200\n",
            "1/1 [==============================] - 0s 12ms/step - loss: 1.2542 - accuracy: 0.5600\n",
            "Epoch 75/200\n",
            "1/1 [==============================] - 0s 12ms/step - loss: 1.4505 - accuracy: 0.3600\n",
            "Epoch 76/200\n",
            "1/1 [==============================] - 0s 12ms/step - loss: 1.4917 - accuracy: 0.4000\n",
            "Epoch 77/200\n",
            "1/1 [==============================] - 0s 11ms/step - loss: 1.3351 - accuracy: 0.5200\n",
            "Epoch 78/200\n",
            "1/1 [==============================] - 0s 13ms/step - loss: 1.1995 - accuracy: 0.6400\n",
            "Epoch 79/200\n",
            "1/1 [==============================] - 0s 12ms/step - loss: 1.3026 - accuracy: 0.4800\n",
            "Epoch 80/200\n",
            "1/1 [==============================] - 0s 12ms/step - loss: 1.2791 - accuracy: 0.5200\n",
            "Epoch 81/200\n",
            "1/1 [==============================] - 0s 15ms/step - loss: 1.3264 - accuracy: 0.4400\n",
            "Epoch 82/200\n",
            "1/1 [==============================] - 0s 13ms/step - loss: 1.4516 - accuracy: 0.4000\n",
            "Epoch 83/200\n",
            "1/1 [==============================] - 0s 13ms/step - loss: 1.2892 - accuracy: 0.5600\n",
            "Epoch 84/200\n",
            "1/1 [==============================] - 0s 12ms/step - loss: 1.2837 - accuracy: 0.6400\n",
            "Epoch 85/200\n",
            "1/1 [==============================] - 0s 12ms/step - loss: 1.2323 - accuracy: 0.6000\n",
            "Epoch 86/200\n",
            "1/1 [==============================] - 0s 15ms/step - loss: 1.2597 - accuracy: 0.5200\n",
            "Epoch 87/200\n",
            "1/1 [==============================] - 0s 14ms/step - loss: 1.4002 - accuracy: 0.5200\n",
            "Epoch 88/200\n",
            "1/1 [==============================] - 0s 14ms/step - loss: 1.2795 - accuracy: 0.6800\n",
            "Epoch 89/200\n",
            "1/1 [==============================] - 0s 16ms/step - loss: 1.0604 - accuracy: 0.8000\n",
            "Epoch 90/200\n",
            "1/1 [==============================] - 0s 13ms/step - loss: 1.1742 - accuracy: 0.7200\n",
            "Epoch 91/200\n",
            "1/1 [==============================] - 0s 12ms/step - loss: 1.2829 - accuracy: 0.5600\n",
            "Epoch 92/200\n",
            "1/1 [==============================] - 0s 13ms/step - loss: 1.2031 - accuracy: 0.5600\n",
            "Epoch 93/200\n",
            "1/1 [==============================] - 0s 14ms/step - loss: 1.2983 - accuracy: 0.5600\n",
            "Epoch 94/200\n",
            "1/1 [==============================] - 0s 13ms/step - loss: 1.2415 - accuracy: 0.5200\n",
            "Epoch 95/200\n",
            "1/1 [==============================] - 0s 13ms/step - loss: 1.3554 - accuracy: 0.4000\n",
            "Epoch 96/200\n",
            "1/1 [==============================] - 0s 12ms/step - loss: 1.1658 - accuracy: 0.6000\n",
            "Epoch 97/200\n",
            "1/1 [==============================] - 0s 12ms/step - loss: 1.4759 - accuracy: 0.2800\n",
            "Epoch 98/200\n",
            "1/1 [==============================] - 0s 12ms/step - loss: 1.3210 - accuracy: 0.4800\n",
            "Epoch 99/200\n",
            "1/1 [==============================] - 0s 12ms/step - loss: 1.1130 - accuracy: 0.6400\n",
            "Epoch 100/200\n",
            "1/1 [==============================] - 0s 13ms/step - loss: 1.3219 - accuracy: 0.4400\n",
            "Epoch 101/200\n",
            "1/1 [==============================] - 0s 13ms/step - loss: 1.1453 - accuracy: 0.6000\n",
            "Epoch 102/200\n",
            "1/1 [==============================] - 0s 14ms/step - loss: 1.1735 - accuracy: 0.6000\n",
            "Epoch 103/200\n",
            "1/1 [==============================] - 0s 13ms/step - loss: 1.2324 - accuracy: 0.5200\n",
            "Epoch 104/200\n",
            "1/1 [==============================] - 0s 13ms/step - loss: 1.2315 - accuracy: 0.4400\n",
            "Epoch 105/200\n",
            "1/1 [==============================] - 0s 14ms/step - loss: 1.3569 - accuracy: 0.5200\n",
            "Epoch 106/200\n",
            "1/1 [==============================] - 0s 14ms/step - loss: 1.1373 - accuracy: 0.5600\n",
            "Epoch 107/200\n",
            "1/1 [==============================] - 0s 18ms/step - loss: 1.2048 - accuracy: 0.6400\n",
            "Epoch 108/200\n",
            "1/1 [==============================] - 0s 16ms/step - loss: 1.1846 - accuracy: 0.7200\n",
            "Epoch 109/200\n",
            "1/1 [==============================] - 0s 18ms/step - loss: 1.1970 - accuracy: 0.5600\n",
            "Epoch 110/200\n",
            "1/1 [==============================] - 0s 15ms/step - loss: 1.1355 - accuracy: 0.5200\n",
            "Epoch 111/200\n",
            "1/1 [==============================] - 0s 13ms/step - loss: 1.1869 - accuracy: 0.5200\n",
            "Epoch 112/200\n",
            "1/1 [==============================] - 0s 12ms/step - loss: 1.1348 - accuracy: 0.5600\n",
            "Epoch 113/200\n",
            "1/1 [==============================] - 0s 13ms/step - loss: 1.1274 - accuracy: 0.5600\n",
            "Epoch 114/200\n",
            "1/1 [==============================] - 0s 12ms/step - loss: 1.0649 - accuracy: 0.8000\n",
            "Epoch 115/200\n",
            "1/1 [==============================] - 0s 13ms/step - loss: 1.1381 - accuracy: 0.6000\n",
            "Epoch 116/200\n",
            "1/1 [==============================] - 0s 13ms/step - loss: 0.9377 - accuracy: 0.7600\n",
            "Epoch 117/200\n",
            "1/1 [==============================] - 0s 13ms/step - loss: 1.1454 - accuracy: 0.6000\n",
            "Epoch 118/200\n",
            "1/1 [==============================] - 0s 13ms/step - loss: 1.1828 - accuracy: 0.6000\n",
            "Epoch 119/200\n",
            "1/1 [==============================] - 0s 12ms/step - loss: 0.9667 - accuracy: 0.7600\n",
            "Epoch 120/200\n",
            "1/1 [==============================] - 0s 12ms/step - loss: 0.8671 - accuracy: 0.7200\n",
            "Epoch 121/200\n",
            "1/1 [==============================] - 0s 12ms/step - loss: 1.2432 - accuracy: 0.5200\n",
            "Epoch 122/200\n",
            "1/1 [==============================] - 0s 14ms/step - loss: 1.1645 - accuracy: 0.6400\n",
            "Epoch 123/200\n",
            "1/1 [==============================] - 0s 13ms/step - loss: 0.9452 - accuracy: 0.6400\n",
            "Epoch 124/200\n",
            "1/1 [==============================] - 0s 15ms/step - loss: 1.0261 - accuracy: 0.7200\n",
            "Epoch 125/200\n",
            "1/1 [==============================] - 0s 14ms/step - loss: 0.9067 - accuracy: 0.7600\n",
            "Epoch 126/200\n",
            "1/1 [==============================] - 0s 13ms/step - loss: 1.0857 - accuracy: 0.6000\n",
            "Epoch 127/200\n",
            "1/1 [==============================] - 0s 13ms/step - loss: 1.0670 - accuracy: 0.6800\n",
            "Epoch 128/200\n",
            "1/1 [==============================] - 0s 15ms/step - loss: 1.1394 - accuracy: 0.6400\n",
            "Epoch 129/200\n",
            "1/1 [==============================] - 0s 13ms/step - loss: 1.1456 - accuracy: 0.6000\n",
            "Epoch 130/200\n",
            "1/1 [==============================] - 0s 15ms/step - loss: 1.1220 - accuracy: 0.5600\n",
            "Epoch 131/200\n",
            "1/1 [==============================] - 0s 15ms/step - loss: 0.8820 - accuracy: 0.8400\n",
            "Epoch 132/200\n",
            "1/1 [==============================] - 0s 13ms/step - loss: 0.7596 - accuracy: 0.8400\n",
            "Epoch 133/200\n",
            "1/1 [==============================] - 0s 14ms/step - loss: 0.9733 - accuracy: 0.6000\n",
            "Epoch 134/200\n",
            "1/1 [==============================] - 0s 12ms/step - loss: 0.9076 - accuracy: 0.7200\n",
            "Epoch 135/200\n",
            "1/1 [==============================] - 0s 14ms/step - loss: 0.9986 - accuracy: 0.6000\n",
            "Epoch 136/200\n",
            "1/1 [==============================] - 0s 14ms/step - loss: 1.1367 - accuracy: 0.5600\n",
            "Epoch 137/200\n",
            "1/1 [==============================] - 0s 12ms/step - loss: 1.0106 - accuracy: 0.6800\n",
            "Epoch 138/200\n",
            "1/1 [==============================] - 0s 12ms/step - loss: 0.8359 - accuracy: 0.7200\n",
            "Epoch 139/200\n",
            "1/1 [==============================] - 0s 12ms/step - loss: 0.8689 - accuracy: 0.6800\n",
            "Epoch 140/200\n",
            "1/1 [==============================] - 0s 13ms/step - loss: 1.0742 - accuracy: 0.6400\n",
            "Epoch 141/200\n",
            "1/1 [==============================] - 0s 14ms/step - loss: 1.3039 - accuracy: 0.4800\n",
            "Epoch 142/200\n",
            "1/1 [==============================] - 0s 13ms/step - loss: 1.0041 - accuracy: 0.7200\n",
            "Epoch 143/200\n",
            "1/1 [==============================] - 0s 14ms/step - loss: 1.0248 - accuracy: 0.7200\n",
            "Epoch 144/200\n",
            "1/1 [==============================] - 0s 12ms/step - loss: 0.7743 - accuracy: 0.7200\n",
            "Epoch 145/200\n",
            "1/1 [==============================] - 0s 11ms/step - loss: 0.9052 - accuracy: 0.8400\n",
            "Epoch 146/200\n",
            "1/1 [==============================] - 0s 11ms/step - loss: 1.0260 - accuracy: 0.6400\n",
            "Epoch 147/200\n",
            "1/1 [==============================] - 0s 11ms/step - loss: 0.6616 - accuracy: 0.9200\n",
            "Epoch 148/200\n",
            "1/1 [==============================] - 0s 12ms/step - loss: 0.9126 - accuracy: 0.8000\n",
            "Epoch 149/200\n",
            "1/1 [==============================] - 0s 12ms/step - loss: 0.9114 - accuracy: 0.7200\n",
            "Epoch 150/200\n",
            "1/1 [==============================] - 0s 11ms/step - loss: 0.8807 - accuracy: 0.6000\n",
            "Epoch 151/200\n",
            "1/1 [==============================] - 0s 12ms/step - loss: 0.8124 - accuracy: 0.7600\n",
            "Epoch 152/200\n",
            "1/1 [==============================] - 0s 11ms/step - loss: 0.7692 - accuracy: 0.8800\n",
            "Epoch 153/200\n",
            "1/1 [==============================] - 0s 11ms/step - loss: 0.7174 - accuracy: 0.8400\n",
            "Epoch 154/200\n",
            "1/1 [==============================] - 0s 11ms/step - loss: 0.9886 - accuracy: 0.7200\n",
            "Epoch 155/200\n",
            "1/1 [==============================] - 0s 11ms/step - loss: 0.7948 - accuracy: 0.7600\n",
            "Epoch 156/200\n",
            "1/1 [==============================] - 0s 11ms/step - loss: 0.7745 - accuracy: 0.7200\n",
            "Epoch 157/200\n",
            "1/1 [==============================] - 0s 11ms/step - loss: 0.7688 - accuracy: 0.8400\n",
            "Epoch 158/200\n",
            "1/1 [==============================] - 0s 11ms/step - loss: 0.7516 - accuracy: 0.8000\n",
            "Epoch 159/200\n",
            "1/1 [==============================] - 0s 11ms/step - loss: 0.6416 - accuracy: 0.7200\n",
            "Epoch 160/200\n",
            "1/1 [==============================] - 0s 11ms/step - loss: 0.8729 - accuracy: 0.7200\n",
            "Epoch 161/200\n",
            "1/1 [==============================] - 0s 12ms/step - loss: 0.8170 - accuracy: 0.6800\n",
            "Epoch 162/200\n",
            "1/1 [==============================] - 0s 13ms/step - loss: 0.7697 - accuracy: 0.8400\n",
            "Epoch 163/200\n",
            "1/1 [==============================] - 0s 12ms/step - loss: 0.8187 - accuracy: 0.8000\n",
            "Epoch 164/200\n",
            "1/1 [==============================] - 0s 14ms/step - loss: 0.8662 - accuracy: 0.7600\n",
            "Epoch 165/200\n",
            "1/1 [==============================] - 0s 13ms/step - loss: 0.7650 - accuracy: 0.7600\n",
            "Epoch 166/200\n",
            "1/1 [==============================] - 0s 13ms/step - loss: 0.7533 - accuracy: 0.8000\n",
            "Epoch 167/200\n",
            "1/1 [==============================] - 0s 11ms/step - loss: 1.0101 - accuracy: 0.6400\n",
            "Epoch 168/200\n",
            "1/1 [==============================] - 0s 12ms/step - loss: 0.8328 - accuracy: 0.6800\n",
            "Epoch 169/200\n",
            "1/1 [==============================] - 0s 12ms/step - loss: 0.6932 - accuracy: 0.8000\n",
            "Epoch 170/200\n",
            "1/1 [==============================] - 0s 15ms/step - loss: 0.7120 - accuracy: 0.7600\n",
            "Epoch 171/200\n",
            "1/1 [==============================] - 0s 23ms/step - loss: 0.9762 - accuracy: 0.6400\n",
            "Epoch 172/200\n",
            "1/1 [==============================] - 0s 12ms/step - loss: 0.9273 - accuracy: 0.6000\n",
            "Epoch 173/200\n",
            "1/1 [==============================] - 0s 18ms/step - loss: 0.9097 - accuracy: 0.7600\n",
            "Epoch 174/200\n",
            "1/1 [==============================] - 0s 14ms/step - loss: 0.7135 - accuracy: 0.8000\n",
            "Epoch 175/200\n",
            "1/1 [==============================] - 0s 15ms/step - loss: 0.6138 - accuracy: 0.8000\n",
            "Epoch 176/200\n",
            "1/1 [==============================] - 0s 12ms/step - loss: 0.7727 - accuracy: 0.6800\n",
            "Epoch 177/200\n",
            "1/1 [==============================] - 0s 14ms/step - loss: 0.5665 - accuracy: 0.8400\n",
            "Epoch 178/200\n",
            "1/1 [==============================] - 0s 15ms/step - loss: 0.7776 - accuracy: 0.8800\n",
            "Epoch 179/200\n",
            "1/1 [==============================] - 0s 15ms/step - loss: 0.6634 - accuracy: 0.8800\n",
            "Epoch 180/200\n",
            "1/1 [==============================] - 0s 15ms/step - loss: 0.6891 - accuracy: 0.9200\n",
            "Epoch 181/200\n",
            "1/1 [==============================] - 0s 16ms/step - loss: 0.6907 - accuracy: 0.8000\n",
            "Epoch 182/200\n",
            "1/1 [==============================] - 0s 17ms/step - loss: 0.6608 - accuracy: 0.9600\n",
            "Epoch 183/200\n",
            "1/1 [==============================] - 0s 13ms/step - loss: 0.6956 - accuracy: 0.8400\n",
            "Epoch 184/200\n",
            "1/1 [==============================] - 0s 15ms/step - loss: 0.7711 - accuracy: 0.8000\n",
            "Epoch 185/200\n",
            "1/1 [==============================] - 0s 16ms/step - loss: 0.6848 - accuracy: 0.7600\n",
            "Epoch 186/200\n",
            "1/1 [==============================] - 0s 14ms/step - loss: 0.7747 - accuracy: 0.7600\n",
            "Epoch 187/200\n",
            "1/1 [==============================] - 0s 13ms/step - loss: 0.7614 - accuracy: 0.6800\n",
            "Epoch 188/200\n",
            "1/1 [==============================] - 0s 14ms/step - loss: 0.9390 - accuracy: 0.7200\n",
            "Epoch 189/200\n",
            "1/1 [==============================] - 0s 14ms/step - loss: 0.6538 - accuracy: 0.8400\n",
            "Epoch 190/200\n",
            "1/1 [==============================] - 0s 15ms/step - loss: 0.5986 - accuracy: 0.9200\n",
            "Epoch 191/200\n",
            "1/1 [==============================] - 0s 12ms/step - loss: 0.6718 - accuracy: 0.8000\n",
            "Epoch 192/200\n",
            "1/1 [==============================] - 0s 11ms/step - loss: 0.7138 - accuracy: 0.8000\n",
            "Epoch 193/200\n",
            "1/1 [==============================] - 0s 13ms/step - loss: 0.5743 - accuracy: 0.8800\n",
            "Epoch 194/200\n",
            "1/1 [==============================] - 0s 13ms/step - loss: 0.4785 - accuracy: 0.9200\n",
            "Epoch 195/200\n",
            "1/1 [==============================] - 0s 13ms/step - loss: 0.4607 - accuracy: 0.9600\n",
            "Epoch 196/200\n",
            "1/1 [==============================] - 0s 11ms/step - loss: 0.7424 - accuracy: 0.7600\n",
            "Epoch 197/200\n",
            "1/1 [==============================] - 0s 11ms/step - loss: 0.5374 - accuracy: 0.8800\n",
            "Epoch 198/200\n",
            "1/1 [==============================] - 0s 17ms/step - loss: 0.5677 - accuracy: 0.8800\n",
            "Epoch 199/200\n",
            "1/1 [==============================] - 0s 10ms/step - loss: 0.6375 - accuracy: 0.8400\n",
            "Epoch 200/200\n",
            "1/1 [==============================] - 0s 16ms/step - loss: 0.5871 - accuracy: 0.8800\n"
          ]
        }
      ]
    },
    {
      "cell_type": "code",
      "source": [
        "import matplotlib.pyplot as plt\n",
        "import seaborn as sns\n",
        "\n",
        "# Entrenamiento\n",
        "epoch_count = range(1, len(hist.history['accuracy']) + 1)\n",
        "sns.lineplot(x=epoch_count,  y=hist.history['accuracy'], label='train')\n",
        "plt.show()"
      ],
      "metadata": {
        "colab": {
          "base_uri": "https://localhost:8080/",
          "height": 433
        },
        "id": "f6efKzewbwhR",
        "outputId": "eedc8228-a887-41c8-d401-7f1d2f1cef6d"
      },
      "execution_count": 127,
      "outputs": [
        {
          "output_type": "display_data",
          "data": {
            "text/plain": [
              "<Figure size 640x480 with 1 Axes>"
            ],
            "image/png": "[encoded data removed]"
          },
          "metadata": {}
        }
      ]
    },
    {
      "cell_type": "code",
      "source": [
        "# Guardar lo necesario para poder re-utilizar este modelo en el futuro\n",
        "# En NLP además de los modelos es necesario proveer: tokenizador y vocabulario.\n",
        "# La tríada modelo+tokenizador+vocabulario es necesaria para hacer inferencia.\n",
        "# Sin una de las tres no se puede hacer inferencia.\n",
        "\n",
        "# en este caso guardamos:\n",
        "# el vocabulario utilizado (words)\n",
        "# las posibles clases\n",
        "# el modelo\n",
        "import pickle\n",
        "pickle.dump(words, open('words.pkl','wb'))\n",
        "pickle.dump(classes, open('classes.pkl','wb'))\n",
        "model.save('chatbot_model.h5')"
      ],
      "metadata": {
        "id": "4t1XY6kvb2nk"
      },
      "execution_count": 128,
      "outputs": []
    },
    {
      "cell_type": "code",
      "source": [
        "# convertir texto de entrada del usuario a tokens\n",
        "def text_to_tokens(text):\n",
        "    lemma_tokens = []\n",
        "    tokens = nlp(preprocess_clean_text(text.lower()))\n",
        "    for token in tokens:\n",
        "        lemma_tokens.append(token.lemma_)\n",
        "    #print(lemma_tokens)\n",
        "    return lemma_tokens\n",
        "\n",
        "# transformar el texto de entrada tokenizado a una representación OHE\n",
        "def bag_of_words(text, vocab):\n",
        "    tokens = text_to_tokens(text)\n",
        "    bow = [0] * len(vocab)\n",
        "    for w in tokens:\n",
        "        for idx, word in enumerate(vocab):\n",
        "            if word == w:\n",
        "                bow[idx] = 1\n",
        "    #print(bow)\n",
        "    return np.array(bow)\n",
        "\n",
        "# usar modelo con la entrada en OHE y los labels posibles (tags)\n",
        "def pred_class(text, vocab, labels):\n",
        "    bow = bag_of_words(text, vocab)\n",
        "    words_recognized = sum(bow)\n",
        "\n",
        "    return_list = []\n",
        "    if words_recognized > 0: # sólo si reconoció alguna palabra del vocabulario\n",
        "        result = model.predict(np.array([bow]))[0] # es un array de softmax\n",
        "        thresh = 0.2\n",
        "        # filtrar aquellas entradas menores al umbral `thresh`\n",
        "        y_pred = [[idx, res] for idx, res in enumerate(result) if res > thresh]\n",
        "        # ordenar keys de acuerdo al valor softmax\n",
        "        y_pred.sort(key=lambda x: x[1], reverse=True)\n",
        "\n",
        "        # return_list es una lista de los labels de mayor a menor\n",
        "        for r in y_pred:\n",
        "            return_list.append(labels[r[0]])\n",
        "            #print(labels[r[0]], r[1])\n",
        "\n",
        "    # si no reconoció palabras del vocabulario se devuelve una lista vacía\n",
        "    return return_list\n",
        "\n",
        "# obtener una respuesta predeterminada\n",
        "def get_response(intents_list, intents_json):\n",
        "    tag = intents_list[0] # tomar el tag con el mejor valor softmax\n",
        "    list_of_intents = intents_json[\"intents\"] # intents_json es todo el dataset\n",
        "    for i in list_of_intents:\n",
        "        if i[\"tag\"] == tag: # buscar el tag correspoindiente y dar una respuesta predeterminada aleatoria\n",
        "            result = random.choice(i[\"responses\"])\n",
        "            break\n",
        "    return result"
      ],
      "metadata": {
        "id": "hlNIrwxYb-Fw"
      },
      "execution_count": 129,
      "outputs": []
    },
    {
      "cell_type": "code",
      "source": [
        "while True:\n",
        "    # pedir input al usuario\n",
        "    message = input(\"\")\n",
        "    print(\"Q:\", message)\n",
        "\n",
        "    intents = pred_class(message, words, classes)\n",
        "    if len(intents) > 0:\n",
        "        result = get_response(intents, dataset)\n",
        "        print(\"BOT:\", result)\n",
        "    else: # si no hubo ningún resultado que supere el umbral\n",
        "        print(\"BOT: Perdón, no comprendo la pregunta.\")\n",
        "        break"
      ],
      "metadata": {
        "colab": {
          "base_uri": "https://localhost:8080/"
        },
        "id": "FJE1molzcQDl",
        "outputId": "16a35343-75d8-4959-ae0e-69cb07506311"
      },
      "execution_count": 131,
      "outputs": [
        {
          "output_type": "stream",
          "name": "stdout",
          "text": [
            "hola\n",
            "Q: hola\n",
            "1/1 [==============================] - 0s 26ms/step\n",
            "BOT: Bienvenido a MedicOnline. ¿En que te puedo ayudar?\n",
            "tengo alguna cita programada?\n",
            "Q: tengo alguna cita programada?\n",
            "1/1 [==============================] - 0s 27ms/step\n",
            "BOT: No se encontraron citas programadas\n",
            "me gustaría programar una cita\n",
            "Q: me gustaría programar una cita\n",
            "1/1 [==============================] - 0s 33ms/step\n",
            "BOT: ¿Para cuando quieres tu cita?\n",
            "realmente tengo una urgencia\n",
            "Q: realmente tengo una urgencia\n",
            "1/1 [==============================] - 0s 29ms/step\n",
            "BOT: Hola! Bienvinido a MedicOnline. ¿En que te puedo ayudar?\n",
            "tengo una emergencia\n",
            "Q: tengo una emergencia\n",
            "1/1 [==============================] - 0s 24ms/step\n",
            "BOT: Envíe su ubicación y una ambulancia andará en camino\n",
            "me puedo contactar con un doctor\n",
            "Q: me puedo contactar con un doctor\n",
            "1/1 [==============================] - 0s 26ms/step\n",
            "BOT: Enseguida lo derivaremos con un doctor de urgencias...\n",
            "gracias\n",
            "Q: gracias\n",
            "1/1 [==============================] - 0s 35ms/step\n",
            "BOT: Que te mejores!\n",
            "thanks\n",
            "Q: thanks\n",
            "BOT: Perdón, no comprendo la pregunta.\n"
          ]
        }
      ]
    },
    {
      "cell_type": "markdown",
      "source": [
        "**Analsis**\n",
        "\n",
        "Como se puede observar, se implementó el mismo bot hecho en clases, pero usando un dataset distinto que simulaba un bot medico. Si bien contactaba a emergencias por ti, tambien podía agendar citas, etc.\n",
        "\n",
        "La vectorización que se utilizo durante el pre-procesamiento fue TF-IDF a diferencia del bot original que utilizaba OneHotEncoder. El cambio de vectorización no afecto notablemente en el rendimiento del bot.\n",
        "\n",
        "Por otro lado, según la prueba conversacional hecha anteriormente, es notable que el modelo es capaz de encontrar la clase correcta cuando se utilizan palabras que se repiten varias veces en el patron. Por ejemplo:\n",
        "\n",
        "en la pregunta que le hace el usuario: \"realmente tengo una urgencia\", el bot no es capaz de distinguir con precisión en esta oportunidad la clase correcta. Puede que se deba a que solo una de las palabras en la oración era relevante para distinguir la frase.\n",
        "\n",
        "En general, el bot siguió siendo bastante preciso, tambíen se disminuyó la cantidad de neuronas de la red neuronal, pero al ser un dataset tan pequeño la red sigue funcionando bastante bien."
      ],
      "metadata": {
        "id": "kgpwbz8tgTxr"
      }
    }
  ]
}